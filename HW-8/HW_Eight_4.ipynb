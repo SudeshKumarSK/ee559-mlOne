{
 "cells": [
  {
   "attachments": {},
   "cell_type": "markdown",
   "metadata": {},
   "source": [
    "# Homework : 8 Machine Learning - 1 (Supervised Methods)"
   ]
  },
  {
   "attachments": {},
   "cell_type": "markdown",
   "metadata": {},
   "source": [
    "## Mahalanobis distance and Bayes classification for minimum error"
   ]
  },
  {
   "attachments": {},
   "cell_type": "markdown",
   "metadata": {},
   "source": [
    "### Importing the necessary libraries."
   ]
  },
  {
   "cell_type": "code",
   "execution_count": 1,
   "metadata": {},
   "outputs": [],
   "source": [
    "import numpy as np"
   ]
  },
  {
   "attachments": {},
   "cell_type": "markdown",
   "metadata": {},
   "source": [
    "### 4] (A)"
   ]
  },
  {
   "cell_type": "code",
   "execution_count": 6,
   "metadata": {},
   "outputs": [],
   "source": [
    "# Set the mean vectors for the two classes\n",
    "mean_vector_1 = [2, 1]\n",
    "mean_vector_2 = [-2, 1]\n",
    "\n",
    "# Set the covariance matrix\n",
    "cov_matrix_1 = np.array([[1, -1], \n",
    "                         [-1, 4]])\n",
    "\n",
    "cov_matrix_2 = np.array([[1, -1], \n",
    "                         [-1, 4]])\n",
    "\n",
    "\n",
    "# Set the number of samples\n",
    "n_samples = 100\n",
    "\n",
    "# Generate the dataset for class 1\n",
    "X1 = np.random.multivariate_normal(mean=mean_vector_1, cov=cov_matrix_1, size=n_samples)\n",
    "\n",
    "# Generate the dataset for class 2\n",
    "X2 = np.random.multivariate_normal(mean=mean_vector_2, cov=cov_matrix_2, size=n_samples)\n",
    "\n",
    "# Concatenate the two datasets\n",
    "X = np.concatenate([X1, X2])"
   ]
  },
  {
   "cell_type": "code",
   "execution_count": 8,
   "metadata": {},
   "outputs": [
    {
     "data": {
      "text/plain": [
       "array([[ 1.18483645, -0.93478438],\n",
       "       [-0.93478438,  4.44905592]])"
      ]
     },
     "execution_count": 8,
     "metadata": {},
     "output_type": "execute_result"
    }
   ],
   "source": []
  },
  {
   "cell_type": "code",
   "execution_count": null,
   "metadata": {},
   "outputs": [],
   "source": []
  }
 ],
 "metadata": {
  "kernelspec": {
   "display_name": "ml",
   "language": "python",
   "name": "python3"
  },
  "language_info": {
   "codemirror_mode": {
    "name": "ipython",
    "version": 3
   },
   "file_extension": ".py",
   "mimetype": "text/x-python",
   "name": "python",
   "nbconvert_exporter": "python",
   "pygments_lexer": "ipython3",
   "version": "3.10.8"
  },
  "orig_nbformat": 4
 },
 "nbformat": 4,
 "nbformat_minor": 2
}
