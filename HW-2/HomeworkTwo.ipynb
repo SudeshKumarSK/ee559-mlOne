{
 "cells": [
  {
   "attachments": {},
   "cell_type": "markdown",
   "metadata": {},
   "source": [
    "# Homework : 2 Machine Learning - 1 (Supervised Methods)"
   ]
  },
  {
   "attachments": {},
   "cell_type": "markdown",
   "metadata": {},
   "source": [
    "## 2. C-class nearest-means classifier (NMC), for C classes and D features."
   ]
  },
  {
   "attachments": {},
   "cell_type": "markdown",
   "metadata": {},
   "source": [
    "### a] Run it on the given dataset. There are C = 5 classes and D = 7 features. Report the classification accuracy on the training set and test set."
   ]
  },
  {
   "cell_type": "markdown",
   "metadata": {},
   "source": [
    "### Importing Necessary Libraries"
   ]
  },
  {
   "cell_type": "code",
   "execution_count": null,
   "metadata": {},
   "outputs": [],
   "source": [
    "#Importing Libraries.\n",
    "import pandas as pd\n",
    "import numpy as np\n",
    "import matplotlib.pyplot as plt\n",
    "\n",
    "#Importing the nearestMeansClassifier library from utils package.\n",
    "from utils import nearestMeansClassifier\n",
    "\n",
    "#Importing the plotGraph library to plot CER vs m\n",
    "from utils import plotGraph as pg"
   ]
  },
  {
   "attachments": {},
   "cell_type": "markdown",
   "metadata": {},
   "source": [
    "### Loading the Training Data and Testing Data from HW2_Datasets using Pandas"
   ]
  },
  {
   "cell_type": "code",
   "execution_count": null,
   "metadata": {},
   "outputs": [],
   "source": [
    "train_data = pd.read_csv(\"./HW2_Datasets/HW2_train_set.csv\")\n",
    "print(\"Train Data: \")\n",
    "print(train_data.head())\n",
    "print()\n",
    "\n",
    "test_data = pd.read_csv(\"./HW2_Datasets/HW2_test_set.csv\")\n",
    "print(\"Test Data: \")\n",
    "print(test_data.head())"
   ]
  },
  {
   "attachments": {},
   "cell_type": "markdown",
   "metadata": {},
   "source": [
    "### Instantiating objects for <strong> <em> NearestMeansClassifier() class </strong> </em> one for <strong> <em> train_data </strong> </em>."
   ]
  },
  {
   "cell_type": "code",
   "execution_count": null,
   "metadata": {},
   "outputs": [],
   "source": [
    "nmc_1 = nearestMeansClassifier.NearestMeansClassifier()"
   ]
  },
  {
   "cell_type": "code",
   "execution_count": null,
   "metadata": {},
   "outputs": [],
   "source": [
    "X_train, n_train, T_train = nmc_1.generateData(data=train_data)\n",
    "\n",
    "class_means = nmc_1.calculateClassMeans(X=X_train)\n",
    "print(\"---------------------------------------------------\")\n",
    "print(f\"  Shape of sample_means: {class_means.shape}\")\n",
    "# print(f\"  Sample Means: \")\n",
    "# print(class_means)\n",
    "print(\"---------------------------------------------------\")\n",
    "\n",
    "Y_hat_train = nmc_1.classify(X=X_train, sample_means=class_means)\n",
    "\n",
    "CER_train = nmc_1.calculateCER(T=T_train, Y_hat=Y_hat_train, percentageFlag=True)\n",
    "\n",
    "accuracy_train = nmc_1.calculateAccuracy(T=T_train, Y_hat=Y_hat_train, percentageFlag=True)\n",
    "\n",
    "print(f\"Classification Error Rate for the training set of dataset-1 is: {CER_train}%\")\n",
    "print(f\"Accuracy for the training set of dataset-1 is: {accuracy_train}%\")\n",
    "\n"
   ]
  },
  {
   "attachments": {},
   "cell_type": "markdown",
   "metadata": {},
   "source": [
    "### (b) i] For visualization, run it again using only the following 2 features: X1 and X2. Plot in 2D feature space: the training data, decision boundaries, and decision regions for all the classes."
   ]
  },
  {
   "cell_type": "code",
   "execution_count": null,
   "metadata": {},
   "outputs": [],
   "source": [
    "nmc_2features = nearestMeansClassifier.NearestMeansClassifier()"
   ]
  },
  {
   "cell_type": "code",
   "execution_count": null,
   "metadata": {},
   "outputs": [],
   "source": [
    "feature1 = 1\n",
    "feature2 = 2\n",
    "X_train, n_train, T_train = nmc_2features.generateData(data=train_data)\n",
    "\n",
    "X_train_2features_1 = nmc_2features.generateTrainDataWith2Features(feature1, feature2, X_train, printFlag=True)\n",
    "\n",
    "class_means_2features_1 = nmc_2features.calculateClassMeans(X=X_train_2features_1)\n",
    "print(\"---------------------------------------------------\")\n",
    "print(f\"  Shape of sample_means: {class_means_2features_1.shape}\")\n",
    "print(f\"  Sample Means: \")\n",
    "print(class_means_2features_1)\n",
    "print(\"---------------------------------------------------\")\n",
    "\n",
    "Y_hat_train_2features_1 = nmc_2features.classify(X=X_train_2features_1, sample_means=class_means_2features_1)\n",
    "\n",
    "CER_train_2features_1 = nmc_2features.calculateCER(T=T_train, Y_hat=Y_hat_train_2features_1, percentageFlag=True)\n",
    "\n",
    "accuracy_train_2features_1 = nmc_2features.calculateAccuracy(T=T_train, Y_hat=Y_hat_train_2features_1, percentageFlag=True)\n",
    "\n",
    "print(f\"Classification Error Rate for the training set of dataset-1 is: {CER_train_2features_1}%\")\n",
    "print(f\"Accuracy for the training set of dataset-1 is: {accuracy_train_2features_1}%\")\n"
   ]
  },
  {
   "attachments": {},
   "cell_type": "markdown",
   "metadata": {},
   "source": [
    "### b] ii] Plotting Decsision Boundaries for the X_train_2features_1 (X1 and X2)"
   ]
  },
  {
   "cell_type": "code",
   "execution_count": null,
   "metadata": {},
   "outputs": [],
   "source": [
    "nmc_2features.plotDecisionBoundaries_2(training=X_train_2features_1, label_train=T_train, sample_mean=class_means_2features_1, fsize=(18,18))"
   ]
  },
  {
   "attachments": {},
   "cell_type": "markdown",
   "metadata": {},
   "source": [
    "### (c) i] For visualization, run it again using only the following 2 features: X3 and X4. Plot in 2D feature space: the training data, decision boundaries, and decision regions for all the classes."
   ]
  },
  {
   "cell_type": "code",
   "execution_count": null,
   "metadata": {},
   "outputs": [],
   "source": [
    "nmc_2features = nearestMeansClassifier.NearestMeansClassifier()\n",
    "\n",
    "feature1 = 3\n",
    "feature2 = 4\n",
    "X_train, n_train, T_train = nmc_2features.generateData(data=train_data)\n",
    "\n",
    "X_train_2features_2 = nmc_2features.generateTrainDataWith2Features(feature1, feature2, X_train, printFlag=True)\n",
    "\n",
    "class_means_2features_2 = nmc_2features.calculateClassMeans(X=X_train_2features_2)\n",
    "print(\"---------------------------------------------------\")\n",
    "print(f\"  Shape of sample_means: {class_means_2features_2.shape}\")\n",
    "print(f\"  Sample Means: \")\n",
    "print(class_means_2features_2)\n",
    "print(\"---------------------------------------------------\")\n",
    "\n",
    "Y_hat_train_2features_2 = nmc_2features.classify(X=X_train_2features_2, sample_means=class_means_2features_2)\n",
    "\n",
    "CER_train_2features_2 = nmc_2features.calculateCER(T=T_train, Y_hat=Y_hat_train_2features_2, percentageFlag=True)\n",
    "\n",
    "accuracy_train_2features_2 = nmc_2features.calculateAccuracy(T=T_train, Y_hat=Y_hat_train_2features_2, percentageFlag=True)\n",
    "\n",
    "print(f\"Classification Error Rate for the training set of dataset-1 is: {CER_train_2features_2}%\")\n",
    "print(f\"Accuracy for the training set of dataset-1 is: {accuracy_train_2features_2}%\")"
   ]
  },
  {
   "attachments": {},
   "cell_type": "markdown",
   "metadata": {},
   "source": [
    "### c] ii] Plotting Decsision Boundaries for the X_train_2features_2 (X3 and X4)"
   ]
  },
  {
   "cell_type": "code",
   "execution_count": null,
   "metadata": {},
   "outputs": [],
   "source": [
    "nmc_2features.plotDecisionBoundaries_2(training=X_train_2features_2, label_train=T_train, sample_mean=class_means_2features_2, fsize=(18,18))"
   ]
  }
 ],
 "metadata": {
  "kernelspec": {
   "display_name": "ml",
   "language": "python",
   "name": "python3"
  },
  "language_info": {
   "codemirror_mode": {
    "name": "ipython",
    "version": 3
   },
   "file_extension": ".py",
   "mimetype": "text/x-python",
   "name": "python",
   "nbconvert_exporter": "python",
   "pygments_lexer": "ipython3",
   "version": "3.10.8"
  },
  "orig_nbformat": 4,
  "vscode": {
   "interpreter": {
    "hash": "a93cbcc8f689737a56379ee2b682729639c657947f027c47bdf18bc4994fa06e"
   }
  }
 },
 "nbformat": 4,
 "nbformat_minor": 2
}
