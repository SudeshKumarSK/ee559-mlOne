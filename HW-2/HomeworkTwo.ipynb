{
 "cells": [
  {
   "attachments": {},
   "cell_type": "markdown",
   "metadata": {},
   "source": [
    "# Homework : 2 Machine Learning - 1 (Supervised Methods)"
   ]
  },
  {
   "attachments": {},
   "cell_type": "markdown",
   "metadata": {},
   "source": [
    "## 2. C-class nearest-means classifier (NMC), for C classes and D features."
   ]
  },
  {
   "cell_type": "markdown",
   "metadata": {},
   "source": [
    "### Importing Necessary Libraries"
   ]
  },
  {
   "cell_type": "code",
   "execution_count": 1,
   "metadata": {},
   "outputs": [],
   "source": [
    "#Importing Libraries.\n",
    "import pandas as pd\n",
    "import numpy as np\n",
    "import matplotlib.pyplot as plt\n",
    "\n",
    "#Importing the nearestMeansClassifier library from utils package.\n",
    "from utils import nearestMeansClassifier\n",
    "\n",
    "#Importing the plotGraph library to plot CER vs m\n",
    "from utils import plotGraph as pg"
   ]
  },
  {
   "attachments": {},
   "cell_type": "markdown",
   "metadata": {},
   "source": [
    "### Loading the Training Data and Testing Data from HW2_Datasets using Pandas"
   ]
  },
  {
   "cell_type": "code",
   "execution_count": 2,
   "metadata": {},
   "outputs": [
    {
     "name": "stdout",
     "output_type": "stream",
     "text": [
      "Train Data: \n",
      "         X1        X2        X3        X4        X5        X6        X7  Class\n",
      "0  3.331309  0.199388  0.511930  3.546394  3.501046 -0.988523  1.424119      4\n",
      "1  4.923320  1.714349 -1.733554  3.908366  1.779802 -0.928249  0.307568      0\n",
      "2  3.480943  0.472072 -1.566615  4.244122  0.010020 -2.899989  0.706875      0\n",
      "3  1.297407  2.025849  5.609849  1.759304  3.795999  4.919387  0.545626      2\n",
      "4  4.540691 -1.005979 -3.846193  4.729157  2.783594 -1.138115  0.467317      0\n",
      "\n",
      "Test Data: \n",
      "         X1        X2        X3        X4        X5        X6        X7  Class\n",
      "0  0.461124  0.088944  1.912568  0.419696 -0.228390 -1.840807  1.634009      4\n",
      "1  1.853865  6.754218  3.936953  4.412639  2.596076 -4.091204  5.054838      3\n",
      "2  6.290771  2.560742  0.338448  4.649877  2.621144 -0.462739 -2.035173      0\n",
      "3  4.253980  1.126030 -1.857628  4.088797  3.687401 -2.316638 -1.810089      0\n",
      "4  0.280335  3.315180  5.771898  1.051240  1.938454  4.384316  2.662093      2\n"
     ]
    }
   ],
   "source": [
    "#train_data is the pandas dataframe holding the training data.\n",
    "train_data = pd.read_csv(\"./HW2_Datasets/HW2_train_set.csv\")\n",
    "print(\"Train Data: \")\n",
    "print(train_data.head())\n",
    "print()\n",
    "\n",
    "#test_data is the pandas dataframe holding the test data.\n",
    "test_data = pd.read_csv(\"./HW2_Datasets/HW2_test_set.csv\")\n",
    "print(\"Test Data: \")\n",
    "print(test_data.head())"
   ]
  },
  {
   "attachments": {},
   "cell_type": "markdown",
   "metadata": {},
   "source": [
    "## (a) Run it on the given dataset. There are C = 5 classes and D = 7 features."
   ]
  },
  {
   "attachments": {},
   "cell_type": "markdown",
   "metadata": {},
   "source": [
    "### Instantiating objects for <strong> <em> NearestMeansClassifier() class </strong> </em> one for <strong> <em> train_data </strong> </em>."
   ]
  },
  {
   "cell_type": "code",
   "execution_count": 3,
   "metadata": {},
   "outputs": [],
   "source": [
    "nmc_1 = nearestMeansClassifier.NearestMeansClassifier()"
   ]
  },
  {
   "attachments": {},
   "cell_type": "markdown",
   "metadata": {},
   "source": [
    "### (a) i] Performing Classification using nmc_1 on the train_data with all 7 features"
   ]
  },
  {
   "cell_type": "code",
   "execution_count": 4,
   "metadata": {},
   "outputs": [
    {
     "name": "stdout",
     "output_type": "stream",
     "text": [
      "---------------------------------------------------\n",
      "  Shape of Input Data: (1050, 8)\n",
      "  Number of Data Points: 1050\n",
      "  Number of Input Features: 7\n",
      "  Number of Target Classes: 5\n",
      "---------------------------------------------------\n",
      "---------------------------------------------------\n",
      "  Shape of sample_means: (5, 7)\n",
      "  Sample Means: \n",
      "[[ 4.28147871  1.20108426 -1.37040891  4.63625254  1.68940366 -1.34148042\n",
      "  -0.48377135]\n",
      " [ 3.22972494  1.07643941  2.07045979  2.55846495 -1.65234996  1.60513881\n",
      "  -1.5393723 ]\n",
      " [ 0.7851701   2.7408094   5.01696957  1.00526839  1.55731721  4.36506082\n",
      "   0.19203977]\n",
      " [ 4.14645713  4.27985188  3.28154766  4.44752838 -0.03318571 -0.52154097\n",
      "   3.26751149]\n",
      " [ 2.76907036  1.76295742 -0.67844556  2.8697092   0.57576989 -0.45225762\n",
      "   1.24928872]]\n",
      "---------------------------------------------------\n"
     ]
    }
   ],
   "source": [
    "X_train, n_train, T_train = nmc_1.generateData(data=train_data)\n",
    "\n",
    "class_means = nmc_1.calculateClassMeans(X=X_train)\n",
    "print(\"---------------------------------------------------\")\n",
    "print(f\"  Shape of sample_means: {class_means.shape}\")\n",
    "print(f\"  Sample Means: \")\n",
    "print(class_means)\n",
    "print(\"---------------------------------------------------\")"
   ]
  },
  {
   "attachments": {},
   "cell_type": "markdown",
   "metadata": {},
   "source": [
    "### (a) i] Report the classification accuracy on the training set."
   ]
  },
  {
   "cell_type": "code",
   "execution_count": 5,
   "metadata": {},
   "outputs": [
    {
     "name": "stdout",
     "output_type": "stream",
     "text": [
      "Accuracy for the Training set is: 85.23809523809524%\n",
      "Classification Error Rate for the Training Set is: 14.761904761904763%\n"
     ]
    }
   ],
   "source": [
    "Y_hat_train = nmc_1.classify(X=X_train, sample_means=class_means)\n",
    "\n",
    "CER_train = nmc_1.calculateCER(T=T_train, Y_hat=Y_hat_train, trainTestFlag=\"train\", percentageFlag=True)\n",
    "\n",
    "accuracy_train = nmc_1.calculateAccuracy(T=T_train, Y_hat=Y_hat_train, trainTestFlag=\"train\", percentageFlag=True)\n",
    "\n",
    "print(f\"Accuracy for the Training set is: {accuracy_train}%\")\n",
    "print(f\"Classification Error Rate for the Training Set is: {CER_train}%\")\n"
   ]
  },
  {
   "attachments": {},
   "cell_type": "markdown",
   "metadata": {},
   "source": [
    "### (a) ii] Performing Classification using nmc_1 on the test_data with all 7 features"
   ]
  },
  {
   "cell_type": "code",
   "execution_count": 6,
   "metadata": {},
   "outputs": [
    {
     "name": "stdout",
     "output_type": "stream",
     "text": [
      "(450, 7)\n"
     ]
    }
   ],
   "source": [
    "X_test, n_test, T_test = nmc_1.transformTestData(test_data=test_data)\n",
    "print(X_test.shape)"
   ]
  },
  {
   "attachments": {},
   "cell_type": "markdown",
   "metadata": {},
   "source": [
    "### (a) ii] Report the classification accuracy on the test set."
   ]
  },
  {
   "cell_type": "code",
   "execution_count": 7,
   "metadata": {},
   "outputs": [
    {
     "name": "stdout",
     "output_type": "stream",
     "text": [
      "Accuracy for the Test set is: 82.44444444444444%\n",
      "Classification Error Rate for the Test Set is: 17.555555555555554%\n"
     ]
    }
   ],
   "source": [
    "Y_hat_test = nmc_1.classify(X=X_test, sample_means=class_means)\n",
    "\n",
    "CER_test = nmc_1.calculateCER(T=T_test, Y_hat=Y_hat_test, trainTestFlag=\"test\", percentageFlag=True)\n",
    "\n",
    "accuracy_test = nmc_1.calculateAccuracy(T=T_test, Y_hat=Y_hat_test, trainTestFlag=\"test\", percentageFlag=True)\n",
    "\n",
    "print(f\"Accuracy for the Test set is: {accuracy_test}%\")\n",
    "print(f\"Classification Error Rate for the Test Set is: {CER_test}%\")\n"
   ]
  },
  {
   "attachments": {},
   "cell_type": "markdown",
   "metadata": {},
   "source": [
    "## (b) For visualization, run it again using only the following 2 features: X1 and X2. "
   ]
  },
  {
   "attachments": {},
   "cell_type": "markdown",
   "metadata": {},
   "source": [
    "### (b) i] Performing Classification using nmc_2features on Training data with only 2 features, X1 and X2."
   ]
  },
  {
   "cell_type": "code",
   "execution_count": 8,
   "metadata": {},
   "outputs": [],
   "source": [
    "nmc_2features = nearestMeansClassifier.NearestMeansClassifier()\n",
    "feature1 = 1\n",
    "feature2 = 2"
   ]
  },
  {
   "cell_type": "code",
   "execution_count": 9,
   "metadata": {},
   "outputs": [
    {
     "name": "stdout",
     "output_type": "stream",
     "text": [
      "---------------------------------------------------\n",
      "  Shape of Input Data: (1050, 8)\n",
      "  Number of Data Points: 1050\n",
      "  Number of Input Features: 7\n",
      "  Number of Target Classes: 5\n",
      "---------------------------------------------------\n",
      "---------------------------------------------------\n",
      "  After retaining only 2 features [1 and 2]: \n",
      "  Shape of X_2_features: (1050, 2)\n",
      "  Number of Data Points: 1050\n",
      "  Number of Input Features: 2\n",
      "  Number of Target Classes: 5\n",
      "---------------------------------------------------\n",
      "---------------------------------------------------\n",
      "  Shape of sample_means: (5, 2)\n",
      "  Sample Means: \n",
      "[[4.28147871 1.20108426]\n",
      " [3.22972494 1.07643941]\n",
      " [0.7851701  2.7408094 ]\n",
      " [4.14645713 4.27985188]\n",
      " [2.76907036 1.76295742]]\n",
      "---------------------------------------------------\n"
     ]
    }
   ],
   "source": [
    "X_train, n_train, T_train = nmc_2features.generateData(data=train_data)\n",
    "\n",
    "X_train_2features_1 = nmc_2features.generateDataWith2Features(feature1=feature1, feature2=feature2, X=X_train, n=n_train, printFlag=True)\n",
    "\n",
    "class_means_2features_1 = nmc_2features.calculateClassMeans(X=X_train_2features_1, redFlag=True)\n",
    "print(\"---------------------------------------------------\")\n",
    "print(f\"  Shape of sample_means: {class_means_2features_1.shape}\")\n",
    "print(f\"  Sample Means: \")\n",
    "print(class_means_2features_1)\n",
    "print(\"---------------------------------------------------\")\n",
    "\n",
    "Y_hat_train_2features_1 = nmc_2features.classify(X=X_train_2features_1, sample_means=class_means_2features_1)"
   ]
  },
  {
   "attachments": {},
   "cell_type": "markdown",
   "metadata": {},
   "source": [
    "### b] ii] Plotting Decision Boundaries for the X_train_2features_1 (X1 and X2) in 2D Space."
   ]
  },
  {
   "cell_type": "code",
   "execution_count": 10,
   "metadata": {},
   "outputs": [],
   "source": [
    "# nmc_2features.plotDecisionBoundaries_2(training=X_train_2features_1, label_train=T_train, sample_mean=class_means_2features_1, fsize=(18,18))"
   ]
  },
  {
   "attachments": {},
   "cell_type": "markdown",
   "metadata": {},
   "source": [
    "### (b) iii] Report the classification accuracy on the Training set using only the 2 features."
   ]
  },
  {
   "cell_type": "code",
   "execution_count": 11,
   "metadata": {},
   "outputs": [
    {
     "name": "stdout",
     "output_type": "stream",
     "text": [
      "Accuracy for the Training set with only feature - 1 and feature - 2 is: 50.857142857142854%\n",
      "Classification Error Rate for the Training set with only feature - 1 and feature - 2 is: 49.142857142857146%\n"
     ]
    }
   ],
   "source": [
    "CER_train_2features_1 = nmc_2features.calculateCER(T=T_train, Y_hat=Y_hat_train_2features_1, trainTestFlag=\"train\", percentageFlag=True)\n",
    "\n",
    "accuracy_train_2features_1 = nmc_2features.calculateAccuracy(T=T_train, Y_hat=Y_hat_train_2features_1, trainTestFlag=\"train\", percentageFlag=True)\n",
    "\n",
    "\n",
    "print(f\"Accuracy for the Training set with only feature - {feature1} and feature - {feature2} is: {accuracy_train_2features_1}%\")\n",
    "print(f\"Classification Error Rate for the Training set with only feature - {feature1} and feature - {feature2} is: {CER_train_2features_1}%\")\n"
   ]
  },
  {
   "attachments": {},
   "cell_type": "markdown",
   "metadata": {},
   "source": [
    "### (b) iv] Performing Classification using nmc_2features on Test data with only 2 features, X1 and X2."
   ]
  },
  {
   "cell_type": "code",
   "execution_count": 12,
   "metadata": {},
   "outputs": [
    {
     "name": "stdout",
     "output_type": "stream",
     "text": [
      "(450, 7)\n",
      "---------------------------------------------------\n",
      "  After retaining only 2 features [1 and 2]: \n",
      "  Shape of X_2_features: (450, 2)\n",
      "  Number of Data Points: 450\n",
      "  Number of Input Features: 2\n",
      "  Number of Target Classes: 5\n",
      "---------------------------------------------------\n"
     ]
    }
   ],
   "source": [
    "X_test, n_test, T_test = nmc_2features.transformTestData(test_data=test_data)\n",
    "\n",
    "X_test_2features_1 = nmc_2features.generateDataWith2Features(feature1=feature1, feature2=feature2, X=X_test, n=n_test, printFlag=True)\n",
    "\n",
    "Y_hat_test_2features_1 = nmc_2features.classify(X=X_test_2features_1, sample_means=class_means_2features_1)"
   ]
  },
  {
   "attachments": {},
   "cell_type": "markdown",
   "metadata": {},
   "source": [
    "### b] ii] Plotting Decision Boundaries for the X_test_2features_1 (X1 and X2) in 2D Space."
   ]
  },
  {
   "cell_type": "code",
   "execution_count": 13,
   "metadata": {},
   "outputs": [],
   "source": [
    "# nmc_2features.plotDecisionBoundaries_2(training=X_test_2features_1, label_train=T_test, sample_mean=class_means_2features_1, fsize=(18,18))"
   ]
  },
  {
   "attachments": {},
   "cell_type": "markdown",
   "metadata": {},
   "source": [
    "### (b) vi] Report the classification accuracy on the Test set using only the 2 features."
   ]
  },
  {
   "cell_type": "code",
   "execution_count": 14,
   "metadata": {},
   "outputs": [
    {
     "name": "stdout",
     "output_type": "stream",
     "text": [
      "Accuracy for the Test set with only feature - 1 and feature - 2 is: 50.857142857142854%\n",
      "Classification Error Rate for the Test set with only feature - 1 and feature - 2 is: 49.142857142857146%\n"
     ]
    }
   ],
   "source": [
    "CER_test_2features_1 = nmc_2features.calculateCER(T=T_test, Y_hat=Y_hat_test_2features_1, trainTestFlag=\"test\", percentageFlag=True)\n",
    "\n",
    "accuracy_test_2features_1 = nmc_2features.calculateAccuracy(T=T_train, Y_hat=Y_hat_train_2features_1, trainTestFlag=\"test\", percentageFlag=True)\n",
    "\n",
    "\n",
    "print(f\"Accuracy for the Test set with only feature - {feature1} and feature - {feature2} is: {accuracy_train_2features_1}%\")\n",
    "print(f\"Classification Error Rate for the Test set with only feature - {feature1} and feature - {feature2} is: {CER_train_2features_1}%\")\n"
   ]
  },
  {
   "attachments": {},
   "cell_type": "markdown",
   "metadata": {},
   "source": [
    "## (c) Repeat (b) using only the following features: X3 and X4."
   ]
  },
  {
   "attachments": {},
   "cell_type": "markdown",
   "metadata": {},
   "source": [
    "### (c) i] Performing Classification using nmc_2features on Training data with only 2 features, X1 and X2."
   ]
  }
 ],
 "metadata": {
  "kernelspec": {
   "display_name": "ml",
   "language": "python",
   "name": "python3"
  },
  "language_info": {
   "codemirror_mode": {
    "name": "ipython",
    "version": 3
   },
   "file_extension": ".py",
   "mimetype": "text/x-python",
   "name": "python",
   "nbconvert_exporter": "python",
   "pygments_lexer": "ipython3",
   "version": "3.10.8"
  },
  "orig_nbformat": 4,
  "vscode": {
   "interpreter": {
    "hash": "a93cbcc8f689737a56379ee2b682729639c657947f027c47bdf18bc4994fa06e"
   }
  }
 },
 "nbformat": 4,
 "nbformat_minor": 2
}
