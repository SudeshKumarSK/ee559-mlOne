{
 "cells": [
  {
   "attachments": {},
   "cell_type": "markdown",
   "metadata": {},
   "source": [
    "# Homework : 3 Machine Learning - 1 (Supervised Methods)"
   ]
  },
  {
   "attachments": {},
   "cell_type": "markdown",
   "metadata": {},
   "source": [
    "## 4. Code up a 2-class perceptron learning algorithm and classifier."
   ]
  },
  {
   "attachments": {},
   "cell_type": "markdown",
   "metadata": {},
   "source": [
    "### Importing Necessary Libraries"
   ]
  },
  {
   "cell_type": "code",
   "execution_count": 1,
   "metadata": {},
   "outputs": [],
   "source": [
    "#Importing Libraries.\n",
    "import pandas as pd\n",
    "import numpy as np\n",
    "import matplotlib.pyplot as plt\n",
    "\n",
    "#Importing the nearestMeansClassifier library from utils package.\n",
    "from utils import  perceptron"
   ]
  },
  {
   "attachments": {},
   "cell_type": "markdown",
   "metadata": {},
   "source": [
    "### Loading the Training Data and Testing Data from dataset-1 using Pandas"
   ]
  },
  {
   "cell_type": "code",
   "execution_count": 2,
   "metadata": {},
   "outputs": [
    {
     "name": "stdout",
     "output_type": "stream",
     "text": [
      "Train Data -> 1: \n",
      "          0         1    2\n",
      "0  2.199291  3.690399  1.0\n",
      "1  0.472634 -0.709271  2.0\n",
      "2 -0.026662 -1.335827  2.0\n",
      "3 -0.116866 -1.336345  2.0\n",
      "4  2.100909  1.143771  2.0\n",
      "\n",
      "Test Data -> 1: \n",
      "          0         1    2\n",
      "0  1.226845  0.273791  2.0\n",
      "1 -0.929775  0.300098  1.0\n",
      "2  0.220924  0.835073  1.0\n",
      "3  0.783772 -0.233020  2.0\n",
      "4  2.116507  0.728805  2.0\n"
     ]
    }
   ],
   "source": [
    "train_data_1 = pd.read_csv(\"./HW3_datasets/dataset1_train.csv\", header=None)\n",
    "print(\"Train Data -> 1: \")\n",
    "print(train_data_1.head())\n",
    "print()\n",
    "\n",
    "test_data_1 = pd.read_csv(\"./HW3_datasets/dataset1_test.csv\", header=None)\n",
    "print(\"Test Data -> 1: \")\n",
    "print(test_data_1.head())"
   ]
  },
  {
   "attachments": {},
   "cell_type": "markdown",
   "metadata": {},
   "source": [
    "### Loading the Training Data and Testing Data from dataset-2 using Pandas"
   ]
  },
  {
   "cell_type": "code",
   "execution_count": 3,
   "metadata": {},
   "outputs": [
    {
     "name": "stdout",
     "output_type": "stream",
     "text": [
      "Train Data -> 2: \n",
      "          0         1    2\n",
      "0  0.493655  0.905948  1.0\n",
      "1  0.872053 -0.355721  2.0\n",
      "2 -0.009021  0.132694  2.0\n",
      "3 -0.578481  1.000596  1.0\n",
      "4 -0.438395  1.038901  1.0\n",
      "\n",
      "Train Data -> 2: \n",
      "          0         1    2\n",
      "0 -0.070044 -0.118457  2.0\n",
      "1 -0.824375  0.892066  1.0\n",
      "2  1.384810  0.016317  2.0\n",
      "3  0.304828  0.286498  2.0\n",
      "4  1.651588  0.902572  1.0\n",
      "\n"
     ]
    }
   ],
   "source": [
    "train_data_2 = pd.read_csv(\"./HW3_datasets/dataset2_train.csv\", header=None)\n",
    "print(\"Train Data -> 2: \")\n",
    "print(train_data_2.head())\n",
    "print()\n",
    "\n",
    "test_data_2 = pd.read_csv(\"./HW3_datasets/dataset2_test.csv\", header=None)\n",
    "print(\"Train Data -> 2: \")\n",
    "print(test_data_2.head())\n",
    "print()"
   ]
  },
  {
   "attachments": {},
   "cell_type": "markdown",
   "metadata": {},
   "source": [
    "### Loading the Training Data and Testing Data from dataset-3 using Pandas\n"
   ]
  },
  {
   "cell_type": "code",
   "execution_count": 4,
   "metadata": {},
   "outputs": [
    {
     "name": "stdout",
     "output_type": "stream",
     "text": [
      "Train Data -> 3: \n",
      "          0         1    2\n",
      "0 -3.182181  1.966441  1.0\n",
      "1  0.245498  1.287367  2.0\n",
      "2  0.480500  0.785206  2.0\n",
      "3  0.338015 -0.906211  1.0\n",
      "4  0.396452  1.345380  2.0\n",
      "\n",
      "Train Data -> 3: \n",
      "          0         1    2\n",
      "0  0.624833  1.394105  2.0\n",
      "1  2.976187 -0.119177  1.0\n",
      "2  0.489271 -2.653542  1.0\n",
      "3  0.159336  1.642712  2.0\n",
      "4  0.059028  0.772479  2.0\n",
      "\n"
     ]
    }
   ],
   "source": [
    "train_data_3 = pd.read_csv(\"./HW3_datasets/dataset3_train.csv\", header=None)\n",
    "print(\"Train Data -> 3: \")\n",
    "print(train_data_3.head())\n",
    "print()\n",
    "\n",
    "test_data_3 = pd.read_csv(\"./HW3_datasets/dataset3_test.csv\", header=None)\n",
    "print(\"Train Data -> 3: \")\n",
    "print(test_data_3.head())\n",
    "\n",
    "print()"
   ]
  },
  {
   "attachments": {},
   "cell_type": "markdown",
   "metadata": {},
   "source": [
    "## 4. (a) Perform the following for Dataset - 1 of Homework -> 1"
   ]
  },
  {
   "attachments": {},
   "cell_type": "markdown",
   "metadata": {},
   "source": [
    "### i] Run the perceptron learning algorithm to find optimum w_vector using Sequential Gradient Descent."
   ]
  },
  {
   "cell_type": "code",
   "execution_count": 5,
   "metadata": {},
   "outputs": [],
   "source": [
    "perceptron_1 = perceptron.Perceptron()"
   ]
  },
  {
   "cell_type": "code",
   "execution_count": 6,
   "metadata": {},
   "outputs": [
    {
     "name": "stdout",
     "output_type": "stream",
     "text": [
      "---------------------------------------------------\n",
      "  Shape of Input Data: (100, 3)\n",
      "  Number of Data Points: 100\n",
      "  Number of Input Features: 2\n",
      "  Number of Target Classes: 0\n",
      "---------------------------------------------------\n",
      "Shape of Augmented X_train: (100, 3)\n"
     ]
    }
   ],
   "source": [
    "n_train_1, X_train_1, T_train_1 = perceptron_1.generateTrainData(trainData=train_data_1)\n",
    "X_train_augmented_1 = perceptron_1.augmentData(X=X_train_1, n=n_train_1)\n",
    "print(f\"Shape of Augmented X_train: {X_train_augmented_1.shape}\")\n",
    "\n",
    "T_train_changed_1 = perceptron_1.changeLabels(T = T_train_1)\n",
    "\n",
    "X_train_shuffled_1, T_train_shuffled_1 = perceptron_1.shuffleData(X=X_train_augmented_1, T=T_train_changed_1.reshape(n_train_1, 1))\n",
    "\n",
    "w_vector_1 = perceptron_1.initializeWeights(0.1)"
   ]
  },
  {
   "cell_type": "code",
   "execution_count": 7,
   "metadata": {},
   "outputs": [],
   "source": [
    "convergenceFlag_1, n_epochs_1, n_epochs_arr_1, n_iters_1, n_iters_arr_1, J_History_epochs_1, w_History_epochs_1, J_History_iterations_1, cer_History_epochs_1, cer_History_iterations_1 = perceptron_1.modelTrain_SequentialGD(\n",
    "                                                                                                                                                                n_train = n_train_1, \n",
    "                                                                                                                                                                X_train=X_train_shuffled_1, \n",
    "                                                                                                                                                                T_train=T_train_shuffled_1, \n",
    "                                                                                                                                                                w_vector=w_vector_1, \n",
    "                                                                                                                                                                epochs=10, \n",
    "                                                                                                                                                                learn_rate=1)"
   ]
  },
  {
   "attachments": {},
   "cell_type": "markdown",
   "metadata": {},
   "source": [
    "### i] Give the resulting optimum w vector; state whether the algorithm converged (i.1 reached) or halted without convergence (i.2 reached); and give the final criterion function value J(w_optimum)"
   ]
  },
  {
   "cell_type": "code",
   "execution_count": 8,
   "metadata": {},
   "outputs": [],
   "source": [
    "optimum_index_epochs_1 = np.argmin(J_History_epochs_1)\n",
    "optimum_index_iterations_1 = np.argmin(J_History_iterations_1)\n",
    "\n",
    "w_optimum_epochs_1 = w_History_epochs_1[optimum_index_epochs_1]\n",
    "J_optimum_epochs_1 = J_History_epochs_1[optimum_index_epochs_1]\n",
    "J_optimum_iterations_1 = J_History_iterations_1[optimum_index_iterations_1]\n",
    "cer_optimum_epochs_1 = cer_History_epochs_1[optimum_index_epochs_1]\n",
    "cer_optimum_iterations_1 = cer_History_iterations_1[optimum_index_iterations_1]\n"
   ]
  },
  {
   "cell_type": "code",
   "execution_count": 9,
   "metadata": {},
   "outputs": [
    {
     "name": "stdout",
     "output_type": "stream",
     "text": [
      "The Perceptron Learning Algorithm got converged after 27 iterations and 1 epoch(s) for Training set of Dataset - 1!\n",
      "DATA IS LINEARLY SEPARABLE!!\n",
      "The optimum value of w_vector for Training Set of Dataset - 1 is: [[-0.9       ]\n",
      " [-2.93744112]\n",
      " [ 3.48263664]]\n",
      "The Final Criterion function value for optimum value of w is: 0\n"
     ]
    }
   ],
   "source": [
    "if convergenceFlag_1:\n",
    "    print(f\"The Perceptron Learning Algorithm got converged after {n_iters_1} iterations and {n_epochs_1} epoch(s) for Training set of Dataset - 1!\")\n",
    "    print(\"DATA IS LINEARLY SEPARABLE!!\")\n",
    "else:\n",
    "    print(\"The Perceptron Learning Algorithm did not converge for Training set of Dataset - 1!\")\n",
    "\n",
    "print(f\"The optimum value of w_vector for Training Set of Dataset - 1 is: {w_optimum_epochs_1}\")\n",
    "print(f\"The Final Criterion function value for optimum value of w is: {J_optimum_epochs_1}\")"
   ]
  },
  {
   "attachments": {},
   "cell_type": "markdown",
   "metadata": {},
   "source": [
    "### ii] Produce a learning curve, which is a plot of the values of the criterion function during the training process. If the training goes for more than 10 epochs, plot the criterion function vs. epochs. If training ends before 10 epochs, plot the criterion function vs. iterations."
   ]
  },
  {
   "cell_type": "code",
   "execution_count": 10,
   "metadata": {},
   "outputs": [
    {
     "data": {
      "image/png": "[encoded data removed]",
      "text/plain": [
       "<Figure size 640x480 with 1 Axes>"
      ]
     },
     "metadata": {},
     "output_type": "display_data"
    }
   ],
   "source": [
    "if n_epochs_1 <= 10:\n",
    "    perceptron_1.plotCriterionVsIters(n_iters=n_iters_arr_1, J_History_iters=J_History_iterations_1, J_optimum_iters=J_optimum_iterations_1, datasetName=\"Training Data Dataset - 1\")\n",
    "\n",
    "else:\n",
    "    perceptron_1.plotCriterionVsEpochs(n_epochs=n_epochs_arr_1, J_History_epochs=J_History_epochs_1, J_optimum_epochs=J_optimum_epochs_1, datasetName=\"Training Data Dataset - 1\")"
   ]
  },
  {
   "attachments": {},
   "cell_type": "markdown",
   "metadata": {},
   "source": [
    "### ii] Plot of Classification Error Rate (CER) Vs. Number of Epochs (or) Plot of Classification Error Rate (CER) Vs. Number of Iterations"
   ]
  },
  {
   "cell_type": "code",
   "execution_count": 11,
   "metadata": {},
   "outputs": [
    {
     "data": {
      "image/png": "[encoded data removed]",
      "text/plain": [
       "<Figure size 640x480 with 1 Axes>"
      ]
     },
     "metadata": {},
     "output_type": "display_data"
    }
   ],
   "source": [
    "if n_epochs_1 <= 10:\n",
    "    perceptron_1.plotCERVsIters(n_iters=n_iters_arr_1, cer_History_iters=cer_History_iterations_1, cer_optimum_iters=cer_optimum_iterations_1, datasetName=\"Training Data Dataset - 1\")\n",
    "\n",
    "else:\n",
    "    perceptron_1.plotCriterionVsEpochs(n_epochs=n_epochs_arr_1, cer_History_epochs=cer_History_epochs_1, cer_optimum_epochs=cer_optimum_epochs_1, datasetName=\"Training Data Dataset - 1\")"
   ]
  },
  {
   "attachments": {},
   "cell_type": "markdown",
   "metadata": {},
   "source": [
    "### iii] Run the perceptron classifier on the training set using the optimum w_vector . Give the classification error of each."
   ]
  },
  {
   "cell_type": "code",
   "execution_count": 12,
   "metadata": {},
   "outputs": [
    {
     "name": "stdout",
     "output_type": "stream",
     "text": [
      "Classification Error Rate (CER) on the training data of Dataset - 1 is: 0.0\n"
     ]
    }
   ],
   "source": [
    "Y_hat_training_1 = perceptron_1.predict(X=X_train_augmented_1, w_optimum=w_optimum_epochs_1)\n",
    "cer_training_1 = perceptron_1.calculateCER(T=T_train_changed_1, Y_hat=Y_hat_training_1, n=n_train_1)\n",
    "print(f\"Classification Error Rate (CER) on the training data of Dataset - 1 is: {cer_training_1}\")"
   ]
  },
  {
   "attachments": {},
   "cell_type": "markdown",
   "metadata": {},
   "source": [
    "### iii] Run the perceptron classifier on the test set using the optimum w_vector . Give the classification error of each."
   ]
  },
  {
   "cell_type": "code",
   "execution_count": 13,
   "metadata": {},
   "outputs": [
    {
     "name": "stdout",
     "output_type": "stream",
     "text": [
      "Shape of Augmented X_test_1: (100, 3)\n"
     ]
    }
   ],
   "source": [
    "n_test_1, X_test_1, T_test_1 = perceptron_1.generateTestData(test_data=test_data_1)\n",
    "\n",
    "X_test_augmented_1 = perceptron_1.augmentData(X=X_test_1, n=n_test_1)\n",
    "print(f\"Shape of Augmented X_test_1: {X_test_augmented_1.shape}\")\n",
    "\n",
    "T_test_changed_1 = perceptron_1.changeLabels(T = T_test_1)\n"
   ]
  },
  {
   "cell_type": "code",
   "execution_count": 14,
   "metadata": {},
   "outputs": [
    {
     "name": "stdout",
     "output_type": "stream",
     "text": [
      "Classification Error Rate (CER) on the test data of Dataset - 1 is: 0.0\n"
     ]
    }
   ],
   "source": [
    "Y_hat_test_1 = perceptron_1.predict(X=X_test_augmented_1, w_optimum=w_optimum_epochs_1)\n",
    "cer_test_1 = perceptron_1.calculateCER(T=T_test_changed_1, Y_hat=Y_hat_test_1, n=n_train_1)\n",
    "print(f\"Classification Error Rate (CER) on the test data of Dataset - 1 is: {cer_training_1}\")"
   ]
  }
 ],
 "metadata": {
  "kernelspec": {
   "display_name": "ml",
   "language": "python",
   "name": "python3"
  },
  "language_info": {
   "codemirror_mode": {
    "name": "ipython",
    "version": 3
   },
   "file_extension": ".py",
   "mimetype": "text/x-python",
   "name": "python",
   "nbconvert_exporter": "python",
   "pygments_lexer": "ipython3",
   "version": "3.10.8"
  },
  "orig_nbformat": 4,
  "vscode": {
   "interpreter": {
    "hash": "a93cbcc8f689737a56379ee2b682729639c657947f027c47bdf18bc4994fa06e"
   }
  }
 },
 "nbformat": 4,
 "nbformat_minor": 2
}
