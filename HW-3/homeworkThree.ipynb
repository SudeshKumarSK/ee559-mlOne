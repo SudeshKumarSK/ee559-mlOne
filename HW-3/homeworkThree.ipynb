{
 "cells": [
  {
   "attachments": {},
   "cell_type": "markdown",
   "metadata": {},
   "source": [
    "# Homework : 3 Machine Learning - 1 (Supervised Methods)"
   ]
  },
  {
   "attachments": {},
   "cell_type": "markdown",
   "metadata": {},
   "source": [
    "## 4. Code up a 2-class perceptron learning algorithm and classifier."
   ]
  },
  {
   "attachments": {},
   "cell_type": "markdown",
   "metadata": {},
   "source": [
    "### Importing Necessary Libraries"
   ]
  },
  {
   "cell_type": "code",
   "execution_count": 1,
   "metadata": {},
   "outputs": [],
   "source": [
    "#Importing Libraries.\n",
    "import pandas as pd\n",
    "import numpy as np\n",
    "import matplotlib.pyplot as plt\n",
    "\n",
    "#Importing the nearestMeansClassifier library from utils package.\n",
    "from utils import  perceptron"
   ]
  },
  {
   "attachments": {},
   "cell_type": "markdown",
   "metadata": {},
   "source": [
    "### Loading the Training Data and Testing Data from dataset-1 using Pandas"
   ]
  },
  {
   "cell_type": "code",
   "execution_count": 2,
   "metadata": {},
   "outputs": [
    {
     "name": "stdout",
     "output_type": "stream",
     "text": [
      "Train Data -> 1: \n",
      "          0         1    2\n",
      "0  2.199291  3.690399  1.0\n",
      "1  0.472634 -0.709271  2.0\n",
      "2 -0.026662 -1.335827  2.0\n",
      "3 -0.116866 -1.336345  2.0\n",
      "4  2.100909  1.143771  2.0\n",
      "\n",
      "Test Data -> 1: \n",
      "          0         1    2\n",
      "0  1.226845  0.273791  2.0\n",
      "1 -0.929775  0.300098  1.0\n",
      "2  0.220924  0.835073  1.0\n",
      "3  0.783772 -0.233020  2.0\n",
      "4  2.116507  0.728805  2.0\n"
     ]
    }
   ],
   "source": [
    "train_data_1 = pd.read_csv(\"./HW3_datasets/dataset1_train.csv\", header=None)\n",
    "print(\"Train Data -> 1: \")\n",
    "print(train_data_1.head())\n",
    "print()\n",
    "\n",
    "test_data_1 = pd.read_csv(\"./HW3_datasets/dataset1_test.csv\", header=None)\n",
    "print(\"Test Data -> 1: \")\n",
    "print(test_data_1.head())"
   ]
  },
  {
   "attachments": {},
   "cell_type": "markdown",
   "metadata": {},
   "source": [
    "### Loading the Training Data and Testing Data from dataset-2 using Pandas"
   ]
  },
  {
   "cell_type": "code",
   "execution_count": 3,
   "metadata": {},
   "outputs": [
    {
     "name": "stdout",
     "output_type": "stream",
     "text": [
      "Train Data -> 2: \n",
      "          0         1    2\n",
      "0  0.493655  0.905948  1.0\n",
      "1  0.872053 -0.355721  2.0\n",
      "2 -0.009021  0.132694  2.0\n",
      "3 -0.578481  1.000596  1.0\n",
      "4 -0.438395  1.038901  1.0\n",
      "\n",
      "Train Data -> 2: \n",
      "          0         1    2\n",
      "0 -0.070044 -0.118457  2.0\n",
      "1 -0.824375  0.892066  1.0\n",
      "2  1.384810  0.016317  2.0\n",
      "3  0.304828  0.286498  2.0\n",
      "4  1.651588  0.902572  1.0\n",
      "\n"
     ]
    }
   ],
   "source": [
    "train_data_2 = pd.read_csv(\"./HW3_datasets/dataset2_train.csv\", header=None)\n",
    "print(\"Train Data -> 2: \")\n",
    "print(train_data_2.head())\n",
    "print()\n",
    "\n",
    "test_data_2 = pd.read_csv(\"./HW3_datasets/dataset2_test.csv\", header=None)\n",
    "print(\"Train Data -> 2: \")\n",
    "print(test_data_2.head())\n",
    "print()"
   ]
  },
  {
   "attachments": {},
   "cell_type": "markdown",
   "metadata": {},
   "source": [
    "### Loading the Training Data and Testing Data from dataset-3 using Pandas\n"
   ]
  },
  {
   "cell_type": "code",
   "execution_count": 4,
   "metadata": {},
   "outputs": [
    {
     "name": "stdout",
     "output_type": "stream",
     "text": [
      "Train Data -> 3: \n",
      "          0         1    2\n",
      "0 -3.182181  1.966441  1.0\n",
      "1  0.245498  1.287367  2.0\n",
      "2  0.480500  0.785206  2.0\n",
      "3  0.338015 -0.906211  1.0\n",
      "4  0.396452  1.345380  2.0\n",
      "\n",
      "Train Data -> 3: \n",
      "          0         1    2\n",
      "0  0.624833  1.394105  2.0\n",
      "1  2.976187 -0.119177  1.0\n",
      "2  0.489271 -2.653542  1.0\n",
      "3  0.159336  1.642712  2.0\n",
      "4  0.059028  0.772479  2.0\n",
      "\n"
     ]
    }
   ],
   "source": [
    "train_data_3 = pd.read_csv(\"./HW3_datasets/dataset3_train.csv\", header=None)\n",
    "print(\"Train Data -> 3: \")\n",
    "print(train_data_3.head())\n",
    "print()\n",
    "\n",
    "test_data_3 = pd.read_csv(\"./HW3_datasets/dataset3_test.csv\", header=None)\n",
    "print(\"Train Data -> 3: \")\n",
    "print(test_data_3.head())\n",
    "\n",
    "print()"
   ]
  },
  {
   "attachments": {},
   "cell_type": "markdown",
   "metadata": {},
   "source": []
  },
  {
   "cell_type": "code",
   "execution_count": 5,
   "metadata": {},
   "outputs": [],
   "source": [
    "perceptron_1 = perceptron.Perceptron()"
   ]
  },
  {
   "cell_type": "code",
   "execution_count": 6,
   "metadata": {},
   "outputs": [
    {
     "name": "stdout",
     "output_type": "stream",
     "text": [
      "---------------------------------------------------\n",
      "  Shape of Input Data: (100, 3)\n",
      "  Number of Data Points: 100\n",
      "  Number of Input Features: 2\n",
      "  Number of Target Classes: 2\n",
      "---------------------------------------------------\n",
      "Shape of Augmented X_train: (100, 3)\n"
     ]
    }
   ],
   "source": [
    "n_train, X_train, T_train = perceptron_1.generateTrainData(trainData=train_data_1)\n",
    "X_train_augmented = perceptron_1.augmentTrainData(X_train=X_train)\n",
    "print(f\"Shape of Augmented X_train: {X_train_augmented.shape}\")\n",
    "\n",
    "T_train_changed = perceptron_1.changeLabels(T_train=T_train)\n",
    "\n",
    "X_train_shuffled, T_train_shuffled = perceptron_1.shuffleTrainData(X_train=X_train_augmented, T_train=T_train_changed.reshape(n_train, 1))\n",
    "\n",
    "w_vector = perceptron_1.initializeWeights(0.1)"
   ]
  },
  {
   "cell_type": "code",
   "execution_count": 7,
   "metadata": {},
   "outputs": [
    {
     "data": {
      "text/plain": [
       "array([[ 1.        , -0.8194963 , -1.42969518],\n",
       "       [ 1.        ,  1.72628644,  0.81140485],\n",
       "       [ 1.        , -0.11686633, -1.33634513],\n",
       "       [ 1.        , -1.31467374, -0.2284476 ],\n",
       "       [ 1.        , -0.22111103,  0.66801655],\n",
       "       [ 1.        , -0.56729058,  0.64096728],\n",
       "       [ 1.        ,  1.13416337,  1.95359901],\n",
       "       [ 1.        ,  1.81865528,  1.01009377],\n",
       "       [ 1.        ,  0.87039876,  1.86493455],\n",
       "       [ 1.        ,  2.19929132,  3.69039929]])"
      ]
     },
     "execution_count": 7,
     "metadata": {},
     "output_type": "execute_result"
    }
   ],
   "source": [
    "X_train_shuffled[0:10]"
   ]
  },
  {
   "cell_type": "code",
   "execution_count": 8,
   "metadata": {},
   "outputs": [
    {
     "data": {
      "text/plain": [
       "array([[ 1.],\n",
       "       [ 1.],\n",
       "       [ 1.],\n",
       "       [-1.],\n",
       "       [-1.],\n",
       "       [-1.],\n",
       "       [-1.],\n",
       "       [ 1.],\n",
       "       [-1.],\n",
       "       [-1.]])"
      ]
     },
     "execution_count": 8,
     "metadata": {},
     "output_type": "execute_result"
    }
   ],
   "source": [
    "T_train_shuffled[0:10]"
   ]
  },
  {
   "cell_type": "code",
   "execution_count": 11,
   "metadata": {},
   "outputs": [
    {
     "name": "stdout",
     "output_type": "stream",
     "text": [
      "1\n",
      "[[-7.91459471]\n",
      " [-4.70253832]\n",
      " [-4.41916694]\n",
      " [-5.49894205]\n",
      " [-3.87056128]\n",
      " [-6.06626987]\n",
      " [-4.16336361]\n",
      " [-4.79890487]\n",
      " [-4.45773559]\n",
      " [-6.98559551]\n",
      " [-5.47280642]\n",
      " [-5.72976835]\n",
      " [-6.63119011]\n",
      " [-6.13896628]\n",
      " [-5.05348888]\n",
      " [-6.51366578]\n",
      " [-4.27378982]\n",
      " [-5.43533621]\n",
      " [-5.71680194]\n",
      " [-3.52984659]\n",
      " [-4.93365213]\n",
      " [-5.37539681]\n",
      " [-4.74165503]\n",
      " [-4.77262655]\n",
      " [-5.05169678]\n",
      " [-4.47626649]\n",
      " [-5.89497846]\n",
      " [-4.88445278]\n",
      " [-5.83046987]\n",
      " [-4.29869362]\n",
      " [-4.99385954]\n",
      " [-4.41124827]\n",
      " [-5.21741495]\n",
      " [-7.16635785]\n",
      " [-5.76574688]\n",
      " [-5.04773728]\n",
      " [-4.53768683]\n",
      " [-6.44301739]\n",
      " [-6.34921049]\n",
      " [-6.16737632]\n",
      " [-5.11887144]\n",
      " [-3.03009693]\n",
      " [-7.27054418]\n",
      " [-6.06574783]\n",
      " [-4.81095131]\n",
      " [-5.49269022]\n",
      " [-4.20464038]\n",
      " [-6.33590487]\n",
      " [-5.39133203]\n",
      " [-6.61273821]\n",
      " [ 2.69061729]\n",
      " [ 2.89498663]\n",
      " [ 3.43492008]\n",
      " [ 2.8584614 ]\n",
      " [ 4.20702935]\n",
      " [ 3.24717711]\n",
      " [ 4.26708319]\n",
      " [ 1.58758662]\n",
      " [ 3.48409261]\n",
      " [ 4.13656622]\n",
      " [ 2.71819291]\n",
      " [ 4.93588565]\n",
      " [ 4.1849797 ]\n",
      " [ 3.79802185]\n",
      " [ 2.73427005]\n",
      " [ 3.0695972 ]\n",
      " [ 4.92100518]\n",
      " [ 3.46685056]\n",
      " [ 3.83660425]\n",
      " [ 2.97976524]\n",
      " [ 4.5385475 ]\n",
      " [ 3.4678762 ]\n",
      " [ 4.46820207]\n",
      " [ 3.67966683]\n",
      " [ 4.55511118]\n",
      " [ 1.9879144 ]\n",
      " [ 1.08671456]\n",
      " [ 3.85236071]\n",
      " [ 4.19957605]\n",
      " [ 2.22844681]\n",
      " [ 2.36972967]\n",
      " [ 2.99559292]\n",
      " [ 5.65082618]\n",
      " [ 1.95627212]\n",
      " [ 2.39818525]\n",
      " [ 5.51254383]\n",
      " [ 2.85089495]\n",
      " [ 3.75212137]\n",
      " [ 3.34410024]\n",
      " [ 2.95260429]\n",
      " [ 3.71115811]\n",
      " [ 2.89703734]\n",
      " [ 3.69296665]\n",
      " [ 3.11727801]\n",
      " [ 4.05872959]\n",
      " [ 2.84292428]\n",
      " [ 3.13000567]\n",
      " [ 3.95911948]\n",
      " [ 3.41954688]\n",
      " [ 4.51496408]]\n",
      "1.0\n"
     ]
    }
   ],
   "source": [
    "m, J_History, w_History = perceptron_1.modelTrain_SequentialGD(n_train = n_train, X_train=X_train_shuffled, T_train=T_train_shuffled, w_vector=w_vector, epochs=10000, learn_rate=1)\n",
    "optimum_index = np.argmin(J_History)\n",
    "w_optimum = w_History[optimum_index]\n",
    "\n",
    "Y_hat = perceptron_1.predict(X=X_train_augmented, w_vector=w_optimum)\n",
    "print(perceptron_1.calculateAccuracy(T_train, Y_hat=Y_hat))"
   ]
  },
  {
   "cell_type": "code",
   "execution_count": 12,
   "metadata": {},
   "outputs": [
    {
     "data": {
      "text/plain": [
       "array([[-0.9       ],\n",
       "       [ 4.26541028],\n",
       "       [-4.44273728]])"
      ]
     },
     "execution_count": 12,
     "metadata": {},
     "output_type": "execute_result"
    }
   ],
   "source": [
    "w_optimum"
   ]
  },
  {
   "cell_type": "code",
   "execution_count": null,
   "metadata": {},
   "outputs": [],
   "source": []
  }
 ],
 "metadata": {
  "kernelspec": {
   "display_name": "ml",
   "language": "python",
   "name": "python3"
  },
  "language_info": {
   "codemirror_mode": {
    "name": "ipython",
    "version": 3
   },
   "file_extension": ".py",
   "mimetype": "text/x-python",
   "name": "python",
   "nbconvert_exporter": "python",
   "pygments_lexer": "ipython3",
   "version": "3.10.8"
  },
  "orig_nbformat": 4,
  "vscode": {
   "interpreter": {
    "hash": "a93cbcc8f689737a56379ee2b682729639c657947f027c47bdf18bc4994fa06e"
   }
  }
 },
 "nbformat": 4,
 "nbformat_minor": 2
}
