{
 "cells": [
  {
   "attachments": {},
   "cell_type": "markdown",
   "metadata": {},
   "source": [
    "# Homework : 7 Machine Learning - 1 (Supervised Methods)"
   ]
  },
  {
   "attachments": {},
   "cell_type": "markdown",
   "metadata": {},
   "source": [
    "## (d) Take best model from part c (highest val accuracy) and evaluate on test. Report the test accuracy. Report the number of trainable parameters and all hyper-parameters used to obtain this final best model."
   ]
  },
  {
   "attachments": {},
   "cell_type": "markdown",
   "metadata": {},
   "source": [
    "### Import all necessary libraries."
   ]
  },
  {
   "cell_type": "code",
   "execution_count": 1,
   "metadata": {},
   "outputs": [
    {
     "name": "stderr",
     "output_type": "stream",
     "text": [
      "2023-04-07 19:34:41.335775: I tensorflow/core/platform/cpu_feature_guard.cc:182] This TensorFlow binary is optimized to use available CPU instructions in performance-critical operations.\n",
      "To enable the following instructions: AVX2 FMA, in other operations, rebuild TensorFlow with the appropriate compiler flags.\n"
     ]
    },
    {
     "name": "stdout",
     "output_type": "stream",
     "text": [
      "TensorFlow version: 2.12.0\n"
     ]
    }
   ],
   "source": [
    "import time\n",
    "import pickle\n",
    "import numpy as np\n",
    "import tensorflow as tf\n",
    "from tensorflow import keras\n",
    "from tensorflow.keras.layers import Dense, Flatten, Input\n",
    "from tensorflow.keras import Model\n",
    "\n",
    "from utils.engine import Classifier, MyModel\n",
    "\n",
    "tf.config.run_functions_eagerly(True)\n",
    "\n",
    "print(\"TensorFlow version:\", tf.__version__)"
   ]
  },
  {
   "attachments": {},
   "cell_type": "markdown",
   "metadata": {},
   "source": [
    "### Loading the test images and labels from the saved dataset. Creating an instance for the Classifier class"
   ]
  },
  {
   "cell_type": "code",
   "execution_count": 2,
   "metadata": {},
   "outputs": [],
   "source": [
    "test_images = np.load(\"./dataset/Fashion_Mnist/test_images.npy\")\n",
    "test_labels = np.load(\"./dataset/Fashion_Mnist/test_labels.npy\")\n",
    "\n",
    "X_test = test_images\n",
    "T_test = test_labels\n",
    "\n",
    "clf = Classifier()"
   ]
  },
  {
   "attachments": {},
   "cell_type": "markdown",
   "metadata": {},
   "source": [
    "### Normalizing the pixel values on the test data."
   ]
  },
  {
   "cell_type": "code",
   "execution_count": 3,
   "metadata": {},
   "outputs": [],
   "source": [
    "X_test = X_test / 255.0"
   ]
  },
  {
   "attachments": {},
   "cell_type": "markdown",
   "metadata": {},
   "source": [
    "### Getting the best hyper-parameters from the \"finalCombo.pkl\" file saved in the \"Results\" Directory and Creating test_ds tio generate batches of 32"
   ]
  },
  {
   "cell_type": "code",
   "execution_count": 5,
   "metadata": {},
   "outputs": [
    {
     "name": "stdout",
     "output_type": "stream",
     "text": [
      "Hidden Units: 160, Learning Rate: 0.1, Regularization Parameter: 0.001\n"
     ]
    }
   ],
   "source": [
    "# read python dict back from the file\n",
    "pkl_file = open('./Result/finalCombo.pkl', 'rb')\n",
    "final_combination = pickle.load(pkl_file)\n",
    "pkl_file.close()\n",
    "\n",
    "learning_rate = final_combination[\"learning_rate\"]\n",
    "hidden_units = final_combination[\"hidden_units\"]\n",
    "lambd_a = final_combination[\"reg_param\"]\n",
    "print(f\"Hidden Units: {hidden_units}, Learning Rate: {learning_rate}, Regularization Parameter: {lambd_a}\")\n",
    "\n",
    "test_ds = tf.data.Dataset.from_tensor_slices((X_test, T_test)).batch(32)"
   ]
  },
  {
   "attachments": {},
   "cell_type": "markdown",
   "metadata": {},
   "source": [
    "### Testing the data with best hyper-parameters. We need to build the same model and load the trained weights and report the test accuracy."
   ]
  },
  {
   "cell_type": "code",
   "execution_count": 6,
   "metadata": {},
   "outputs": [
    {
     "name": "stdout",
     "output_type": "stream",
     "text": [
      "Model: \"my_model\"\n",
      "_________________________________________________________________\n",
      " Layer (type)                Output Shape              Param #   \n",
      "=================================================================\n",
      " Input_Layer (Flatten)       (None, 784)               0         \n",
      "                                                                 \n",
      " Hidden_Layer (Dense)        (None, 160)               125600    \n",
      "                                                                 \n",
      " Output_Layer (Dense)        (None, 10)                1610      \n",
      "                                                                 \n",
      "=================================================================\n",
      "Total params: 127,210\n",
      "Trainable params: 127,210\n",
      "Non-trainable params: 0\n",
      "_________________________________________________________________\n"
     ]
    }
   ],
   "source": [
    "model = MyModel(hidden_units, lambd_a, 784)\n",
    "model.build((None, 28, 28, 1)) \n",
    "model.summary()"
   ]
  },
  {
   "cell_type": "code",
   "execution_count": 7,
   "metadata": {},
   "outputs": [
    {
     "data": {
      "text/plain": [
       "<tensorflow.python.checkpoint.checkpoint.CheckpointLoadStatus at 0x132783e20>"
      ]
     },
     "execution_count": 7,
     "metadata": {},
     "output_type": "execute_result"
    }
   ],
   "source": [
    "model.load_weights(\"./Weights/model_weights\")"
   ]
  },
  {
   "cell_type": "code",
   "execution_count": 8,
   "metadata": {},
   "outputs": [
    {
     "name": "stderr",
     "output_type": "stream",
     "text": [
      "2023-04-07 19:36:04.948297: I tensorflow/core/common_runtime/executor.cc:1197] [/device:CPU:0] (DEBUG INFO) Executor start aborting (this does not indicate an error and you can ignore this message): INVALID_ARGUMENT: You must feed a value for placeholder tensor 'Placeholder/_1' with dtype uint8 and shape [10000]\n",
      "\t [[{{node Placeholder/_1}}]]\n"
     ]
    },
    {
     "name": "stdout",
     "output_type": "stream",
     "text": [
      "Test Accuracy: 88.0%\n"
     ]
    }
   ],
   "source": [
    "clf.test_loss.reset_states()\n",
    "clf.test_accuracy.reset_states()\n",
    "\n",
    "\n",
    "for test_images, test_labels in test_ds:\n",
    "    clf.test_step(test_images, test_labels, model)\n",
    "\n",
    "\n",
    "\n",
    "print(f'Test Accuracy: {clf.test_accuracy.result() * 100}%')"
   ]
  },
  {
   "attachments": {},
   "cell_type": "markdown",
   "metadata": {},
   "source": [
    "### Report the number of trainable parameters and all hypter-parameters used to obtain the final besr model."
   ]
  },
  {
   "cell_type": "code",
   "execution_count": 9,
   "metadata": {},
   "outputs": [
    {
     "name": "stdout",
     "output_type": "stream",
     "text": [
      "NUMBER OF TRAINABLE PARAMETERS\n",
      "Model: \"my_model_1\"\n",
      "_________________________________________________________________\n",
      " Layer (type)                Output Shape              Param #   \n",
      "=================================================================\n",
      " Input_Layer (Flatten)       (None, 784)               0         \n",
      "                                                                 \n",
      " Hidden_Layer (Dense)        (None, 160)               125600    \n",
      "                                                                 \n",
      " Output_Layer (Dense)        (None, 10)                1610      \n",
      "                                                                 \n",
      "=================================================================\n",
      "Total params: 127,210\n",
      "Trainable params: 127,210\n",
      "Non-trainable params: 0\n",
      "_________________________________________________________________\n"
     ]
    }
   ],
   "source": [
    "print(\"NUMBER OF TRAINABLE PARAMETERS\")\n",
    "model = MyModel(hidden_units, lambd_a, 784)\n",
    "model.build((None, 28, 28, 1)) \n",
    "model.summary()\n"
   ]
  },
  {
   "cell_type": "code",
   "execution_count": 10,
   "metadata": {},
   "outputs": [
    {
     "name": "stdout",
     "output_type": "stream",
     "text": [
      "HYPER - PARAMETERS FOR THE FINAL BEST MODEL\n",
      "Hidden Units: 160, Learning Rate: 0.1, Regularization Parameter: 0.001\n"
     ]
    }
   ],
   "source": [
    "print(\"HYPER - PARAMETERS FOR THE FINAL BEST MODEL\")\n",
    "print(f\"Hidden Units: {hidden_units}, Learning Rate: {learning_rate}, Regularization Parameter: {lambd_a}\")"
   ]
  }
 ],
 "metadata": {
  "kernelspec": {
   "display_name": "ml",
   "language": "python",
   "name": "python3"
  },
  "language_info": {
   "codemirror_mode": {
    "name": "ipython",
    "version": 3
   },
   "file_extension": ".py",
   "mimetype": "text/x-python",
   "name": "python",
   "nbconvert_exporter": "python",
   "pygments_lexer": "ipython3",
   "version": "3.10.8"
  },
  "orig_nbformat": 4
 },
 "nbformat": 4,
 "nbformat_minor": 2
}
