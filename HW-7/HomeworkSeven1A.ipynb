{
 "cells": [
  {
   "attachments": {},
   "cell_type": "markdown",
   "metadata": {},
   "source": [
    "# Homework : 7 Machine Learning - 1 (Supervised Methods)"
   ]
  },
  {
   "attachments": {},
   "cell_type": "markdown",
   "metadata": {},
   "source": [
    "### Importing all necessary libraries"
   ]
  },
  {
   "cell_type": "code",
   "execution_count": 1,
   "metadata": {},
   "outputs": [
    {
     "name": "stderr",
     "output_type": "stream",
     "text": [
      "2023-04-07 01:17:14.941870: I tensorflow/core/platform/cpu_feature_guard.cc:182] This TensorFlow binary is optimized to use available CPU instructions in performance-critical operations.\n",
      "To enable the following instructions: AVX2 FMA, in other operations, rebuild TensorFlow with the appropriate compiler flags.\n"
     ]
    },
    {
     "name": "stdout",
     "output_type": "stream",
     "text": [
      "TensorFlow version: 2.12.0\n"
     ]
    }
   ],
   "source": [
    "import time\n",
    "import numpy as np\n",
    "import tensorflow as tf\n",
    "from tensorflow import keras\n",
    "from tensorflow.keras.layers import Dense, Flatten, Input\n",
    "from tensorflow.keras import Model\n",
    "\n",
    "\n",
    "from utils.engine import Classifier, MyModel\n",
    "\n",
    "print(\"TensorFlow version:\", tf.__version__)"
   ]
  },
  {
   "attachments": {},
   "cell_type": "markdown",
   "metadata": {},
   "source": [
    "### Loading the saved dataset using numpy"
   ]
  },
  {
   "cell_type": "code",
   "execution_count": 2,
   "metadata": {},
   "outputs": [],
   "source": [
    "# Loading the saved training and test data\n",
    "train_images = np.load(\"./dataset/Fashion_Mnist/train_images.npy\")\n",
    "train_labels = np.load(\"./dataset/Fashion_Mnist/train_labels.npy\")\n",
    "test_images = np.load(\"./dataset/Fashion_Mnist/test_images.npy\")\n",
    "test_labels = np.load(\"./dataset/Fashion_Mnist/test_labels.npy\")"
   ]
  },
  {
   "attachments": {},
   "cell_type": "markdown",
   "metadata": {},
   "source": [
    "### Instantiating an object for the Classifier class in engine.py"
   ]
  },
  {
   "cell_type": "code",
   "execution_count": 3,
   "metadata": {},
   "outputs": [],
   "source": [
    "clf = Classifier()"
   ]
  },
  {
   "attachments": {},
   "cell_type": "markdown",
   "metadata": {},
   "source": [
    "### Splitting the training data into train data and validation data (80/20 split)"
   ]
  },
  {
   "cell_type": "code",
   "execution_count": 4,
   "metadata": {},
   "outputs": [
    {
     "name": "stdout",
     "output_type": "stream",
     "text": [
      "---------------------------------------------------------------------------------------------\n",
      "Total number of images in Training data:  48000\n",
      "Total number of images in Validation data:  12000\n",
      "Total number of images in Test data:  10000\n",
      "Total number of classes in the output lables: 10\n",
      "---------------------------------------------------------------------------------------------\n"
     ]
    }
   ],
   "source": [
    "X_test = test_images\n",
    "T_test = test_labels\n",
    "(X_train, T_train), (X_validation, T_validation) = clf.splitTrainData(train_images, train_labels, test_images, validation_split=0.2, printFlag=True)"
   ]
  },
  {
   "attachments": {},
   "cell_type": "markdown",
   "metadata": {},
   "source": [
    "### Normalizing the pixel values in the training, validation and test data."
   ]
  },
  {
   "cell_type": "code",
   "execution_count": 5,
   "metadata": {},
   "outputs": [
    {
     "name": "stdout",
     "output_type": "stream",
     "text": [
      "---------------------------------------------------------------------------------------------\n",
      "Shape of Flattened Training data:  (48000, 784)\n",
      "Shape of Flattened Valdation data:  (12000, 784)\n",
      "Shape of Flattened Test data:  (10000, 784)\n",
      "We have 784 features in the input data.\n",
      "---------------------------------------------------------------------------------------------\n"
     ]
    }
   ],
   "source": [
    "X_train, X_validation, X_test = X_train / 255.0, X_validation / 255.0, X_test / 255.0\n",
    "X_train_flattened, X_validation_flattened, X_test_flattened, _ = clf.flattenData(X_train, X_validation, X_test)"
   ]
  },
  {
   "attachments": {},
   "cell_type": "markdown",
   "metadata": {},
   "source": [
    "# Hyper-parameter Optimization for MLP on FMNIST 1]"
   ]
  },
  {
   "attachments": {},
   "cell_type": "markdown",
   "metadata": {},
   "source": [
    "## 1] (A) Start with 𝑀 = 48 hidden nodes, 𝜂 = 0.01, 𝜆 = 10 and 𝐵 = 32 and vary the batch size and calculate the time taken to reach an accuracy of 80%"
   ]
  },
  {
   "attachments": {},
   "cell_type": "markdown",
   "metadata": {},
   "source": [
    "### Model Summary for One Hidden Layer with 48 neurons."
   ]
  },
  {
   "cell_type": "code",
   "execution_count": 6,
   "metadata": {},
   "outputs": [
    {
     "name": "stdout",
     "output_type": "stream",
     "text": [
      "Model: \"my_model\"\n",
      "_________________________________________________________________\n",
      " Layer (type)                Output Shape              Param #   \n",
      "=================================================================\n",
      " Input_Layer (Flatten)       (None, 784)               0         \n",
      "                                                                 \n",
      " Hidden_Layer (Dense)        (None, 48)                37680     \n",
      "                                                                 \n",
      " Output_Layer (Dense)        (None, 10)                490       \n",
      "                                                                 \n",
      "=================================================================\n",
      "Total params: 38,170\n",
      "Trainable params: 38,170\n",
      "Non-trainable params: 0\n",
      "_________________________________________________________________\n"
     ]
    }
   ],
   "source": [
    "my_model = MyModel(48, 0.001, 784)\n",
    "my_model.build((None, 28, 28, 1)) \n",
    "my_model.summary()"
   ]
  },
  {
   "cell_type": "code",
   "execution_count": 7,
   "metadata": {},
   "outputs": [
    {
     "name": "stdout",
     "output_type": "stream",
     "text": [
      "Batch Size ===> 32\n",
      "Iteration: 1\n",
      "--------------------------------------------------------------------------------------------------------------------------------------------------------------------\n"
     ]
    },
    {
     "name": "stderr",
     "output_type": "stream",
     "text": [
      "2023-04-07 01:17:25.386773: I tensorflow/core/common_runtime/executor.cc:1197] [/device:CPU:0] (DEBUG INFO) Executor start aborting (this does not indicate an error and you can ignore this message): INVALID_ARGUMENT: You must feed a value for placeholder tensor 'Placeholder/_1' with dtype uint8 and shape [48000]\n",
      "\t [[{{node Placeholder/_1}}]]\n",
      "2023-04-07 01:17:29.534699: I tensorflow/core/common_runtime/executor.cc:1197] [/device:CPU:0] (DEBUG INFO) Executor start aborting (this does not indicate an error and you can ignore this message): INVALID_ARGUMENT: You must feed a value for placeholder tensor 'Placeholder/_1' with dtype uint8 and shape [12000]\n",
      "\t [[{{node Placeholder/_1}}]]\n"
     ]
    },
    {
     "name": "stdout",
     "output_type": "stream",
     "text": [
      "Epoch 1, Training Loss: 0.7846105098724365, Training Accuracy: 74.73541259765625, Validation Loss: 0.5761734843254089, Validation Accuracy: 80.88333892822266\n",
      "Time taken: 5.71538782119751\n",
      "--------------------------------------------------------------------------------------------------------------------------------------------------------------------\n",
      "\n",
      "Iteration: 2\n",
      "--------------------------------------------------------------------------------------------------------------------------------------------------------------------\n",
      "Epoch 1, Training Loss: 0.8299804925918579, Training Accuracy: 73.04166412353516, Validation Loss: 0.591675877571106, Validation Accuracy: 80.4000015258789\n",
      "Time taken: 4.685427904129028\n",
      "--------------------------------------------------------------------------------------------------------------------------------------------------------------------\n",
      "\n",
      "Iteration: 3\n",
      "--------------------------------------------------------------------------------------------------------------------------------------------------------------------\n",
      "Epoch 1, Training Loss: 0.8364705443382263, Training Accuracy: 72.7249984741211, Validation Loss: 0.5869037508964539, Validation Accuracy: 80.78333282470703\n",
      "Time taken: 3.9073500633239746\n",
      "--------------------------------------------------------------------------------------------------------------------------------------------------------------------\n",
      "\n",
      "Iteration: 4\n",
      "--------------------------------------------------------------------------------------------------------------------------------------------------------------------\n",
      "Epoch 1, Training Loss: 0.8580328226089478, Training Accuracy: 72.77916717529297, Validation Loss: 0.6088307499885559, Validation Accuracy: 80.04166412353516\n",
      "Time taken: 3.6958651542663574\n",
      "--------------------------------------------------------------------------------------------------------------------------------------------------------------------\n",
      "\n",
      "Iteration: 5\n",
      "--------------------------------------------------------------------------------------------------------------------------------------------------------------------\n",
      "Epoch 1, Training Loss: 0.8288516402244568, Training Accuracy: 72.97291564941406, Validation Loss: 0.591317355632782, Validation Accuracy: 80.58333587646484\n",
      "Time taken: 3.354949951171875\n",
      "--------------------------------------------------------------------------------------------------------------------------------------------------------------------\n",
      "\n",
      "\n",
      "Mean of the time taken for batch size of 32: 4.271796178817749\n",
      "\n",
      "############################################################################################################################################################\n",
      "Batch Size ===> 64\n",
      "Iteration: 1\n",
      "--------------------------------------------------------------------------------------------------------------------------------------------------------------------\n"
     ]
    },
    {
     "name": "stderr",
     "output_type": "stream",
     "text": [
      "2023-04-07 01:17:46.809436: I tensorflow/core/common_runtime/executor.cc:1197] [/device:CPU:0] (DEBUG INFO) Executor start aborting (this does not indicate an error and you can ignore this message): INVALID_ARGUMENT: You must feed a value for placeholder tensor 'Placeholder/_1' with dtype uint8 and shape [48000]\n",
      "\t [[{{node Placeholder/_1}}]]\n",
      "2023-04-07 01:17:48.888846: I tensorflow/core/common_runtime/executor.cc:1197] [/device:CPU:0] (DEBUG INFO) Executor start aborting (this does not indicate an error and you can ignore this message): INVALID_ARGUMENT: You must feed a value for placeholder tensor 'Placeholder/_1' with dtype uint8 and shape [12000]\n",
      "\t [[{{node Placeholder/_1}}]]\n"
     ]
    },
    {
     "name": "stdout",
     "output_type": "stream",
     "text": [
      "Epoch 1, Training Loss: 1.0081013441085815, Training Accuracy: 68.02916717529297, Validation Loss: 0.7077978253364563, Validation Accuracy: 77.11666870117188\n",
      "Epoch 2, Training Loss: 0.6456809043884277, Training Accuracy: 78.66874694824219, Validation Loss: 0.5967938303947449, Validation Accuracy: 80.75\n",
      "Time taken: 7.3307201862335205\n",
      "--------------------------------------------------------------------------------------------------------------------------------------------------------------------\n",
      "\n",
      "Iteration: 2\n",
      "--------------------------------------------------------------------------------------------------------------------------------------------------------------------\n",
      "Epoch 1, Training Loss: 0.9611831307411194, Training Accuracy: 69.39167022705078, Validation Loss: 0.6908234357833862, Validation Accuracy: 77.20000457763672\n",
      "Epoch 2, Training Loss: 0.6318560242652893, Training Accuracy: 79.03125, Validation Loss: 0.5848416686058044, Validation Accuracy: 80.61666870117188\n",
      "Time taken: 10.335222005844116\n",
      "--------------------------------------------------------------------------------------------------------------------------------------------------------------------\n",
      "\n",
      "Iteration: 3\n",
      "--------------------------------------------------------------------------------------------------------------------------------------------------------------------\n",
      "Epoch 1, Training Loss: 0.9702046513557434, Training Accuracy: 69.31458282470703, Validation Loss: 0.6938878893852234, Validation Accuracy: 76.9000015258789\n",
      "Epoch 2, Training Loss: 0.6357868909835815, Training Accuracy: 78.49166107177734, Validation Loss: 0.5912089943885803, Validation Accuracy: 80.21666717529297\n",
      "Time taken: 4.260688304901123\n",
      "--------------------------------------------------------------------------------------------------------------------------------------------------------------------\n",
      "\n",
      "Iteration: 4\n",
      "--------------------------------------------------------------------------------------------------------------------------------------------------------------------\n",
      "Epoch 1, Training Loss: 0.9765071868896484, Training Accuracy: 68.77082824707031, Validation Loss: 0.6947066187858582, Validation Accuracy: 76.50833129882812\n",
      "Epoch 2, Training Loss: 0.6310329437255859, Training Accuracy: 78.81666564941406, Validation Loss: 0.5863211750984192, Validation Accuracy: 80.47500610351562\n",
      "Time taken: 3.785532236099243\n",
      "--------------------------------------------------------------------------------------------------------------------------------------------------------------------\n",
      "\n",
      "Iteration: 5\n",
      "--------------------------------------------------------------------------------------------------------------------------------------------------------------------\n",
      "Epoch 1, Training Loss: 0.9928911924362183, Training Accuracy: 68.53541564941406, Validation Loss: 0.6960319876670837, Validation Accuracy: 76.8499984741211\n",
      "Epoch 2, Training Loss: 0.6345265507698059, Training Accuracy: 78.71458435058594, Validation Loss: 0.5888462066650391, Validation Accuracy: 80.39167022705078\n",
      "Time taken: 4.212860107421875\n",
      "--------------------------------------------------------------------------------------------------------------------------------------------------------------------\n",
      "\n",
      "\n",
      "Mean of the time taken for batch size of 64: 5.985004568099976\n",
      "\n",
      "############################################################################################################################################################\n",
      "Batch Size ===> 128\n",
      "Iteration: 1\n",
      "--------------------------------------------------------------------------------------------------------------------------------------------------------------------\n"
     ]
    },
    {
     "name": "stderr",
     "output_type": "stream",
     "text": [
      "2023-04-07 01:18:17.121295: I tensorflow/core/common_runtime/executor.cc:1197] [/device:CPU:0] (DEBUG INFO) Executor start aborting (this does not indicate an error and you can ignore this message): INVALID_ARGUMENT: You must feed a value for placeholder tensor 'Placeholder/_1' with dtype uint8 and shape [48000]\n",
      "\t [[{{node Placeholder/_1}}]]\n",
      "2023-04-07 01:18:18.817083: I tensorflow/core/common_runtime/executor.cc:1197] [/device:CPU:0] (DEBUG INFO) Executor start aborting (this does not indicate an error and you can ignore this message): INVALID_ARGUMENT: You must feed a value for placeholder tensor 'Placeholder/_1' with dtype uint8 and shape [12000]\n",
      "\t [[{{node Placeholder/_1}}]]\n"
     ]
    },
    {
     "name": "stdout",
     "output_type": "stream",
     "text": [
      "Epoch 1, Training Loss: 1.2655564546585083, Training Accuracy: 60.37916564941406, Validation Loss: 0.8661901354789734, Validation Accuracy: 70.375\n",
      "Epoch 2, Training Loss: 0.7683231830596924, Training Accuracy: 74.14583587646484, Validation Loss: 0.7040030360221863, Validation Accuracy: 77.14166259765625\n",
      "Epoch 3, Training Loss: 0.661127507686615, Training Accuracy: 78.2437515258789, Validation Loss: 0.6305970549583435, Validation Accuracy: 79.50833129882812\n",
      "Epoch 4, Training Loss: 0.6050357818603516, Training Accuracy: 80.19999694824219, Validation Loss: 0.5868869423866272, Validation Accuracy: 80.81666564941406\n",
      "Time taken: 5.778154134750366\n",
      "--------------------------------------------------------------------------------------------------------------------------------------------------------------------\n",
      "\n",
      "Iteration: 2\n",
      "--------------------------------------------------------------------------------------------------------------------------------------------------------------------\n",
      "Epoch 1, Training Loss: 1.2652889490127563, Training Accuracy: 62.44791793823242, Validation Loss: 0.8545203804969788, Validation Accuracy: 72.3499984741211\n",
      "Epoch 2, Training Loss: 0.760371744632721, Training Accuracy: 75.16666412353516, Validation Loss: 0.6932770013809204, Validation Accuracy: 77.01667022705078\n",
      "Epoch 3, Training Loss: 0.6556534171104431, Training Accuracy: 78.48332977294922, Validation Loss: 0.6230840682983398, Validation Accuracy: 79.80833435058594\n",
      "Epoch 4, Training Loss: 0.6019477248191833, Training Accuracy: 80.1500015258789, Validation Loss: 0.5814640522003174, Validation Accuracy: 80.91666412353516\n",
      "Time taken: 4.2004101276397705\n",
      "--------------------------------------------------------------------------------------------------------------------------------------------------------------------\n",
      "\n",
      "Iteration: 3\n",
      "--------------------------------------------------------------------------------------------------------------------------------------------------------------------\n",
      "Epoch 1, Training Loss: 1.244271993637085, Training Accuracy: 62.63333511352539, Validation Loss: 0.8569406270980835, Validation Accuracy: 72.10833740234375\n",
      "Epoch 2, Training Loss: 0.7628814578056335, Training Accuracy: 75.27291870117188, Validation Loss: 0.6987795829772949, Validation Accuracy: 77.04166412353516\n",
      "Epoch 3, Training Loss: 0.658013641834259, Training Accuracy: 78.60624694824219, Validation Loss: 0.6282413601875305, Validation Accuracy: 79.49166870117188\n",
      "Epoch 4, Training Loss: 0.6032952666282654, Training Accuracy: 80.45832824707031, Validation Loss: 0.5857858657836914, Validation Accuracy: 81.04166412353516\n",
      "Time taken: 4.324148178100586\n",
      "--------------------------------------------------------------------------------------------------------------------------------------------------------------------\n",
      "\n",
      "Iteration: 4\n",
      "--------------------------------------------------------------------------------------------------------------------------------------------------------------------\n",
      "Epoch 1, Training Loss: 1.234829306602478, Training Accuracy: 63.05208206176758, Validation Loss: 0.846027135848999, Validation Accuracy: 73.25833129882812\n",
      "Epoch 2, Training Loss: 0.7539504170417786, Training Accuracy: 75.66875457763672, Validation Loss: 0.6885195970535278, Validation Accuracy: 77.80000305175781\n",
      "Epoch 3, Training Loss: 0.6505885124206543, Training Accuracy: 78.83125305175781, Validation Loss: 0.6204940676689148, Validation Accuracy: 79.80833435058594\n",
      "Epoch 4, Training Loss: 0.5980865359306335, Training Accuracy: 80.36042022705078, Validation Loss: 0.5802426338195801, Validation Accuracy: 80.95832824707031\n",
      "Time taken: 4.619708776473999\n",
      "--------------------------------------------------------------------------------------------------------------------------------------------------------------------\n",
      "\n",
      "Iteration: 5\n",
      "--------------------------------------------------------------------------------------------------------------------------------------------------------------------\n",
      "Epoch 1, Training Loss: 1.2390002012252808, Training Accuracy: 62.414581298828125, Validation Loss: 0.8682873249053955, Validation Accuracy: 70.76667022705078\n",
      "Epoch 2, Training Loss: 0.7687440514564514, Training Accuracy: 74.47083282470703, Validation Loss: 0.7037436962127686, Validation Accuracy: 76.79167175292969\n",
      "Epoch 3, Training Loss: 0.6607231497764587, Training Accuracy: 78.26457977294922, Validation Loss: 0.631645917892456, Validation Accuracy: 79.38333129882812\n",
      "Epoch 4, Training Loss: 0.6056084632873535, Training Accuracy: 80.00208282470703, Validation Loss: 0.5890964865684509, Validation Accuracy: 80.91666412353516\n",
      "Time taken: 5.395470142364502\n",
      "--------------------------------------------------------------------------------------------------------------------------------------------------------------------\n",
      "\n",
      "\n",
      "Mean of the time taken for batch size of 128: 4.863578271865845\n",
      "\n",
      "############################################################################################################################################################\n",
      "Batch Size ===> 256\n",
      "Iteration: 1\n",
      "--------------------------------------------------------------------------------------------------------------------------------------------------------------------\n"
     ]
    },
    {
     "name": "stderr",
     "output_type": "stream",
     "text": [
      "2023-04-07 01:18:41.761383: I tensorflow/core/common_runtime/executor.cc:1197] [/device:CPU:0] (DEBUG INFO) Executor start aborting (this does not indicate an error and you can ignore this message): INVALID_ARGUMENT: You must feed a value for placeholder tensor 'Placeholder/_1' with dtype uint8 and shape [48000]\n",
      "\t [[{{node Placeholder/_1}}]]\n",
      "2023-04-07 01:18:43.372393: I tensorflow/core/common_runtime/executor.cc:1197] [/device:CPU:0] (DEBUG INFO) Executor start aborting (this does not indicate an error and you can ignore this message): INVALID_ARGUMENT: You must feed a value for placeholder tensor 'Placeholder/_1' with dtype uint8 and shape [12000]\n",
      "\t [[{{node Placeholder/_1}}]]\n"
     ]
    },
    {
     "name": "stdout",
     "output_type": "stream",
     "text": [
      "Epoch 1, Training Loss: 1.5971733331680298, Training Accuracy: 51.662498474121094, Validation Loss: 1.1576536893844604, Validation Accuracy: 65.2249984741211\n",
      "Epoch 2, Training Loss: 1.0073330402374268, Training Accuracy: 67.99166870117188, Validation Loss: 0.8907614350318909, Validation Accuracy: 70.53333282470703\n",
      "Epoch 3, Training Loss: 0.8343501687049866, Training Accuracy: 72.2249984741211, Validation Loss: 0.781334638595581, Validation Accuracy: 74.2750015258789\n",
      "Epoch 4, Training Loss: 0.7497875094413757, Training Accuracy: 75.2874984741211, Validation Loss: 0.7174865007400513, Validation Accuracy: 76.55000305175781\n",
      "Epoch 5, Training Loss: 0.6961297392845154, Training Accuracy: 77.12916564941406, Validation Loss: 0.6736609935760498, Validation Accuracy: 77.95833587646484\n",
      "Epoch 6, Training Loss: 0.6579646468162537, Training Accuracy: 78.2874984741211, Validation Loss: 0.6412649154663086, Validation Accuracy: 78.94166564941406\n",
      "Epoch 7, Training Loss: 0.6291590929031372, Training Accuracy: 79.24583435058594, Validation Loss: 0.6162300705909729, Validation Accuracy: 79.85832977294922\n",
      "Epoch 8, Training Loss: 0.6064845323562622, Training Accuracy: 80.02291870117188, Validation Loss: 0.5960975885391235, Validation Accuracy: 80.44166564941406\n",
      "Time taken: 15.559628009796143\n",
      "--------------------------------------------------------------------------------------------------------------------------------------------------------------------\n",
      "\n",
      "Iteration: 2\n",
      "--------------------------------------------------------------------------------------------------------------------------------------------------------------------\n",
      "Epoch 1, Training Loss: 1.49947190284729, Training Accuracy: 55.94999694824219, Validation Loss: 1.0664222240447998, Validation Accuracy: 68.57499694824219\n",
      "Epoch 2, Training Loss: 0.9292047619819641, Training Accuracy: 71.60417175292969, Validation Loss: 0.8384430408477783, Validation Accuracy: 73.61666870117188\n",
      "Epoch 3, Training Loss: 0.7829639911651611, Training Accuracy: 75.10208129882812, Validation Loss: 0.7434011697769165, Validation Accuracy: 76.2750015258789\n",
      "Epoch 4, Training Loss: 0.7102925181388855, Training Accuracy: 77.00416564941406, Validation Loss: 0.6873943209648132, Validation Accuracy: 77.83332824707031\n",
      "Epoch 5, Training Loss: 0.6645215153694153, Training Accuracy: 78.3062515258789, Validation Loss: 0.6492661237716675, Validation Accuracy: 78.89999389648438\n",
      "Epoch 6, Training Loss: 0.6319748759269714, Training Accuracy: 79.26667022705078, Validation Loss: 0.6209797859191895, Validation Accuracy: 79.76667022705078\n",
      "Epoch 7, Training Loss: 0.6072303056716919, Training Accuracy: 79.95208740234375, Validation Loss: 0.5989894270896912, Validation Accuracy: 80.4000015258789\n",
      "Time taken: 10.459946870803833\n",
      "--------------------------------------------------------------------------------------------------------------------------------------------------------------------\n",
      "\n",
      "Iteration: 3\n",
      "--------------------------------------------------------------------------------------------------------------------------------------------------------------------\n",
      "Epoch 1, Training Loss: 1.4922444820404053, Training Accuracy: 56.08958435058594, Validation Loss: 1.0802713632583618, Validation Accuracy: 67.75\n",
      "Epoch 2, Training Loss: 0.9396288394927979, Training Accuracy: 70.37916564941406, Validation Loss: 0.848760724067688, Validation Accuracy: 72.54166412353516\n",
      "Epoch 3, Training Loss: 0.7910194993019104, Training Accuracy: 74.06666564941406, Validation Loss: 0.7527894377708435, Validation Accuracy: 75.44166564941406\n",
      "Epoch 4, Training Loss: 0.7171101570129395, Training Accuracy: 76.36250305175781, Validation Loss: 0.6960403919219971, Validation Accuracy: 77.31666564941406\n",
      "Epoch 5, Training Loss: 0.6697918176651001, Training Accuracy: 77.92708587646484, Validation Loss: 0.6569290161132812, Validation Accuracy: 78.64166259765625\n",
      "Epoch 6, Training Loss: 0.6358706951141357, Training Accuracy: 79.0999984741211, Validation Loss: 0.6278009414672852, Validation Accuracy: 79.5999984741211\n",
      "Epoch 7, Training Loss: 0.6100016832351685, Training Accuracy: 79.88541412353516, Validation Loss: 0.6050222516059875, Validation Accuracy: 80.19166564941406\n",
      "Time taken: 11.804025650024414\n",
      "--------------------------------------------------------------------------------------------------------------------------------------------------------------------\n",
      "\n",
      "Iteration: 4\n",
      "--------------------------------------------------------------------------------------------------------------------------------------------------------------------\n",
      "Epoch 1, Training Loss: 1.526617169380188, Training Accuracy: 52.52916717529297, Validation Loss: 1.110544204711914, Validation Accuracy: 64.91666412353516\n",
      "Epoch 2, Training Loss: 0.9625993371009827, Training Accuracy: 68.64374542236328, Validation Loss: 0.8662197589874268, Validation Accuracy: 71.07499694824219\n",
      "Epoch 3, Training Loss: 0.8087584376335144, Training Accuracy: 73.32707977294922, Validation Loss: 0.7666397094726562, Validation Accuracy: 74.8499984741211\n",
      "Epoch 4, Training Loss: 0.731572151184082, Training Accuracy: 76.2125015258789, Validation Loss: 0.7064965963363647, Validation Accuracy: 77.13333129882812\n",
      "Epoch 5, Training Loss: 0.6810379028320312, Training Accuracy: 77.96041107177734, Validation Loss: 0.6640858054161072, Validation Accuracy: 78.44999694824219\n",
      "Epoch 6, Training Loss: 0.6442240476608276, Training Accuracy: 79.11250305175781, Validation Loss: 0.6320701837539673, Validation Accuracy: 79.54166412353516\n",
      "Epoch 7, Training Loss: 0.6159167289733887, Training Accuracy: 79.89791870117188, Validation Loss: 0.6069467663764954, Validation Accuracy: 80.45832824707031\n",
      "Time taken: 8.804914236068726\n",
      "--------------------------------------------------------------------------------------------------------------------------------------------------------------------\n",
      "\n",
      "Iteration: 5\n",
      "--------------------------------------------------------------------------------------------------------------------------------------------------------------------\n",
      "Epoch 1, Training Loss: 1.5516433715820312, Training Accuracy: 54.13541793823242, Validation Loss: 1.0973758697509766, Validation Accuracy: 66.20833587646484\n",
      "Epoch 2, Training Loss: 0.9507331848144531, Training Accuracy: 69.2125015258789, Validation Loss: 0.8467553853988647, Validation Accuracy: 72.05833435058594\n",
      "Epoch 3, Training Loss: 0.7927201986312866, Training Accuracy: 73.87916564941406, Validation Loss: 0.7476469874382019, Validation Accuracy: 75.46666717529297\n",
      "Epoch 4, Training Loss: 0.7164655923843384, Training Accuracy: 76.46666717529297, Validation Loss: 0.6900838613510132, Validation Accuracy: 77.4000015258789\n",
      "Epoch 5, Training Loss: 0.6682726740837097, Training Accuracy: 78.02291870117188, Validation Loss: 0.6507297158241272, Validation Accuracy: 78.69999694824219\n",
      "Epoch 6, Training Loss: 0.6339340806007385, Training Accuracy: 78.9937515258789, Validation Loss: 0.6215670108795166, Validation Accuracy: 79.5999984741211\n",
      "Epoch 7, Training Loss: 0.6078580617904663, Training Accuracy: 79.76874542236328, Validation Loss: 0.5989500284194946, Validation Accuracy: 80.18333435058594\n",
      "Time taken: 11.851127862930298\n",
      "--------------------------------------------------------------------------------------------------------------------------------------------------------------------\n",
      "\n",
      "\n",
      "Mean of the time taken for batch size of 256: 11.695928525924682\n",
      "\n",
      "############################################################################################################################################################\n",
      "Batch Size ===> 512\n",
      "Iteration: 1\n",
      "--------------------------------------------------------------------------------------------------------------------------------------------------------------------\n"
     ]
    },
    {
     "name": "stderr",
     "output_type": "stream",
     "text": [
      "2023-04-07 01:19:40.302752: I tensorflow/core/common_runtime/executor.cc:1197] [/device:CPU:0] (DEBUG INFO) Executor start aborting (this does not indicate an error and you can ignore this message): INVALID_ARGUMENT: You must feed a value for placeholder tensor 'Placeholder/_1' with dtype uint8 and shape [48000]\n",
      "\t [[{{node Placeholder/_1}}]]\n",
      "2023-04-07 01:19:41.044882: I tensorflow/core/common_runtime/executor.cc:1197] [/device:CPU:0] (DEBUG INFO) Executor start aborting (this does not indicate an error and you can ignore this message): INVALID_ARGUMENT: You must feed a value for placeholder tensor 'Placeholder/_1' with dtype uint8 and shape [12000]\n",
      "\t [[{{node Placeholder/_1}}]]\n"
     ]
    },
    {
     "name": "stdout",
     "output_type": "stream",
     "text": [
      "Epoch 1, Training Loss: 1.8690561056137085, Training Accuracy: 39.87708282470703, Validation Loss: 1.4722137451171875, Validation Accuracy: 61.1583366394043\n",
      "Epoch 2, Training Loss: 1.2593003511428833, Training Accuracy: 64.29583740234375, Validation Loss: 1.0989489555358887, Validation Accuracy: 66.66667175292969\n",
      "Epoch 3, Training Loss: 1.0094282627105713, Training Accuracy: 68.0062484741211, Validation Loss: 0.9381808638572693, Validation Accuracy: 69.75833129882812\n",
      "Epoch 4, Training Loss: 0.8886393904685974, Training Accuracy: 70.68541717529297, Validation Loss: 0.8487844467163086, Validation Accuracy: 72.25\n",
      "Epoch 5, Training Loss: 0.8159891366958618, Training Accuracy: 72.78125, Validation Loss: 0.7908725738525391, Validation Accuracy: 73.875\n",
      "Epoch 6, Training Loss: 0.7665011882781982, Training Accuracy: 74.46666717529297, Validation Loss: 0.7493866086006165, Validation Accuracy: 75.20833587646484\n",
      "Epoch 7, Training Loss: 0.7297108173370361, Training Accuracy: 75.75416564941406, Validation Loss: 0.7173770070075989, Validation Accuracy: 76.21666717529297\n",
      "Epoch 8, Training Loss: 0.7002843618392944, Training Accuracy: 76.89167022705078, Validation Loss: 0.6905967593193054, Validation Accuracy: 77.43333435058594\n",
      "Epoch 9, Training Loss: 0.6755974292755127, Training Accuracy: 77.8187484741211, Validation Loss: 0.6684867739677429, Validation Accuracy: 78.34166717529297\n",
      "Epoch 10, Training Loss: 0.6551586985588074, Training Accuracy: 78.49583435058594, Validation Loss: 0.6498292088508606, Validation Accuracy: 78.98332977294922\n",
      "Epoch 11, Training Loss: 0.6379115581512451, Training Accuracy: 79.06458282470703, Validation Loss: 0.6339252591133118, Validation Accuracy: 79.54999542236328\n",
      "Epoch 12, Training Loss: 0.6230633854866028, Training Accuracy: 79.4749984741211, Validation Loss: 0.6201233267784119, Validation Accuracy: 79.875\n",
      "Epoch 13, Training Loss: 0.6100685000419617, Training Accuracy: 79.875, Validation Loss: 0.6079553365707397, Validation Accuracy: 80.18333435058594\n",
      "Time taken: 9.560336112976074\n",
      "--------------------------------------------------------------------------------------------------------------------------------------------------------------------\n",
      "\n",
      "Iteration: 2\n",
      "--------------------------------------------------------------------------------------------------------------------------------------------------------------------\n",
      "Epoch 1, Training Loss: 1.9170160293579102, Training Accuracy: 38.51041793823242, Validation Loss: 1.571740984916687, Validation Accuracy: 59.108333587646484\n",
      "Epoch 2, Training Loss: 1.3374630212783813, Training Accuracy: 63.93541717529297, Validation Loss: 1.1500544548034668, Validation Accuracy: 66.32500457763672\n",
      "Epoch 3, Training Loss: 1.0398423671722412, Training Accuracy: 68.1875, Validation Loss: 0.9558383822441101, Validation Accuracy: 69.45833587646484\n",
      "Epoch 4, Training Loss: 0.8990992903709412, Training Accuracy: 71.06458282470703, Validation Loss: 0.8553998470306396, Validation Accuracy: 71.92500305175781\n",
      "Epoch 5, Training Loss: 0.8195273280143738, Training Accuracy: 73.37916564941406, Validation Loss: 0.7926533222198486, Validation Accuracy: 73.89167022705078\n",
      "Epoch 6, Training Loss: 0.7669250965118408, Training Accuracy: 75.03958129882812, Validation Loss: 0.7485145926475525, Validation Accuracy: 75.68333435058594\n",
      "Epoch 7, Training Loss: 0.728657603263855, Training Accuracy: 76.30833435058594, Validation Loss: 0.7153471112251282, Validation Accuracy: 76.70833587646484\n",
      "Epoch 8, Training Loss: 0.6993567943572998, Training Accuracy: 77.16458129882812, Validation Loss: 0.6893765330314636, Validation Accuracy: 77.40833282470703\n",
      "Epoch 9, Training Loss: 0.6757711172103882, Training Accuracy: 77.95833587646484, Validation Loss: 0.6681368947029114, Validation Accuracy: 78.07499694824219\n",
      "Epoch 10, Training Loss: 0.6561940908432007, Training Accuracy: 78.53333282470703, Validation Loss: 0.6503374576568604, Validation Accuracy: 78.59166717529297\n",
      "Epoch 11, Training Loss: 0.6395894885063171, Training Accuracy: 79.04792022705078, Validation Loss: 0.6351165175437927, Validation Accuracy: 79.15833282470703\n",
      "Epoch 12, Training Loss: 0.6252672076225281, Training Accuracy: 79.49583435058594, Validation Loss: 0.6218964457511902, Validation Accuracy: 79.48333740234375\n",
      "Epoch 13, Training Loss: 0.6127506494522095, Training Accuracy: 79.94583129882812, Validation Loss: 0.6102681756019592, Validation Accuracy: 79.83333587646484\n",
      "Epoch 14, Training Loss: 0.6016889214515686, Training Accuracy: 80.32083129882812, Validation Loss: 0.5999491810798645, Validation Accuracy: 80.0999984741211\n",
      "Time taken: 11.921663999557495\n",
      "--------------------------------------------------------------------------------------------------------------------------------------------------------------------\n",
      "\n",
      "Iteration: 3\n",
      "--------------------------------------------------------------------------------------------------------------------------------------------------------------------\n",
      "Epoch 1, Training Loss: 1.8442405462265015, Training Accuracy: 42.29375076293945, Validation Loss: 1.4896291494369507, Validation Accuracy: 60.53333282470703\n",
      "Epoch 2, Training Loss: 1.2880432605743408, Training Accuracy: 64.5250015258789, Validation Loss: 1.1311007738113403, Validation Accuracy: 66.92500305175781\n",
      "Epoch 3, Training Loss: 1.0350373983383179, Training Accuracy: 68.95833587646484, Validation Loss: 0.9619691967964172, Validation Accuracy: 70.2750015258789\n",
      "Epoch 4, Training Loss: 0.9086362719535828, Training Accuracy: 71.62916564941406, Validation Loss: 0.8694565296173096, Validation Accuracy: 72.08333587646484\n",
      "Epoch 5, Training Loss: 0.8340028524398804, Training Accuracy: 73.23750305175781, Validation Loss: 0.8100271821022034, Validation Accuracy: 73.46666717529297\n",
      "Epoch 6, Training Loss: 0.7834248542785645, Training Accuracy: 74.42500305175781, Validation Loss: 0.7672348618507385, Validation Accuracy: 74.50833129882812\n",
      "Epoch 7, Training Loss: 0.7457869648933411, Training Accuracy: 75.3812484741211, Validation Loss: 0.7340331077575684, Validation Accuracy: 75.44166564941406\n",
      "Epoch 8, Training Loss: 0.7159042358398438, Training Accuracy: 76.21041870117188, Validation Loss: 0.7070464491844177, Validation Accuracy: 76.30000305175781\n",
      "Epoch 9, Training Loss: 0.6913999319076538, Training Accuracy: 76.92916107177734, Validation Loss: 0.6846566796302795, Validation Accuracy: 77.03333282470703\n",
      "Epoch 10, Training Loss: 0.6708196401596069, Training Accuracy: 77.60208129882812, Validation Loss: 0.665608286857605, Validation Accuracy: 77.71666717529297\n",
      "Epoch 11, Training Loss: 0.6531280279159546, Training Accuracy: 78.19791412353516, Validation Loss: 0.6490853428840637, Validation Accuracy: 78.32499694824219\n",
      "Epoch 12, Training Loss: 0.6376656889915466, Training Accuracy: 78.70208740234375, Validation Loss: 0.6345844864845276, Validation Accuracy: 78.94166564941406\n",
      "Epoch 13, Training Loss: 0.6239908337593079, Training Accuracy: 79.16041564941406, Validation Loss: 0.6217910647392273, Validation Accuracy: 79.24166870117188\n",
      "Epoch 14, Training Loss: 0.6117880940437317, Training Accuracy: 79.58333587646484, Validation Loss: 0.6103196740150452, Validation Accuracy: 79.75\n",
      "Epoch 15, Training Loss: 0.6008187532424927, Training Accuracy: 79.98750305175781, Validation Loss: 0.5999319553375244, Validation Accuracy: 80.14167022705078\n",
      "Time taken: 10.812786102294922\n",
      "--------------------------------------------------------------------------------------------------------------------------------------------------------------------\n",
      "\n",
      "Iteration: 4\n",
      "--------------------------------------------------------------------------------------------------------------------------------------------------------------------\n",
      "Epoch 1, Training Loss: 1.7982182502746582, Training Accuracy: 43.712501525878906, Validation Loss: 1.4150601625442505, Validation Accuracy: 62.233333587646484\n",
      "Epoch 2, Training Loss: 1.2325092554092407, Training Accuracy: 65.29582977294922, Validation Loss: 1.0988831520080566, Validation Accuracy: 67.09166717529297\n",
      "Epoch 3, Training Loss: 1.015561580657959, Training Accuracy: 68.50625610351562, Validation Loss: 0.9562117457389832, Validation Accuracy: 69.36666107177734\n",
      "Epoch 4, Training Loss: 0.9063045382499695, Training Accuracy: 70.69583892822266, Validation Loss: 0.8733246922492981, Validation Accuracy: 71.4000015258789\n",
      "Epoch 5, Training Loss: 0.8375510573387146, Training Accuracy: 72.52708435058594, Validation Loss: 0.817348301410675, Validation Accuracy: 73.33333587646484\n",
      "Epoch 6, Training Loss: 0.7893341779708862, Training Accuracy: 74.02708435058594, Validation Loss: 0.776465117931366, Validation Accuracy: 74.76666259765625\n",
      "Epoch 7, Training Loss: 0.7529761791229248, Training Accuracy: 75.35625457763672, Validation Loss: 0.7444590926170349, Validation Accuracy: 75.99166870117188\n",
      "Epoch 8, Training Loss: 0.7238706350326538, Training Accuracy: 76.33125305175781, Validation Loss: 0.7181617617607117, Validation Accuracy: 76.90833282470703\n",
      "Epoch 9, Training Loss: 0.6996224522590637, Training Accuracy: 77.15208435058594, Validation Loss: 0.6958560943603516, Validation Accuracy: 77.625\n",
      "Epoch 10, Training Loss: 0.6788139939308167, Training Accuracy: 77.85624694824219, Validation Loss: 0.6766901612281799, Validation Accuracy: 78.33333587646484\n",
      "Epoch 11, Training Loss: 0.6607605218887329, Training Accuracy: 78.48542022705078, Validation Loss: 0.6599355340003967, Validation Accuracy: 78.90833282470703\n",
      "Epoch 12, Training Loss: 0.6448907852172852, Training Accuracy: 79.02083587646484, Validation Loss: 0.6450871825218201, Validation Accuracy: 79.32500457763672\n",
      "Epoch 13, Training Loss: 0.6307984590530396, Training Accuracy: 79.44166564941406, Validation Loss: 0.631855845451355, Validation Accuracy: 79.69999694824219\n",
      "Epoch 14, Training Loss: 0.6182471513748169, Training Accuracy: 79.82083892822266, Validation Loss: 0.6200217008590698, Validation Accuracy: 80.09166717529297\n",
      "Time taken: 8.857431888580322\n",
      "--------------------------------------------------------------------------------------------------------------------------------------------------------------------\n",
      "\n",
      "Iteration: 5\n",
      "--------------------------------------------------------------------------------------------------------------------------------------------------------------------\n",
      "Epoch 1, Training Loss: 1.775394320487976, Training Accuracy: 47.22708511352539, Validation Loss: 1.4062528610229492, Validation Accuracy: 60.03333282470703\n",
      "Epoch 2, Training Loss: 1.2191201448440552, Training Accuracy: 64.11458587646484, Validation Loss: 1.0864832401275635, Validation Accuracy: 66.45833587646484\n",
      "Epoch 3, Training Loss: 1.0017292499542236, Training Accuracy: 68.69583129882812, Validation Loss: 0.9451196193695068, Validation Accuracy: 69.4749984741211\n",
      "Epoch 4, Training Loss: 0.8944054245948792, Training Accuracy: 71.15833282470703, Validation Loss: 0.8640775084495544, Validation Accuracy: 71.61666870117188\n",
      "Epoch 5, Training Loss: 0.8270476460456848, Training Accuracy: 72.93541717529297, Validation Loss: 0.8083996772766113, Validation Accuracy: 73.2750015258789\n",
      "Epoch 6, Training Loss: 0.7795306444168091, Training Accuracy: 74.25416564941406, Validation Loss: 0.7677530646324158, Validation Accuracy: 74.64167022705078\n",
      "Epoch 7, Training Loss: 0.743937611579895, Training Accuracy: 75.4375, Validation Loss: 0.7361187934875488, Validation Accuracy: 75.86666870117188\n",
      "Epoch 8, Training Loss: 0.7156326770782471, Training Accuracy: 76.33125305175781, Validation Loss: 0.7103744149208069, Validation Accuracy: 76.69166564941406\n",
      "Epoch 9, Training Loss: 0.6922301650047302, Training Accuracy: 77.07708740234375, Validation Loss: 0.6887391209602356, Validation Accuracy: 77.43333435058594\n",
      "Epoch 10, Training Loss: 0.6723595857620239, Training Accuracy: 77.77083587646484, Validation Loss: 0.6701576709747314, Validation Accuracy: 78.16667175292969\n",
      "Epoch 11, Training Loss: 0.6551721692085266, Training Accuracy: 78.36250305175781, Validation Loss: 0.6539692282676697, Validation Accuracy: 78.7249984741211\n",
      "Epoch 12, Training Loss: 0.6401000022888184, Training Accuracy: 78.91041564941406, Validation Loss: 0.6396926045417786, Validation Accuracy: 79.24166870117188\n",
      "Epoch 13, Training Loss: 0.6267338395118713, Training Accuracy: 79.32500457763672, Validation Loss: 0.6269544959068298, Validation Accuracy: 79.63333129882812\n",
      "Epoch 14, Training Loss: 0.614777684211731, Training Accuracy: 79.69583129882812, Validation Loss: 0.6155136823654175, Validation Accuracy: 79.9000015258789\n",
      "Epoch 15, Training Loss: 0.6039994359016418, Training Accuracy: 80.07707977294922, Validation Loss: 0.6051560044288635, Validation Accuracy: 80.19166564941406\n",
      "Time taken: 8.115577936172485\n",
      "--------------------------------------------------------------------------------------------------------------------------------------------------------------------\n",
      "\n",
      "\n",
      "Mean of the time taken for batch size of 512: 9.853559207916259\n",
      "\n",
      "############################################################################################################################################################\n"
     ]
    }
   ],
   "source": [
    "batch_sizes = [32, 64, 128, 256, 512]\n",
    "timeTakenBatchSizesMean = []\n",
    "timeTakenBatchSizesStd = []\n",
    "\n",
    "for batch_size in batch_sizes:\n",
    "    print(f\"Batch Size ===> {batch_size}\")\n",
    "    train_ds, validation_ds = clf.setBatchSize(batch_size, X_train, T_train, X_validation, T_validation)\n",
    "    time_taken_Arr = []\n",
    "    \n",
    "    for i in range(5):\n",
    "        print(f\"Iteration: {i+1}\")\n",
    "        time_taken = clf.model_train(train_ds, validation_ds)\n",
    "        time_taken_Arr.append(time_taken)\n",
    "        print()\n",
    "    \n",
    "    time_taken_mean = np.mean(np.array(time_taken_Arr))\n",
    "    time_taken_std = np.std(np.array(time_taken_Arr))\n",
    "    print()\n",
    "    print(f\"Mean of the time taken for batch size of {batch_size}: {time_taken_mean}\")\n",
    "    timeTakenBatchSizesMean.append(time_taken_mean)\n",
    "    timeTakenBatchSizesStd.append(time_taken_std)\n",
    "    print()\n",
    "    print(\"############################################################################################################################################################\")\n",
    "    \n",
    "        "
   ]
  },
  {
   "attachments": {},
   "cell_type": "markdown",
   "metadata": {},
   "source": [
    "## Select the batch size that has the smallest run-tme. Report this batch size. Also report the sample mean and sample standard deviation of the 5 runs times."
   ]
  },
  {
   "cell_type": "code",
   "execution_count": 8,
   "metadata": {},
   "outputs": [
    {
     "data": {
      "text/plain": [
       "{32: 4.271796178817749,\n",
       " 64: 5.985004568099976,\n",
       " 128: 4.863578271865845,\n",
       " 256: 11.695928525924682,\n",
       " 512: 9.853559207916259}"
      ]
     },
     "execution_count": 8,
     "metadata": {},
     "output_type": "execute_result"
    }
   ],
   "source": [
    "time_batch_map_mean = dict(zip(batch_sizes, timeTakenBatchSizesMean))\n",
    "time_batch_map_mean"
   ]
  },
  {
   "cell_type": "code",
   "execution_count": 9,
   "metadata": {},
   "outputs": [
    {
     "data": {
      "text/plain": [
       "{32: 0.8438213739199153,\n",
       " 64: 2.517410708836467,\n",
       " 128: 0.6179979150825756,\n",
       " 256: 2.229329935207475,\n",
       " 512: 1.3635249894867774}"
      ]
     },
     "execution_count": 9,
     "metadata": {},
     "output_type": "execute_result"
    }
   ],
   "source": [
    "time_batch_map_std = dict(zip(batch_sizes, timeTakenBatchSizesStd))\n",
    "time_batch_map_std"
   ]
  },
  {
   "cell_type": "code",
   "execution_count": 10,
   "metadata": {},
   "outputs": [
    {
     "name": "stdout",
     "output_type": "stream",
     "text": [
      "The batch size that has the smallest average run-time is: 32 with a run-time of 4.271796178817749\n",
      "Sample mean of the 5 run times is: 4.271796178817749\n",
      "Sample standard deviation of the 5 run times is: 0.8438213739199153\n"
     ]
    }
   ],
   "source": [
    "minimum_time = float(\"inf\")\n",
    "final_batch_size = 0\n",
    "for key, value in time_batch_map_mean.items():\n",
    "    if value < minimum_time:\n",
    "        final_batch_size = key\n",
    "        minimum_time = value\n",
    "\n",
    "print(f\"The batch size that has the smallest average run-time is: {final_batch_size} with a run-time of {minimum_time}\")\n",
    "print(f\"Sample mean of the 5 run times is: {time_batch_map_mean[final_batch_size]}\")\n",
    "print(f\"Sample standard deviation of the 5 run times is: {time_batch_map_std[final_batch_size]}\")"
   ]
  },
  {
   "attachments": {},
   "cell_type": "markdown",
   "metadata": {},
   "source": [
    "## Inference:"
   ]
  },
  {
   "attachments": {},
   "cell_type": "markdown",
   "metadata": {},
   "source": [
    "### We can see from the results obtained the average time taken to get an accuracy greater than 80% was lesser for a batch size of 32 images. Hence, I will be using batch_size = 32 for 1] (b)"
   ]
  },
  {
   "cell_type": "markdown",
   "metadata": {},
   "source": []
  }
 ],
 "metadata": {
  "kernelspec": {
   "display_name": "ml",
   "language": "python",
   "name": "python3"
  },
  "language_info": {
   "codemirror_mode": {
    "name": "ipython",
    "version": 3
   },
   "file_extension": ".py",
   "mimetype": "text/x-python",
   "name": "python",
   "nbconvert_exporter": "python",
   "pygments_lexer": "ipython3",
   "version": "3.10.8"
  },
  "orig_nbformat": 4
 },
 "nbformat": 4,
 "nbformat_minor": 2
}
