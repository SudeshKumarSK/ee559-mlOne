{
 "cells": [
  {
   "cell_type": "markdown",
   "metadata": {},
   "source": [
    "# Homework : 4 Machine Learning - 1 (Supervised Methods)"
   ]
  },
  {
   "cell_type": "markdown",
   "metadata": {},
   "source": [
    "## 4] Code up a nonilnear polynomial transformation that can be performed on a dataset file with N data points and D (original) features."
   ]
  },
  {
   "cell_type": "code",
   "execution_count": 1,
   "metadata": {},
   "outputs": [],
   "source": [
    "# Importing required libraries\n",
    "\n",
    "import numpy as np\n",
    "import pandas as pd\n",
    "import matplotlib.pyplot as plt\n",
    "from utils.perceptron import Perceptron\n",
    "from helper.transform import quadraticTransformation, cubicTransformation\n",
    "from helper.plotlinear import plotDecisionBoundary\n",
    "from helper.plotnonlinear import plotDecBoundaries_Nonlinear\n"
   ]
  },
  {
   "cell_type": "markdown",
   "metadata": {},
   "source": [
    "### Loading the Training Data and Testing Data from dataset-1 using Pandas"
   ]
  },
  {
   "cell_type": "code",
   "execution_count": 2,
   "metadata": {},
   "outputs": [
    {
     "name": "stdout",
     "output_type": "stream",
     "text": [
      "Train Data -> 1: \n",
      "          0         1    2\n",
      "0  2.199291  3.690399  1.0\n",
      "1  0.472634 -0.709271  2.0\n",
      "2 -0.026662 -1.335827  2.0\n",
      "3 -0.116866 -1.336345  2.0\n",
      "4  2.100909  1.143771  2.0\n",
      "\n",
      "Test Data -> 1: \n",
      "          0         1    2\n",
      "0  1.226845  0.273791  2.0\n",
      "1 -0.929775  0.300098  1.0\n",
      "2  0.220924  0.835073  1.0\n",
      "3  0.783772 -0.233020  2.0\n",
      "4  2.116507  0.728805  2.0\n"
     ]
    }
   ],
   "source": [
    "train_data_1 = pd.read_csv(\"./datasets/dataset1_train.csv\", header=None)\n",
    "print(\"Train Data -> 1: \")\n",
    "print(train_data_1.head())\n",
    "print()\n",
    "\n",
    "test_data_1 = pd.read_csv(\"./datasets/dataset1_test.csv\", header=None)\n",
    "print(\"Test Data -> 1: \")\n",
    "print(test_data_1.head())"
   ]
  },
  {
   "cell_type": "markdown",
   "metadata": {},
   "source": [
    "### Loading the Training Data and Testing Data from dataset-2 using Pandas"
   ]
  },
  {
   "cell_type": "code",
   "execution_count": 3,
   "metadata": {},
   "outputs": [
    {
     "name": "stdout",
     "output_type": "stream",
     "text": [
      "Train Data -> 2: \n",
      "          0         1    2\n",
      "0  0.493655  0.905948  1.0\n",
      "1  0.872053 -0.355721  2.0\n",
      "2 -0.009021  0.132694  2.0\n",
      "3 -0.578481  1.000596  1.0\n",
      "4 -0.438395  1.038901  1.0\n",
      "\n",
      "Test Data -> 2: \n",
      "          0         1    2\n",
      "0 -0.070044 -0.118457  2.0\n",
      "1 -0.824375  0.892066  1.0\n",
      "2  1.384810  0.016317  2.0\n",
      "3  0.304828  0.286498  2.0\n",
      "4  1.651588  0.902572  1.0\n",
      "\n"
     ]
    }
   ],
   "source": [
    "train_data_2 = pd.read_csv(\"./datasets/dataset2_train.csv\", header=None)\n",
    "print(\"Train Data -> 2: \")\n",
    "print(train_data_2.head())\n",
    "print()\n",
    "\n",
    "test_data_2 = pd.read_csv(\"./datasets/dataset2_test.csv\", header=None)\n",
    "print(\"Test Data -> 2: \")\n",
    "print(test_data_2.head())\n",
    "print()"
   ]
  },
  {
   "cell_type": "markdown",
   "metadata": {},
   "source": [
    "### Loading the Training Data and Testing Data from dataset-3 using Pandas"
   ]
  },
  {
   "cell_type": "code",
   "execution_count": 4,
   "metadata": {},
   "outputs": [
    {
     "name": "stdout",
     "output_type": "stream",
     "text": [
      "Train Data -> 3: \n",
      "          0         1    2\n",
      "0 -3.182181  1.966441  1.0\n",
      "1  0.245498  1.287367  2.0\n",
      "2  0.480500  0.785206  2.0\n",
      "3  0.338015 -0.906211  1.0\n",
      "4  0.396452  1.345380  2.0\n",
      "\n",
      "Test Data -> 3: \n",
      "          0         1    2\n",
      "0  0.624833  1.394105  2.0\n",
      "1  2.976187 -0.119177  1.0\n",
      "2  0.489271 -2.653542  1.0\n",
      "3  0.159336  1.642712  2.0\n",
      "4  0.059028  0.772479  2.0\n",
      "\n"
     ]
    }
   ],
   "source": [
    "train_data_3 = pd.read_csv(\"./datasets/dataset3_train.csv\", header=None)\n",
    "print(\"Train Data -> 3: \")\n",
    "print(train_data_3.head())\n",
    "print()\n",
    "\n",
    "test_data_3 = pd.read_csv(\"./datasets/dataset3_test.csv\", header=None)\n",
    "print(\"Test Data -> 3: \")\n",
    "print(test_data_3.head())\n",
    "\n",
    "print()"
   ]
  },
  {
   "cell_type": "markdown",
   "metadata": {},
   "source": [
    "## Creating instances for the Perceptron class()"
   ]
  },
  {
   "cell_type": "code",
   "execution_count": 5,
   "metadata": {},
   "outputs": [],
   "source": [
    "perceptron_1 = Perceptron()\n",
    "perceptron_2 = Perceptron()\n",
    "perceptron_3 = Perceptron()"
   ]
  },
  {
   "cell_type": "markdown",
   "metadata": {},
   "source": [
    "## Generating Train and Test Data for the classification task"
   ]
  },
  {
   "cell_type": "code",
   "execution_count": 6,
   "metadata": {},
   "outputs": [
    {
     "name": "stdout",
     "output_type": "stream",
     "text": [
      "---------------------------------------------------\n",
      "  Shape of Input Data: (100, 3)\n",
      "  Number of Data Points: 100\n",
      "  Number of Input Features: 2\n",
      "  Number of Target Classes: 2\n",
      "---------------------------------------------------\n",
      "Shape of Augmented X_train_1: (100, 3)\n",
      "\n",
      "---------------------------------------------------\n",
      "  Shape of Input Data: (100, 3)\n",
      "  Number of Data Points: 100\n",
      "  Number of Input Features: 2\n",
      "  Number of Target Classes: 2\n",
      "---------------------------------------------------\n",
      "Shape of Augmented X_train_2: (100, 3)\n",
      "\n",
      "---------------------------------------------------\n",
      "  Shape of Input Data: (100, 3)\n",
      "  Number of Data Points: 100\n",
      "  Number of Input Features: 2\n",
      "  Number of Target Classes: 2\n",
      "---------------------------------------------------\n",
      "Shape of Augmented X_train_3: (100, 3)\n"
     ]
    }
   ],
   "source": [
    "# Generating Train Data and Changing labels of Train Labels.\n",
    "n_train_1, X_train_1, T_train_1 = perceptron_1.generateTrainData(trainData=train_data_1)\n",
    "X_train_std_1 = perceptron_1.standardizeTrainData(X_train=X_train_1)\n",
    "X_train_augmented_1 = perceptron_1.augmentData(X=X_train_std_1, n=n_train_1)\n",
    "print(f\"Shape of Augmented X_train_1: {X_train_augmented_1.shape}\")\n",
    "T_train_changed_1 = perceptron_1.changeLabels(T = T_train_1)\n",
    "# X_train_shuffled_1, T_train_shuffled_1 = perceptron_1.shuffleData(X=X_train_augmented_1, T=T_train_changed_1.reshape(n_train_1, 1))\n",
    "print()\n",
    "\n",
    "n_train_2, X_train_2, T_train_2 = perceptron_2.generateTrainData(trainData=train_data_2)\n",
    "X_train_std_2 = perceptron_2.standardizeTrainData(X_train=X_train_2)\n",
    "X_train_augmented_2 = perceptron_2.augmentData(X=X_train_std_2, n=n_train_2)\n",
    "print(f\"Shape of Augmented X_train_2: {X_train_augmented_2.shape}\")\n",
    "T_train_changed_2 = perceptron_2.changeLabels(T = T_train_2)\n",
    "# X_train_shuffled_2, T_train_shuffled_2 = perceptron_2.shuffleData(X=X_train_augmented_2, T=T_train_changed_2.reshape(n_train_2, 1))\n",
    "print()\n",
    "\n",
    "\n",
    "n_train_3, X_train_3, T_train_3 = perceptron_3.generateTrainData(trainData=train_data_3)\n",
    "X_train_std_3 = perceptron_3.standardizeTrainData(X_train=X_train_3)\n",
    "X_train_augmented_3 = perceptron_3.augmentData(X=X_train_std_3, n=n_train_3)\n",
    "print(f\"Shape of Augmented X_train_3: {X_train_augmented_3.shape}\")\n",
    "T_train_changed_3 = perceptron_3.changeLabels(T = T_train_3)\n",
    "# X_train_shuffled_3, T_train_shuffled_3 = perceptron_3.shuffleData(X=X_train_augmented_3, T=T_train_changed_3.reshape(n_train_3, 1))\n"
   ]
  },
  {
   "cell_type": "code",
   "execution_count": 7,
   "metadata": {},
   "outputs": [
    {
     "name": "stdout",
     "output_type": "stream",
     "text": [
      "---------------------------------------------------\n",
      "  Shape of Input Data: (100, 3)\n",
      "  Number of Data Points: 100\n",
      "  Number of Input Features: 2\n",
      "  Number of Target Classes: 2\n",
      "---------------------------------------------------\n",
      "Shape of Augmented X_test_1: (100, 3)\n",
      "\n",
      "---------------------------------------------------\n",
      "  Shape of Input Data: (100, 3)\n",
      "  Number of Data Points: 100\n",
      "  Number of Input Features: 2\n",
      "  Number of Target Classes: 2\n",
      "---------------------------------------------------\n",
      "Shape of Augmented X_test_2: (100, 3)\n",
      "\n",
      "---------------------------------------------------\n",
      "  Shape of Input Data: (100, 3)\n",
      "  Number of Data Points: 100\n",
      "  Number of Input Features: 2\n",
      "  Number of Target Classes: 2\n",
      "---------------------------------------------------\n",
      "Shape of Augmented X_test_3: (100, 3)\n"
     ]
    }
   ],
   "source": [
    "# Generating the Test Data\n",
    "n_test_1, X_test_1, T_test_1 = perceptron_1.generateTestData(test_data=test_data_1, printFlag=True) \n",
    "X_test_std_1 = perceptron_1.standardizeTestData(X_test=X_test_1)\n",
    "X_test_augmented_1 = perceptron_1.augmentData(X=X_test_std_1, n=n_test_1)\n",
    "print(f\"Shape of Augmented X_test_1: {X_test_augmented_1.shape}\")\n",
    "T_test_changed_1 = perceptron_1.changeLabels(T = T_test_1)\n",
    "print()\n",
    "\n",
    "n_test_2, X_test_2, T_test_2 = perceptron_2.generateTestData(test_data=test_data_2, printFlag=True) \n",
    "X_test_std_2 = perceptron_2.standardizeTestData(X_test=X_test_2)\n",
    "X_test_augmented_2 = perceptron_2.augmentData(X=X_test_std_2, n=n_test_2)\n",
    "print(f\"Shape of Augmented X_test_2: {X_test_augmented_2.shape}\")\n",
    "T_test_changed_2 = perceptron_2.changeLabels(T = T_test_2)\n",
    "print()\n",
    "\n",
    "n_test_3, X_test_3, T_test_3 = perceptron_3.generateTestData(test_data=test_data_3, printFlag=True) \n",
    "X_test_std_3 = perceptron_3.standardizeTestData(X_test=X_test_3)\n",
    "X_test_augmented_3 = perceptron_3.augmentData(X=X_test_std_3, n=n_test_3)\n",
    "print(f\"Shape of Augmented X_test_3: {X_test_augmented_3.shape}\")\n",
    "T_test_changed_3 = perceptron_3.changeLabels(T = T_test_3)\n"
   ]
  },
  {
   "cell_type": "markdown",
   "metadata": {},
   "source": [
    "## Initializing weight_vector to learn the parameters after training"
   ]
  },
  {
   "cell_type": "code",
   "execution_count": 8,
   "metadata": {},
   "outputs": [
    {
     "name": "stdout",
     "output_type": "stream",
     "text": [
      "Shape of weights for Training Set -> 1 is: (3, 1)\n"
     ]
    }
   ],
   "source": [
    "w_vector = perceptron_1.initializeWeights(1)\n",
    "print(f\"Shape of weights for Training Set -> 1 is: {w_vector.shape}\")\n",
    "\n",
    "# w_vector_2 = perceptron_2.initializeWeights(1)\n",
    "# print(f\"Shape of weights for Training Set -> 1 is: {w_vector_2.shape}\")\n",
    "\n",
    "# w_vector_3 = perceptron_3.initializeWeights(1)\n",
    "# print(f\"Shape of weights for Training Set -> 1 is: {w_vector_3.shape}\")"
   ]
  },
  {
   "cell_type": "markdown",
   "metadata": {},
   "source": [
    "## 4] (a) Linear classification. Run a linear 2-class perceptron classifier on each training dataset. Use the same parameters given in Problem 1 “Algorithm notes” above. For each dataset, give the resulting classification accuracy on both the training and testing sets. Plot the resulting decision regions along with the training data points, and in a separate plot show the decision regions along with the testing data points."
   ]
  },
  {
   "cell_type": "code",
   "execution_count": 9,
   "metadata": {},
   "outputs": [
    {
     "name": "stdout",
     "output_type": "stream",
     "text": [
      "Epoch #1 --> Cost J(W) is: 0\n",
      "Epoch #2 --> Cost J(W) is: 0\n",
      "Epoch #3 --> Cost J(W) is: 0\n",
      "Epoch #4 --> Cost J(W) is: 0\n",
      "Epoch #5 --> Cost J(W) is: 0\n",
      "Epoch #6 --> Cost J(W) is: 0\n",
      "Epoch #7 --> Cost J(W) is: 0\n",
      "Epoch #8 --> Cost J(W) is: 0\n",
      "Epoch #9 --> Cost J(W) is: 0\n",
      "Epoch #10 --> Cost J(W) is: 0\n",
      "Epoch #11 --> Cost J(W) is: 0\n",
      "Epoch #12 --> Cost J(W) is: 0\n",
      "Epoch #13 --> Cost J(W) is: 0\n",
      "Epoch #14 --> Cost J(W) is: 0\n",
      "Epoch #15 --> Cost J(W) is: 0\n",
      "Epoch #16 --> Cost J(W) is: 0\n",
      "Epoch #17 --> Cost J(W) is: 0\n",
      "Epoch #18 --> Cost J(W) is: 0\n",
      "Epoch #19 --> Cost J(W) is: 0\n",
      "Epoch #20 --> Cost J(W) is: 0\n",
      "Epoch #21 --> Cost J(W) is: 0\n",
      "Epoch #22 --> Cost J(W) is: 0\n",
      "Epoch #23 --> Cost J(W) is: 0\n",
      "Epoch #24 --> Cost J(W) is: 0\n",
      "Epoch #25 --> Cost J(W) is: 0\n",
      "Epoch #26 --> Cost J(W) is: 0\n",
      "Epoch #27 --> Cost J(W) is: 0\n",
      "Epoch #28 --> Cost J(W) is: 0\n",
      "Epoch #29 --> Cost J(W) is: 0\n",
      "Epoch #30 --> Cost J(W) is: 0\n",
      "Epoch #31 --> Cost J(W) is: 0\n",
      "Epoch #32 --> Cost J(W) is: 0\n",
      "Epoch #33 --> Cost J(W) is: 0\n",
      "Epoch #34 --> Cost J(W) is: 0\n",
      "Epoch #35 --> Cost J(W) is: 0\n",
      "Epoch #36 --> Cost J(W) is: 0\n",
      "Epoch #37 --> Cost J(W) is: 0\n",
      "Epoch #38 --> Cost J(W) is: 0\n",
      "Epoch #39 --> Cost J(W) is: 0\n",
      "Epoch #40 --> Cost J(W) is: 0\n",
      "Epoch #41 --> Cost J(W) is: 0\n",
      "Epoch #42 --> Cost J(W) is: 0\n",
      "Epoch #43 --> Cost J(W) is: 0\n",
      "Epoch #44 --> Cost J(W) is: 0\n",
      "Epoch #45 --> Cost J(W) is: 0\n",
      "Epoch #46 --> Cost J(W) is: 0\n",
      "Epoch #47 --> Cost J(W) is: 0\n",
      "Epoch #48 --> Cost J(W) is: 0\n",
      "Epoch #49 --> Cost J(W) is: 0\n",
      "Epoch #50 --> Cost J(W) is: 0\n",
      "Epoch #51 --> Cost J(W) is: 0\n",
      "Epoch #52 --> Cost J(W) is: 0\n",
      "Epoch #53 --> Cost J(W) is: 0\n",
      "Epoch #54 --> Cost J(W) is: 0\n",
      "Epoch #55 --> Cost J(W) is: 0\n",
      "Epoch #56 --> Cost J(W) is: 0\n",
      "Epoch #57 --> Cost J(W) is: 0\n",
      "Epoch #58 --> Cost J(W) is: 0\n",
      "Epoch #59 --> Cost J(W) is: 0\n",
      "Epoch #60 --> Cost J(W) is: 0\n",
      "Epoch #61 --> Cost J(W) is: 0\n",
      "Epoch #62 --> Cost J(W) is: 0\n",
      "Epoch #63 --> Cost J(W) is: 0\n",
      "Epoch #64 --> Cost J(W) is: 0\n",
      "Epoch #65 --> Cost J(W) is: 0\n",
      "Epoch #66 --> Cost J(W) is: 0\n",
      "Epoch #67 --> Cost J(W) is: 0\n",
      "Epoch #68 --> Cost J(W) is: 0\n",
      "Epoch #69 --> Cost J(W) is: 0\n",
      "Epoch #70 --> Cost J(W) is: 0\n",
      "Epoch #71 --> Cost J(W) is: 0\n",
      "Epoch #72 --> Cost J(W) is: 0\n",
      "Epoch #73 --> Cost J(W) is: 0\n",
      "Epoch #74 --> Cost J(W) is: 0\n",
      "Epoch #75 --> Cost J(W) is: 0\n",
      "Epoch #76 --> Cost J(W) is: 0\n",
      "Epoch #77 --> Cost J(W) is: 0\n",
      "Epoch #78 --> Cost J(W) is: 0\n",
      "Epoch #79 --> Cost J(W) is: 0\n",
      "Epoch #80 --> Cost J(W) is: 0\n",
      "Epoch #81 --> Cost J(W) is: 0\n",
      "Epoch #82 --> Cost J(W) is: 0\n",
      "Epoch #83 --> Cost J(W) is: 0\n",
      "Epoch #84 --> Cost J(W) is: 0\n",
      "Epoch #85 --> Cost J(W) is: 0\n",
      "Epoch #86 --> Cost J(W) is: 0\n",
      "Epoch #87 --> Cost J(W) is: 0\n",
      "Epoch #88 --> Cost J(W) is: 0\n",
      "Epoch #89 --> Cost J(W) is: 0\n",
      "Epoch #90 --> Cost J(W) is: 0\n",
      "Epoch #91 --> Cost J(W) is: 0\n",
      "Epoch #92 --> Cost J(W) is: 0\n",
      "Epoch #93 --> Cost J(W) is: 0\n",
      "Epoch #94 --> Cost J(W) is: 0\n",
      "Epoch #95 --> Cost J(W) is: 0\n",
      "Epoch #96 --> Cost J(W) is: 0\n",
      "Epoch #97 --> Cost J(W) is: 0\n",
      "Epoch #98 --> Cost J(W) is: 0\n",
      "Epoch #99 --> Cost J(W) is: 0\n",
      "Epoch #100 and Interation #0 --> Cost J(W) is: 0\n",
      "Epoch #100 --> Cost J(W) is: 0\n"
     ]
    }
   ],
   "source": [
    "# Perform the training process using the initialized weights for Training Set -> 1\n",
    "optimum_w_vector_1 = perceptron_1.modelTrain_SGD(X_train=X_train_augmented_1, n_train=n_train_1, T_train=T_train_changed_1, w_vector = w_vector, epochs=100, learn_rate=1, printFlag=True)"
   ]
  },
  {
   "cell_type": "code",
   "execution_count": 10,
   "metadata": {},
   "outputs": [
    {
     "name": "stdout",
     "output_type": "stream",
     "text": [
      "Epoch #1 --> Cost J(W) is: 0\n",
      "Epoch #2 --> Cost J(W) is: 0\n",
      "Epoch #3 --> Cost J(W) is: 0\n",
      "Epoch #4 --> Cost J(W) is: 0\n",
      "Epoch #5 --> Cost J(W) is: 0\n",
      "Epoch #6 --> Cost J(W) is: 0\n",
      "Epoch #7 --> Cost J(W) is: 0\n",
      "Epoch #8 --> Cost J(W) is: 0\n",
      "Epoch #9 --> Cost J(W) is: 0\n",
      "Epoch #10 --> Cost J(W) is: 0\n",
      "Epoch #11 --> Cost J(W) is: 0\n",
      "Epoch #12 --> Cost J(W) is: 0\n",
      "Epoch #13 --> Cost J(W) is: 0\n",
      "Epoch #14 --> Cost J(W) is: 0\n",
      "Epoch #15 --> Cost J(W) is: 0\n",
      "Epoch #16 --> Cost J(W) is: 0\n",
      "Epoch #17 --> Cost J(W) is: 0\n",
      "Epoch #18 --> Cost J(W) is: 0\n",
      "Epoch #19 --> Cost J(W) is: 0\n",
      "Epoch #20 --> Cost J(W) is: 0\n",
      "Epoch #21 --> Cost J(W) is: 0\n",
      "Epoch #22 --> Cost J(W) is: 0\n",
      "Epoch #23 --> Cost J(W) is: 0\n",
      "Epoch #24 --> Cost J(W) is: 0\n",
      "Epoch #25 --> Cost J(W) is: 0\n",
      "Epoch #26 --> Cost J(W) is: 0\n",
      "Epoch #27 --> Cost J(W) is: 0\n",
      "Epoch #28 --> Cost J(W) is: 0\n",
      "Epoch #29 --> Cost J(W) is: 0\n",
      "Epoch #30 --> Cost J(W) is: 0\n",
      "Epoch #31 --> Cost J(W) is: 0\n",
      "Epoch #32 --> Cost J(W) is: 0\n",
      "Epoch #33 --> Cost J(W) is: 0\n",
      "Epoch #34 --> Cost J(W) is: 0\n",
      "Epoch #35 --> Cost J(W) is: 0\n",
      "Epoch #36 --> Cost J(W) is: 0\n",
      "Epoch #37 --> Cost J(W) is: 0\n",
      "Epoch #38 --> Cost J(W) is: 0\n",
      "Epoch #39 --> Cost J(W) is: 0\n",
      "Epoch #40 --> Cost J(W) is: 0\n",
      "Epoch #41 --> Cost J(W) is: 0\n",
      "Epoch #42 --> Cost J(W) is: 0\n",
      "Epoch #43 --> Cost J(W) is: 0\n",
      "Epoch #44 --> Cost J(W) is: 0\n",
      "Epoch #45 --> Cost J(W) is: 0\n",
      "Epoch #46 --> Cost J(W) is: 0\n",
      "Epoch #47 --> Cost J(W) is: 0\n",
      "Epoch #48 --> Cost J(W) is: 0\n",
      "Epoch #49 --> Cost J(W) is: 0\n",
      "Epoch #50 --> Cost J(W) is: 0\n",
      "Epoch #51 --> Cost J(W) is: 0\n",
      "Epoch #52 --> Cost J(W) is: 0\n",
      "Epoch #53 --> Cost J(W) is: 0\n",
      "Epoch #54 --> Cost J(W) is: 0\n",
      "Epoch #55 --> Cost J(W) is: 0\n",
      "Epoch #56 --> Cost J(W) is: 0\n",
      "Epoch #57 --> Cost J(W) is: 0\n",
      "Epoch #58 --> Cost J(W) is: 0\n",
      "Epoch #59 --> Cost J(W) is: 0\n",
      "Epoch #60 --> Cost J(W) is: 0\n",
      "Epoch #61 --> Cost J(W) is: 0\n",
      "Epoch #62 --> Cost J(W) is: 0\n",
      "Epoch #63 --> Cost J(W) is: 0\n",
      "Epoch #64 --> Cost J(W) is: 0\n",
      "Epoch #65 --> Cost J(W) is: 0\n",
      "Epoch #66 --> Cost J(W) is: 0\n",
      "Epoch #67 --> Cost J(W) is: 0\n",
      "Epoch #68 --> Cost J(W) is: 0\n",
      "Epoch #69 --> Cost J(W) is: 0\n",
      "Epoch #70 --> Cost J(W) is: 0\n",
      "Epoch #71 --> Cost J(W) is: 0\n",
      "Epoch #72 --> Cost J(W) is: 0\n",
      "Epoch #73 --> Cost J(W) is: 0\n",
      "Epoch #74 --> Cost J(W) is: 0\n",
      "Epoch #75 --> Cost J(W) is: 0\n",
      "Epoch #76 --> Cost J(W) is: 0\n",
      "Epoch #77 --> Cost J(W) is: 0\n",
      "Epoch #78 --> Cost J(W) is: 0\n",
      "Epoch #79 --> Cost J(W) is: 0\n",
      "Epoch #80 --> Cost J(W) is: 0\n",
      "Epoch #81 --> Cost J(W) is: 0\n",
      "Epoch #82 --> Cost J(W) is: 0\n",
      "Epoch #83 --> Cost J(W) is: 0\n",
      "Epoch #84 --> Cost J(W) is: 0\n",
      "Epoch #85 --> Cost J(W) is: 0\n",
      "Epoch #86 --> Cost J(W) is: 0\n",
      "Epoch #87 --> Cost J(W) is: 0\n",
      "Epoch #88 --> Cost J(W) is: 0\n",
      "Epoch #89 --> Cost J(W) is: 0\n",
      "Epoch #90 --> Cost J(W) is: 0\n",
      "Epoch #91 --> Cost J(W) is: 0\n",
      "Epoch #92 --> Cost J(W) is: 0\n",
      "Epoch #93 --> Cost J(W) is: 0\n",
      "Epoch #94 --> Cost J(W) is: 0\n",
      "Epoch #95 --> Cost J(W) is: 0\n",
      "Epoch #96 --> Cost J(W) is: 0\n",
      "Epoch #97 --> Cost J(W) is: 0\n",
      "Epoch #98 --> Cost J(W) is: 0\n",
      "Epoch #99 --> Cost J(W) is: 0\n",
      "Epoch #100 and Interation #0 --> Cost J(W) is: 0\n",
      "Epoch #100 --> Cost J(W) is: 0\n"
     ]
    }
   ],
   "source": [
    "# Perform the training process using the initialized weights for Training Set -> 2\n",
    "optimum_w_vector_2 = perceptron_2.modelTrain_SGD(X_train=X_train_augmented_2, n_train=n_train_2, T_train=T_train_changed_2, w_vector = w_vector, epochs=100, learn_rate=1, printFlag=True)"
   ]
  },
  {
   "cell_type": "code",
   "execution_count": 11,
   "metadata": {},
   "outputs": [
    {
     "name": "stdout",
     "output_type": "stream",
     "text": [
      "Epoch #1 --> Cost J(W) is: 18.18734621549554\n",
      "Epoch #2 --> Cost J(W) is: 77.84587317557855\n",
      "Epoch #3 --> Cost J(W) is: 78.51072715295412\n",
      "Epoch #4 --> Cost J(W) is: 51.53956492661226\n",
      "Epoch #5 --> Cost J(W) is: 64.01607057526257\n",
      "Epoch #6 --> Cost J(W) is: 46.53864575979995\n",
      "Epoch #7 --> Cost J(W) is: 37.52351148237898\n",
      "Epoch #8 --> Cost J(W) is: 39.40473847949651\n",
      "Epoch #9 --> Cost J(W) is: 67.04443310830727\n",
      "Epoch #10 --> Cost J(W) is: 40.107370628539904\n",
      "Epoch #11 --> Cost J(W) is: 112.86541083239662\n",
      "Epoch #12 --> Cost J(W) is: 45.688823511591316\n",
      "Epoch #13 --> Cost J(W) is: 60.95928855311864\n",
      "Epoch #14 --> Cost J(W) is: 90.2443530501577\n",
      "Epoch #15 --> Cost J(W) is: 40.641460079466405\n",
      "Epoch #16 --> Cost J(W) is: 61.50449182126452\n",
      "Epoch #17 --> Cost J(W) is: 50.70767063946351\n",
      "Epoch #18 --> Cost J(W) is: 26.003349045644\n",
      "Epoch #19 --> Cost J(W) is: 44.59988570139395\n",
      "Epoch #20 --> Cost J(W) is: 59.50731234321397\n",
      "Epoch #21 --> Cost J(W) is: 72.41261402097265\n",
      "Epoch #22 --> Cost J(W) is: 40.077143786420336\n",
      "Epoch #23 --> Cost J(W) is: 75.94293832109864\n",
      "Epoch #24 --> Cost J(W) is: 65.36904403840309\n",
      "Epoch #25 --> Cost J(W) is: 54.39495685724697\n",
      "Epoch #26 --> Cost J(W) is: 68.98870477149762\n",
      "Epoch #27 --> Cost J(W) is: 57.47056914148307\n",
      "Epoch #28 --> Cost J(W) is: 77.54727710896832\n",
      "Epoch #29 --> Cost J(W) is: 50.30792741175028\n",
      "Epoch #30 --> Cost J(W) is: 41.635050991090374\n",
      "Epoch #31 --> Cost J(W) is: 57.22096221006572\n",
      "Epoch #32 --> Cost J(W) is: 14.400294938004702\n",
      "Epoch #33 --> Cost J(W) is: 145.24302427449436\n",
      "Epoch #34 --> Cost J(W) is: 53.09933972288919\n",
      "Epoch #35 --> Cost J(W) is: 86.85414342153967\n",
      "Epoch #36 --> Cost J(W) is: 130.36268246260732\n",
      "Epoch #37 --> Cost J(W) is: 40.168855456978335\n",
      "Epoch #38 --> Cost J(W) is: 50.689146547158245\n",
      "Epoch #39 --> Cost J(W) is: 34.7360644930824\n",
      "Epoch #40 --> Cost J(W) is: 22.060079682719728\n",
      "Epoch #41 --> Cost J(W) is: 85.23590637408815\n",
      "Epoch #42 --> Cost J(W) is: 66.71680531777596\n",
      "Epoch #43 --> Cost J(W) is: 70.16577637860826\n",
      "Epoch #44 --> Cost J(W) is: 56.27691962852468\n",
      "Epoch #45 --> Cost J(W) is: 97.7401667423766\n",
      "Epoch #46 --> Cost J(W) is: 64.46893941956442\n",
      "Epoch #47 --> Cost J(W) is: 50.82478490742868\n",
      "Epoch #48 --> Cost J(W) is: 57.1336847975171\n",
      "Epoch #49 --> Cost J(W) is: 67.26757503631175\n",
      "Epoch #50 --> Cost J(W) is: 101.1528649557925\n",
      "Epoch #51 --> Cost J(W) is: 54.81984572717406\n",
      "Epoch #52 --> Cost J(W) is: 39.88681556388077\n",
      "Epoch #53 --> Cost J(W) is: 57.73159286202386\n",
      "Epoch #54 --> Cost J(W) is: 78.80681453054947\n",
      "Epoch #55 --> Cost J(W) is: 56.026589151608846\n",
      "Epoch #56 --> Cost J(W) is: 41.76187757065922\n",
      "Epoch #57 --> Cost J(W) is: 66.17124709642547\n",
      "Epoch #58 --> Cost J(W) is: 53.35974087043856\n",
      "Epoch #59 --> Cost J(W) is: 44.43491470133166\n",
      "Epoch #60 --> Cost J(W) is: 83.64176012007576\n",
      "Epoch #61 --> Cost J(W) is: 31.413926274460717\n",
      "Epoch #62 --> Cost J(W) is: 54.93209798344409\n",
      "Epoch #63 --> Cost J(W) is: 71.70577036258605\n",
      "Epoch #64 --> Cost J(W) is: 18.301989187634007\n",
      "Epoch #65 --> Cost J(W) is: 38.0311425403055\n",
      "Epoch #66 --> Cost J(W) is: 39.965134200455\n",
      "Epoch #67 --> Cost J(W) is: 55.97374406103715\n",
      "Epoch #68 --> Cost J(W) is: 110.82598572423167\n",
      "Epoch #69 --> Cost J(W) is: 33.49470841750856\n",
      "Epoch #70 --> Cost J(W) is: 83.20817474602187\n",
      "Epoch #71 --> Cost J(W) is: 7.578448478682107\n",
      "Epoch #72 --> Cost J(W) is: 44.242012317417824\n",
      "Epoch #73 --> Cost J(W) is: 23.649570445474332\n",
      "Epoch #74 --> Cost J(W) is: 97.90283349377081\n",
      "Epoch #75 --> Cost J(W) is: 35.61347644843147\n",
      "Epoch #76 --> Cost J(W) is: 29.88494334027852\n",
      "Epoch #77 --> Cost J(W) is: 44.088895236396006\n",
      "Epoch #78 --> Cost J(W) is: 127.14989696092091\n",
      "Epoch #79 --> Cost J(W) is: 36.74158221764237\n",
      "Epoch #80 --> Cost J(W) is: 46.359582090143086\n",
      "Epoch #81 --> Cost J(W) is: 25.72653871810141\n",
      "Epoch #82 --> Cost J(W) is: 9.410219583202853\n",
      "Epoch #83 --> Cost J(W) is: 4.561424040500869\n",
      "Epoch #84 --> Cost J(W) is: 46.1691613929526\n",
      "Epoch #85 --> Cost J(W) is: 78.28902989186841\n",
      "Epoch #86 --> Cost J(W) is: 47.557113550489255\n",
      "Epoch #87 --> Cost J(W) is: 96.18590638571732\n",
      "Epoch #88 --> Cost J(W) is: 41.95389764058372\n",
      "Epoch #89 --> Cost J(W) is: 31.369930931982843\n",
      "Epoch #90 --> Cost J(W) is: 90.50330152654566\n",
      "Epoch #91 --> Cost J(W) is: 45.44484362122409\n",
      "Epoch #92 --> Cost J(W) is: 39.07297511671891\n",
      "Epoch #93 --> Cost J(W) is: 45.355238761342925\n",
      "Epoch #94 --> Cost J(W) is: 23.82171358315365\n",
      "Epoch #95 --> Cost J(W) is: 46.5682223132888\n",
      "Epoch #96 --> Cost J(W) is: 41.714235713652336\n",
      "Epoch #97 --> Cost J(W) is: 39.466584787311035\n",
      "Epoch #98 --> Cost J(W) is: 61.48192163491\n",
      "Epoch #99 --> Cost J(W) is: 101.40112954048514\n",
      "Epoch #100 and Interation #0 --> Cost J(W) is: 101.40112954048514\n",
      "Epoch #100 and Interation #2 --> Cost J(W) is: 64.54075053699941\n",
      "Epoch #100 and Interation #4 --> Cost J(W) is: 57.48048101719254\n",
      "Epoch #100 and Interation #10 --> Cost J(W) is: 52.75855215979837\n",
      "Epoch #100 and Interation #12 --> Cost J(W) is: 49.333714551741245\n",
      "Epoch #100 and Interation #47 --> Cost J(W) is: 36.55436505994157\n",
      "Epoch #100 and Interation #54 --> Cost J(W) is: 28.951838187030205\n",
      "Epoch #100 and Interation #88 --> Cost J(W) is: 22.315882172738522\n",
      "Epoch #100 and Interation #98 --> Cost J(W) is: 16.278589551472226\n",
      "Epoch #100 --> Cost J(W) is: 16.278589551472226\n"
     ]
    }
   ],
   "source": [
    "# Perform the training process using the initialized weights for Training Set -> 3\n",
    "optimum_w_vector_3 = perceptron_3.modelTrain_SGD(X_train=X_train_augmented_3, n_train=n_train_3, T_train=T_train_changed_3, w_vector = w_vector, epochs=100, learn_rate=1, printFlag=True)"
   ]
  },
  {
   "cell_type": "markdown",
   "metadata": {},
   "source": [
    "## Classification Accuracy for Training and Test Data of Dataset - 1"
   ]
  },
  {
   "cell_type": "code",
   "execution_count": 12,
   "metadata": {},
   "outputs": [
    {
     "name": "stdout",
     "output_type": "stream",
     "text": [
      "-----------------------------------------------------------------------------------------------------\n",
      "The Optimum w_vector after training on training data of Dataset -> 1\n",
      "[[ 0.        ]\n",
      " [-0.6869379 ]\n",
      " [ 0.65352061]]\n",
      "Classification Accuracy on the training data of Dataset - 1 is: 100.0\n",
      "Classification Accuracy on the test data of Dataset - 1 is: 100.0\n",
      "-----------------------------------------------------------------------------------------------------\n"
     ]
    }
   ],
   "source": [
    "print(\"-----------------------------------------------------------------------------------------------------\")\n",
    "print(\"The Optimum w_vector after training on training data of Dataset -> 1\")\n",
    "print(optimum_w_vector_1)\n",
    "Y_hat_training_1 = perceptron_1.predict(X=X_train_augmented_1, optimum_w_vector=optimum_w_vector_1)\n",
    "accuracy_training_1 = perceptron_1.calculateAccuracy(T=T_train_changed_1, Y_hat=Y_hat_training_1, n=n_train_1)\n",
    "print(f\"Classification Accuracy on the training data of Dataset - 1 is: {accuracy_training_1}\")\n",
    "\n",
    "Y_hat_test_1 = perceptron_1.predict(X=X_test_augmented_1, optimum_w_vector=optimum_w_vector_1)\n",
    "accuracy_test_1 = perceptron_1.calculateAccuracy(T=T_test_changed_1, Y_hat=Y_hat_test_1, n=n_test_1)\n",
    "print(f\"Classification Accuracy on the test data of Dataset - 1 is: {accuracy_test_1}\")\n",
    "print(\"-----------------------------------------------------------------------------------------------------\")"
   ]
  },
  {
   "cell_type": "markdown",
   "metadata": {},
   "source": [
    "## Classification Accuracy for Training and Test Data of Dataset - 2"
   ]
  },
  {
   "cell_type": "code",
   "execution_count": 13,
   "metadata": {},
   "outputs": [
    {
     "name": "stdout",
     "output_type": "stream",
     "text": [
      "-----------------------------------------------------------------------------------------------------\n",
      "The Optimum w_vector after training on training data of Dataset -> 2\n",
      "[[ 0.        ]\n",
      " [-0.15082563]\n",
      " [ 2.00909745]]\n",
      "Classification Accuracy on the training data of Dataset - 2 is: 100.0\n",
      "Classification Accuracy on the test data of Dataset - 2 is: 100.0\n",
      "-----------------------------------------------------------------------------------------------------\n"
     ]
    }
   ],
   "source": [
    "print(\"-----------------------------------------------------------------------------------------------------\")\n",
    "print(\"The Optimum w_vector after training on training data of Dataset -> 2\")\n",
    "print(optimum_w_vector_2)\n",
    "Y_hat_training_2 = perceptron_2.predict(X=X_train_augmented_2, optimum_w_vector=optimum_w_vector_2)\n",
    "accuracy_training_2 = perceptron_2.calculateAccuracy(T=T_train_changed_2, Y_hat=Y_hat_training_2, n=n_train_2)\n",
    "print(f\"Classification Accuracy on the training data of Dataset - 2 is: {accuracy_training_2}\")\n",
    "\n",
    "Y_hat_test_2 = perceptron_2.predict(X=X_test_augmented_2, optimum_w_vector=optimum_w_vector_2)\n",
    "accuracy_test_2 = perceptron_2.calculateAccuracy(T=T_test_changed_2, Y_hat=Y_hat_test_2, n=n_test_2)\n",
    "print(f\"Classification Accuracy on the test data of Dataset - 2 is: {accuracy_test_2}\")\n",
    "print(\"-----------------------------------------------------------------------------------------------------\")"
   ]
  },
  {
   "cell_type": "markdown",
   "metadata": {},
   "source": [
    "## Classification Accuracy for Training and Test Data of Dataset - 3"
   ]
  },
  {
   "cell_type": "code",
   "execution_count": 14,
   "metadata": {},
   "outputs": [
    {
     "name": "stdout",
     "output_type": "stream",
     "text": [
      "-----------------------------------------------------------------------------------------------------\n",
      "The Optimum w_vector after training on training data of Dataset -> 3\n",
      "[[ 0.        ]\n",
      " [-0.72624028]\n",
      " [ 0.01007799]]\n",
      "Classification Accuracy on the training data of Dataset - 3 is: 69.0\n",
      "Classification Accuracy on the test data of Dataset - 3 is: 66.0\n",
      "-----------------------------------------------------------------------------------------------------\n"
     ]
    }
   ],
   "source": [
    "print(\"-----------------------------------------------------------------------------------------------------\")\n",
    "print(\"The Optimum w_vector after training on training data of Dataset -> 3\")\n",
    "print(optimum_w_vector_3)\n",
    "Y_hat_training_3 = perceptron_3.predict(X=X_train_augmented_3, optimum_w_vector=optimum_w_vector_3)\n",
    "accuracy_training_3 = perceptron_3.calculateAccuracy(T=T_train_changed_3, Y_hat=Y_hat_training_3, n=n_train_3)\n",
    "print(f\"Classification Accuracy on the training data of Dataset - 3 is: {accuracy_training_3}\")\n",
    "\n",
    "Y_hat_test_3 = perceptron_3.predict(X=X_test_augmented_3, optimum_w_vector=optimum_w_vector_3)\n",
    "accuracy_test_3 = perceptron_3.calculateAccuracy(T=T_test_changed_3, Y_hat=Y_hat_test_3, n=n_test_3)\n",
    "print(f\"Classification Accuracy on the test data of Dataset - 3 is: {accuracy_test_3}\")\n",
    "print(\"-----------------------------------------------------------------------------------------------------\")"
   ]
  },
  {
   "cell_type": "markdown",
   "metadata": {},
   "source": [
    "## Plotting the Data-points and Decision Boundary for Dataset -> 1"
   ]
  },
  {
   "cell_type": "code",
   "execution_count": 15,
   "metadata": {},
   "outputs": [
    {
     "data": {
      "image/png": "[encoded data removed]",
      "text/plain": [
       "<Figure size 640x480 with 1 Axes>"
      ]
     },
     "metadata": {},
     "output_type": "display_data"
    },
    {
     "data": {
      "image/png": "[encoded data removed]",
      "text/plain": [
       "<Figure size 640x480 with 1 Axes>"
      ]
     },
     "metadata": {},
     "output_type": "display_data"
    }
   ],
   "source": [
    "plotDecisionBoundary(X=X_train_1, Y=T_train_1, w=optimum_w_vector_1)\n",
    "plotDecisionBoundary(X=X_test_1, Y=T_test_1, w=optimum_w_vector_1)"
   ]
  },
  {
   "cell_type": "markdown",
   "metadata": {},
   "source": [
    "## Plotting the Data-points and Decision Boundary for Dataset -> 2"
   ]
  },
  {
   "cell_type": "code",
   "execution_count": 16,
   "metadata": {},
   "outputs": [],
   "source": [
    "optimum_w_vector_2 = [[-1.],\n",
    "                      [-0.15301336],\n",
    "                      [2.52635079]]"
   ]
  },
  {
   "cell_type": "code",
   "execution_count": 17,
   "metadata": {},
   "outputs": [
    {
     "data": {
      "image/png": "[encoded data removed]",
      "text/plain": [
       "<Figure size 640x480 with 1 Axes>"
      ]
     },
     "metadata": {},
     "output_type": "display_data"
    },
    {
     "data": {
      "image/png": "[encoded data removed]",
      "text/plain": [
       "<Figure size 640x480 with 1 Axes>"
      ]
     },
     "metadata": {},
     "output_type": "display_data"
    }
   ],
   "source": [
    "plotDecisionBoundary(X=X_train_2, Y=T_train_2, w=optimum_w_vector_2)\n",
    "plotDecisionBoundary(X=X_test_2, Y=T_test_2, w=optimum_w_vector_2)"
   ]
  },
  {
   "cell_type": "markdown",
   "metadata": {},
   "source": [
    "## Plotting the Data-points and Decision Boundary for Dataset -> 3"
   ]
  },
  {
   "cell_type": "code",
   "execution_count": 18,
   "metadata": {},
   "outputs": [
    {
     "data": {
      "image/png": "[encoded data removed]",
      "text/plain": [
       "<Figure size 640x480 with 1 Axes>"
      ]
     },
     "metadata": {},
     "output_type": "display_data"
    },
    {
     "data": {
      "image/png": "[encoded data removed]",
      "text/plain": [
       "<Figure size 640x480 with 1 Axes>"
      ]
     },
     "metadata": {},
     "output_type": "display_data"
    }
   ],
   "source": [
    "plotDecisionBoundary(X=X_train_3, Y=T_train_3, w=optimum_w_vector_3)\n",
    "plotDecisionBoundary(X=X_test_3, Y=T_test_3, w=optimum_w_vector_3)"
   ]
  },
  {
   "cell_type": "markdown",
   "metadata": {},
   "source": [
    "## 2] (b) Repeat part (a), except run it 10 times. Report only the mean and standard deviation of the training-set accuracy and testing-set accuracy. No plots."
   ]
  },
  {
   "cell_type": "code",
   "execution_count": 19,
   "metadata": {},
   "outputs": [],
   "source": [
    "trainAccuracyHist_1 = []\n",
    "testAccuracyHist_1 = []\n",
    "\n",
    "trainAccuracyHist_2 = []\n",
    "testAccuracyHist_2 = []\n",
    "\n",
    "trainAccuracyHist_3 = []\n",
    "testAccuracyHist_3 = []\n",
    "\n",
    "for i in range(10):\n",
    "    w_vector = perceptron_1.initializeWeights(1)\n",
    "    # w_vector_2 = perceptron_2.initializeWeights(1)\n",
    "    # w_vector_3 = perceptron_3.initializeWeights(1)\n",
    "\n",
    "    # Perform the training process using the initialized weights for Training Set -> 1\n",
    "    final_w_1 = perceptron_1.modelTrain_SGD(X_train=X_train_augmented_1, n_train=n_train_1, T_train=T_train_changed_1, w_vector = w_vector, epochs=100, learn_rate=1, printFlag=False)\n",
    "    Y_hat_training_1 = perceptron_1.predict(X=X_train_augmented_1, optimum_w_vector=final_w_1)\n",
    "    accuracy_training_1 = perceptron_1.calculateAccuracy(T=T_train_changed_1, Y_hat=Y_hat_training_1, n=n_train_1)\n",
    "    trainAccuracyHist_1.append(accuracy_training_1)\n",
    "\n",
    "    Y_hat_test_1 = perceptron_1.predict(X=X_test_augmented_1, optimum_w_vector=final_w_1)\n",
    "    accuracy_test_1 = perceptron_1.calculateAccuracy(T=T_test_changed_1, Y_hat=Y_hat_test_1, n=n_test_1)\n",
    "    testAccuracyHist_1.append(accuracy_test_1)\n",
    "\n",
    "\n",
    "    # Perform the training process using the initialized weights for Training Set -> 2\n",
    "    final_w_2 = perceptron_3.modelTrain_SGD(X_train=X_train_augmented_2, n_train=n_train_2, T_train=T_train_changed_2, w_vector = w_vector, epochs=100, learn_rate=1, printFlag=False)  \n",
    "\n",
    "    Y_hat_training_2 = perceptron_2.predict(X=X_train_augmented_2, optimum_w_vector=final_w_2)\n",
    "    accuracy_training_2 = perceptron_2.calculateAccuracy(T=T_train_changed_2, Y_hat=Y_hat_training_2, n=n_train_2)\n",
    "    trainAccuracyHist_2.append(accuracy_training_2)\n",
    "\n",
    "    Y_hat_test_2 = perceptron_2.predict(X=X_test_augmented_2, optimum_w_vector=final_w_2)\n",
    "    accuracy_test_2 = perceptron_2.calculateAccuracy(T=T_test_changed_2, Y_hat=Y_hat_test_2, n=n_test_2)\n",
    "    testAccuracyHist_2.append(accuracy_test_2)\n",
    "\n",
    "\n",
    "    # Perform the training process using the initialized weights for Training Set -> 3\n",
    "    final_w_3 = perceptron_3.modelTrain_SGD(X_train=X_train_augmented_3, n_train=n_train_3, T_train=T_train_changed_3, w_vector = w_vector, epochs=100, learn_rate=1, printFlag=False)\n",
    "    \n",
    "    Y_hat_training_3 = perceptron_3.predict(X=X_train_augmented_3, optimum_w_vector=final_w_3)\n",
    "    accuracy_training_3 = perceptron_3.calculateAccuracy(T=T_train_changed_3, Y_hat=Y_hat_training_3, n=n_train_3)\n",
    "    trainAccuracyHist_3.append(accuracy_training_3)\n",
    "    \n",
    "\n",
    "    Y_hat_test_3 = perceptron_3.predict(X=X_test_augmented_3, optimum_w_vector=final_w_3)\n",
    "    accuracy_test_3 = perceptron_3.calculateAccuracy(T=T_test_changed_3, Y_hat=Y_hat_test_3, n=n_test_3)\n",
    "    testAccuracyHist_3.append(accuracy_test_3)"
   ]
  },
  {
   "cell_type": "markdown",
   "metadata": {},
   "source": [
    "## Accuracy and Std for Dataset -> 1"
   ]
  },
  {
   "cell_type": "code",
   "execution_count": 20,
   "metadata": {},
   "outputs": [
    {
     "name": "stdout",
     "output_type": "stream",
     "text": [
      "-------------------------------------------------------------------------------------------\n",
      "Mean of Training Accuracy: 100.0\n",
      "Standard Deviation of Training Accuracy: 0.0\n",
      "\n",
      "Mean of Test Accuracy: 99.1\n",
      "Standard Deviation of Test Accuracy: 1.374772708486752\n",
      "-------------------------------------------------------------------------------------------\n"
     ]
    }
   ],
   "source": [
    "print(\"-------------------------------------------------------------------------------------------\")\n",
    "print(f\"Mean of Training Accuracy: {np.mean(trainAccuracyHist_1)}\")\n",
    "print(f\"Standard Deviation of Training Accuracy: {np.std(trainAccuracyHist_1)}\")\n",
    "print()\n",
    "print(f\"Mean of Test Accuracy: {np.mean(testAccuracyHist_1)}\")\n",
    "print(f\"Standard Deviation of Test Accuracy: {np.std(testAccuracyHist_1)}\")\n",
    "print(\"-------------------------------------------------------------------------------------------\")\n"
   ]
  },
  {
   "cell_type": "markdown",
   "metadata": {},
   "source": [
    "## Accuracy and Std for Dataset -> 2"
   ]
  },
  {
   "cell_type": "code",
   "execution_count": 21,
   "metadata": {},
   "outputs": [
    {
     "name": "stdout",
     "output_type": "stream",
     "text": [
      "-------------------------------------------------------------------------------------------\n",
      "Mean of Training Accuracy: 100.0\n",
      "Standard Deviation of Training Accuracy: 0.0\n",
      "\n",
      "Mean of Test Accuracy: 98.4\n",
      "Standard Deviation of Test Accuracy: 1.9595917942265424\n",
      "-------------------------------------------------------------------------------------------\n"
     ]
    }
   ],
   "source": [
    "print(\"-------------------------------------------------------------------------------------------\")\n",
    "print(f\"Mean of Training Accuracy: {np.mean(trainAccuracyHist_2)}\")\n",
    "print(f\"Standard Deviation of Training Accuracy: {np.std(trainAccuracyHist_2)}\")\n",
    "print()\n",
    "print(f\"Mean of Test Accuracy: {np.mean(testAccuracyHist_2)}\")\n",
    "print(f\"Standard Deviation of Test Accuracy: {np.std(testAccuracyHist_2)}\")\n",
    "print(\"-------------------------------------------------------------------------------------------\")\n"
   ]
  },
  {
   "cell_type": "markdown",
   "metadata": {},
   "source": [
    "## Accuracy and Std for Dataset -> 3"
   ]
  },
  {
   "cell_type": "code",
   "execution_count": 22,
   "metadata": {},
   "outputs": [
    {
     "name": "stdout",
     "output_type": "stream",
     "text": [
      "-------------------------------------------------------------------------------------------\n",
      "Mean of Training Accuracy: 66.3\n",
      "Standard Deviation of Training Accuracy: 14.539944979263161\n",
      "\n",
      "Mean of Test Accuracy: 66.5\n",
      "Standard Deviation of Test Accuracy: 14.807092894960848\n",
      "-------------------------------------------------------------------------------------------\n"
     ]
    }
   ],
   "source": [
    "print(\"-------------------------------------------------------------------------------------------\")\n",
    "print(f\"Mean of Training Accuracy: {np.mean(trainAccuracyHist_3)}\")\n",
    "print(f\"Standard Deviation of Training Accuracy: {np.std(trainAccuracyHist_3)}\")\n",
    "print()\n",
    "print(f\"Mean of Test Accuracy: {np.mean(testAccuracyHist_3)}\")\n",
    "print(f\"Standard Deviation of Test Accuracy: {np.std(testAccuracyHist_3)}\")\n",
    "print(\"-------------------------------------------------------------------------------------------\")\n"
   ]
  },
  {
   "cell_type": "markdown",
   "metadata": {},
   "source": [
    "## 4] (c) Nonlinear-quadratic classification"
   ]
  },
  {
   "cell_type": "code",
   "execution_count": 23,
   "metadata": {},
   "outputs": [],
   "source": [
    "X_train_quad_1 = quadraticTransformation(X_train_augmented_1)\n",
    "X_test_quad_1 = quadraticTransformation(X_test_augmented_1)\n",
    "\n",
    "X_train_quad_2 = quadraticTransformation(X_train_augmented_2)\n",
    "X_test_quad_2 = quadraticTransformation(X_test_augmented_2)\n",
    "\n",
    "X_train_quad_3 = quadraticTransformation(X_train_augmented_3)\n",
    "X_test_quad_3 = quadraticTransformation(X_test_augmented_3)\n"
   ]
  },
  {
   "cell_type": "markdown",
   "metadata": {},
   "source": [
    "## Updating the dimension, d in the class and initializing the w_vector for quadratic transformation"
   ]
  },
  {
   "cell_type": "code",
   "execution_count": 24,
   "metadata": {},
   "outputs": [],
   "source": [
    "perceptron_1.updateDimension(5)\n",
    "perceptron_2.updateDimension(5)\n",
    "perceptron_3.updateDimension(5)\n",
    "\n",
    "w_vector_quad_1 = perceptron_1.initializeWeights(1)\n",
    "w_vector_quad_2 = perceptron_2.initializeWeights(1)\n",
    "w_vector_quad_3 = perceptron_3.initializeWeights(1)\n"
   ]
  },
  {
   "cell_type": "code",
   "execution_count": 25,
   "metadata": {},
   "outputs": [
    {
     "name": "stdout",
     "output_type": "stream",
     "text": [
      "Epoch #1 --> Cost J(W) is: 0\n",
      "Epoch #2 --> Cost J(W) is: 0\n",
      "Epoch #3 --> Cost J(W) is: 0\n",
      "Epoch #4 --> Cost J(W) is: 0\n",
      "Epoch #5 --> Cost J(W) is: 0\n",
      "Epoch #6 --> Cost J(W) is: 0\n",
      "Epoch #7 --> Cost J(W) is: 0\n",
      "Epoch #8 --> Cost J(W) is: 0\n",
      "Epoch #9 --> Cost J(W) is: 0\n",
      "Epoch #10 --> Cost J(W) is: 0\n",
      "Epoch #11 --> Cost J(W) is: 0\n",
      "Epoch #12 --> Cost J(W) is: 0\n",
      "Epoch #13 --> Cost J(W) is: 0\n",
      "Epoch #14 --> Cost J(W) is: 0\n",
      "Epoch #15 --> Cost J(W) is: 0\n",
      "Epoch #16 --> Cost J(W) is: 0\n",
      "Epoch #17 --> Cost J(W) is: 0\n",
      "Epoch #18 --> Cost J(W) is: 0\n",
      "Epoch #19 --> Cost J(W) is: 0\n",
      "Epoch #20 --> Cost J(W) is: 0\n",
      "Epoch #21 --> Cost J(W) is: 0\n",
      "Epoch #22 --> Cost J(W) is: 0\n",
      "Epoch #23 --> Cost J(W) is: 0\n",
      "Epoch #24 --> Cost J(W) is: 0\n",
      "Epoch #25 --> Cost J(W) is: 0\n",
      "Epoch #26 --> Cost J(W) is: 0\n",
      "Epoch #27 --> Cost J(W) is: 0\n",
      "Epoch #28 --> Cost J(W) is: 0\n",
      "Epoch #29 --> Cost J(W) is: 0\n",
      "Epoch #30 --> Cost J(W) is: 0\n",
      "Epoch #31 --> Cost J(W) is: 0\n",
      "Epoch #32 --> Cost J(W) is: 0\n",
      "Epoch #33 --> Cost J(W) is: 0\n",
      "Epoch #34 --> Cost J(W) is: 0\n",
      "Epoch #35 --> Cost J(W) is: 0\n",
      "Epoch #36 --> Cost J(W) is: 0\n",
      "Epoch #37 --> Cost J(W) is: 0\n",
      "Epoch #38 --> Cost J(W) is: 0\n",
      "Epoch #39 --> Cost J(W) is: 0\n",
      "Epoch #40 --> Cost J(W) is: 0\n",
      "Epoch #41 --> Cost J(W) is: 0\n",
      "Epoch #42 --> Cost J(W) is: 0\n",
      "Epoch #43 --> Cost J(W) is: 0\n",
      "Epoch #44 --> Cost J(W) is: 0\n",
      "Epoch #45 --> Cost J(W) is: 0\n",
      "Epoch #46 --> Cost J(W) is: 0\n",
      "Epoch #47 --> Cost J(W) is: 0\n",
      "Epoch #48 --> Cost J(W) is: 0\n",
      "Epoch #49 --> Cost J(W) is: 0\n",
      "Epoch #50 --> Cost J(W) is: 0\n",
      "Epoch #51 --> Cost J(W) is: 0\n",
      "Epoch #52 --> Cost J(W) is: 0\n",
      "Epoch #53 --> Cost J(W) is: 0\n",
      "Epoch #54 --> Cost J(W) is: 0\n",
      "Epoch #55 --> Cost J(W) is: 0\n",
      "Epoch #56 --> Cost J(W) is: 0\n",
      "Epoch #57 --> Cost J(W) is: 0\n",
      "Epoch #58 --> Cost J(W) is: 0\n",
      "Epoch #59 --> Cost J(W) is: 0\n",
      "Epoch #60 --> Cost J(W) is: 0\n",
      "Epoch #61 --> Cost J(W) is: 0\n",
      "Epoch #62 --> Cost J(W) is: 0\n",
      "Epoch #63 --> Cost J(W) is: 0\n",
      "Epoch #64 --> Cost J(W) is: 0\n",
      "Epoch #65 --> Cost J(W) is: 0\n",
      "Epoch #66 --> Cost J(W) is: 0\n",
      "Epoch #67 --> Cost J(W) is: 0\n",
      "Epoch #68 --> Cost J(W) is: 0\n",
      "Epoch #69 --> Cost J(W) is: 0\n",
      "Epoch #70 --> Cost J(W) is: 0\n",
      "Epoch #71 --> Cost J(W) is: 0\n",
      "Epoch #72 --> Cost J(W) is: 0\n",
      "Epoch #73 --> Cost J(W) is: 0\n",
      "Epoch #74 --> Cost J(W) is: 0\n",
      "Epoch #75 --> Cost J(W) is: 0\n",
      "Epoch #76 --> Cost J(W) is: 0\n",
      "Epoch #77 --> Cost J(W) is: 0\n",
      "Epoch #78 --> Cost J(W) is: 0\n",
      "Epoch #79 --> Cost J(W) is: 0\n",
      "Epoch #80 --> Cost J(W) is: 0\n",
      "Epoch #81 --> Cost J(W) is: 0\n",
      "Epoch #82 --> Cost J(W) is: 0\n",
      "Epoch #83 --> Cost J(W) is: 0\n",
      "Epoch #84 --> Cost J(W) is: 0\n",
      "Epoch #85 --> Cost J(W) is: 0\n",
      "Epoch #86 --> Cost J(W) is: 0\n",
      "Epoch #87 --> Cost J(W) is: 0\n",
      "Epoch #88 --> Cost J(W) is: 0\n",
      "Epoch #89 --> Cost J(W) is: 0\n",
      "Epoch #90 --> Cost J(W) is: 0\n",
      "Epoch #91 --> Cost J(W) is: 0\n",
      "Epoch #92 --> Cost J(W) is: 0\n",
      "Epoch #93 --> Cost J(W) is: 0\n",
      "Epoch #94 --> Cost J(W) is: 0\n",
      "Epoch #95 --> Cost J(W) is: 0\n",
      "Epoch #96 --> Cost J(W) is: 0\n",
      "Epoch #97 --> Cost J(W) is: 0\n",
      "Epoch #98 --> Cost J(W) is: 0\n",
      "Epoch #99 --> Cost J(W) is: 0\n",
      "Epoch #100 and Interation #0 --> Cost J(W) is: 0\n",
      "Epoch #100 --> Cost J(W) is: 0\n"
     ]
    }
   ],
   "source": [
    "# Perform the training process using the initialized weights for Training Set -> 1\n",
    "optimum_w_vector_1 = perceptron_1.modelTrain_SGD(X_train=X_train_quad_1, n_train=n_train_1, T_train=T_train_changed_1, w_vector = w_vector_quad_1, epochs=100, learn_rate=1, printFlag=True)"
   ]
  },
  {
   "cell_type": "code",
   "execution_count": 26,
   "metadata": {},
   "outputs": [
    {
     "name": "stdout",
     "output_type": "stream",
     "text": [
      "Epoch #1 --> Cost J(W) is: 0\n",
      "Epoch #2 --> Cost J(W) is: 0\n",
      "Epoch #3 --> Cost J(W) is: 0\n",
      "Epoch #4 --> Cost J(W) is: 0\n",
      "Epoch #5 --> Cost J(W) is: 0\n",
      "Epoch #6 --> Cost J(W) is: 0\n",
      "Epoch #7 --> Cost J(W) is: 0\n",
      "Epoch #8 --> Cost J(W) is: 0\n",
      "Epoch #9 --> Cost J(W) is: 0\n",
      "Epoch #10 --> Cost J(W) is: 0\n",
      "Epoch #11 --> Cost J(W) is: 0\n",
      "Epoch #12 --> Cost J(W) is: 0\n",
      "Epoch #13 --> Cost J(W) is: 0\n",
      "Epoch #14 --> Cost J(W) is: 0\n",
      "Epoch #15 --> Cost J(W) is: 0\n",
      "Epoch #16 --> Cost J(W) is: 0\n",
      "Epoch #17 --> Cost J(W) is: 0\n",
      "Epoch #18 --> Cost J(W) is: 0\n",
      "Epoch #19 --> Cost J(W) is: 0\n",
      "Epoch #20 --> Cost J(W) is: 0\n",
      "Epoch #21 --> Cost J(W) is: 0\n",
      "Epoch #22 --> Cost J(W) is: 0\n",
      "Epoch #23 --> Cost J(W) is: 0\n",
      "Epoch #24 --> Cost J(W) is: 0\n",
      "Epoch #25 --> Cost J(W) is: 0\n",
      "Epoch #26 --> Cost J(W) is: 0\n",
      "Epoch #27 --> Cost J(W) is: 0\n",
      "Epoch #28 --> Cost J(W) is: 0\n",
      "Epoch #29 --> Cost J(W) is: 0\n",
      "Epoch #30 --> Cost J(W) is: 0\n",
      "Epoch #31 --> Cost J(W) is: 0\n",
      "Epoch #32 --> Cost J(W) is: 0\n",
      "Epoch #33 --> Cost J(W) is: 0\n",
      "Epoch #34 --> Cost J(W) is: 0\n",
      "Epoch #35 --> Cost J(W) is: 0\n",
      "Epoch #36 --> Cost J(W) is: 0\n",
      "Epoch #37 --> Cost J(W) is: 0\n",
      "Epoch #38 --> Cost J(W) is: 0\n",
      "Epoch #39 --> Cost J(W) is: 0\n",
      "Epoch #40 --> Cost J(W) is: 0\n",
      "Epoch #41 --> Cost J(W) is: 0\n",
      "Epoch #42 --> Cost J(W) is: 0\n",
      "Epoch #43 --> Cost J(W) is: 0\n",
      "Epoch #44 --> Cost J(W) is: 0\n",
      "Epoch #45 --> Cost J(W) is: 0\n",
      "Epoch #46 --> Cost J(W) is: 0\n",
      "Epoch #47 --> Cost J(W) is: 0\n",
      "Epoch #48 --> Cost J(W) is: 0\n",
      "Epoch #49 --> Cost J(W) is: 0\n",
      "Epoch #50 --> Cost J(W) is: 0\n",
      "Epoch #51 --> Cost J(W) is: 0\n",
      "Epoch #52 --> Cost J(W) is: 0\n",
      "Epoch #53 --> Cost J(W) is: 0\n",
      "Epoch #54 --> Cost J(W) is: 0\n",
      "Epoch #55 --> Cost J(W) is: 0\n",
      "Epoch #56 --> Cost J(W) is: 0\n",
      "Epoch #57 --> Cost J(W) is: 0\n",
      "Epoch #58 --> Cost J(W) is: 0\n",
      "Epoch #59 --> Cost J(W) is: 0\n",
      "Epoch #60 --> Cost J(W) is: 0\n",
      "Epoch #61 --> Cost J(W) is: 0\n",
      "Epoch #62 --> Cost J(W) is: 0\n",
      "Epoch #63 --> Cost J(W) is: 0\n",
      "Epoch #64 --> Cost J(W) is: 0\n",
      "Epoch #65 --> Cost J(W) is: 0\n",
      "Epoch #66 --> Cost J(W) is: 0\n",
      "Epoch #67 --> Cost J(W) is: 0\n",
      "Epoch #68 --> Cost J(W) is: 0\n",
      "Epoch #69 --> Cost J(W) is: 0\n",
      "Epoch #70 --> Cost J(W) is: 0\n",
      "Epoch #71 --> Cost J(W) is: 0\n",
      "Epoch #72 --> Cost J(W) is: 0\n",
      "Epoch #73 --> Cost J(W) is: 0\n",
      "Epoch #74 --> Cost J(W) is: 0\n",
      "Epoch #75 --> Cost J(W) is: 0\n",
      "Epoch #76 --> Cost J(W) is: 0\n",
      "Epoch #77 --> Cost J(W) is: 0\n",
      "Epoch #78 --> Cost J(W) is: 0\n",
      "Epoch #79 --> Cost J(W) is: 0\n",
      "Epoch #80 --> Cost J(W) is: 0\n",
      "Epoch #81 --> Cost J(W) is: 0\n",
      "Epoch #82 --> Cost J(W) is: 0\n",
      "Epoch #83 --> Cost J(W) is: 0\n",
      "Epoch #84 --> Cost J(W) is: 0\n",
      "Epoch #85 --> Cost J(W) is: 0\n",
      "Epoch #86 --> Cost J(W) is: 0\n",
      "Epoch #87 --> Cost J(W) is: 0\n",
      "Epoch #88 --> Cost J(W) is: 0\n",
      "Epoch #89 --> Cost J(W) is: 0\n",
      "Epoch #90 --> Cost J(W) is: 0\n",
      "Epoch #91 --> Cost J(W) is: 0\n",
      "Epoch #92 --> Cost J(W) is: 0\n",
      "Epoch #93 --> Cost J(W) is: 0\n",
      "Epoch #94 --> Cost J(W) is: 0\n",
      "Epoch #95 --> Cost J(W) is: 0\n",
      "Epoch #96 --> Cost J(W) is: 0\n",
      "Epoch #97 --> Cost J(W) is: 0\n",
      "Epoch #98 --> Cost J(W) is: 0\n",
      "Epoch #99 --> Cost J(W) is: 0\n",
      "Epoch #100 and Interation #0 --> Cost J(W) is: 0\n",
      "Epoch #100 --> Cost J(W) is: 0\n"
     ]
    }
   ],
   "source": [
    "# Perform the training process using the initialized weights for Training Set -> 2\n",
    "optimum_w_vector_2 = perceptron_2.modelTrain_SGD(X_train=X_train_quad_2, n_train=n_train_2, T_train=T_train_changed_2, w_vector = w_vector_quad_2, epochs=100, learn_rate=1, printFlag=True)"
   ]
  },
  {
   "cell_type": "code",
   "execution_count": 27,
   "metadata": {},
   "outputs": [
    {
     "name": "stdout",
     "output_type": "stream",
     "text": [
      "Epoch #1 --> Cost J(W) is: 11.362874871248504\n",
      "Epoch #2 --> Cost J(W) is: 13.830393102567664\n",
      "Epoch #3 --> Cost J(W) is: 2.612320537176125\n",
      "Epoch #4 --> Cost J(W) is: 2.0802688272574192\n",
      "Epoch #5 --> Cost J(W) is: 5.086072394806942\n",
      "Epoch #6 --> Cost J(W) is: 2.2780790509111855\n",
      "Epoch #7 --> Cost J(W) is: 8.946187056924161\n",
      "Epoch #8 --> Cost J(W) is: 5.595217357791652\n",
      "Epoch #9 --> Cost J(W) is: 2.2314106319418046\n",
      "Epoch #10 --> Cost J(W) is: 13.842419700607355\n",
      "Epoch #11 --> Cost J(W) is: 4.590869341457738\n",
      "Epoch #12 --> Cost J(W) is: 2.595821262390132\n",
      "Epoch #13 --> Cost J(W) is: 7.926727235139432\n",
      "Epoch #14 --> Cost J(W) is: 16.732707573667007\n",
      "Epoch #15 --> Cost J(W) is: 5.132669233280358\n",
      "Epoch #16 --> Cost J(W) is: 2.136429112751715\n",
      "Epoch #17 --> Cost J(W) is: 6.023577727631704\n",
      "Epoch #18 --> Cost J(W) is: 2.381109449359138\n",
      "Epoch #19 --> Cost J(W) is: 3.3259058018980325\n",
      "Epoch #20 --> Cost J(W) is: 2.7393393895436375\n",
      "Epoch #21 --> Cost J(W) is: 2.123262989173656\n",
      "Epoch #22 --> Cost J(W) is: 3.496535243215521\n",
      "Epoch #23 --> Cost J(W) is: 8.207540134552877\n",
      "Epoch #24 --> Cost J(W) is: 2.405827580097556\n",
      "Epoch #25 --> Cost J(W) is: 5.102211224621582\n",
      "Epoch #26 --> Cost J(W) is: 2.1096852074703882\n",
      "Epoch #27 --> Cost J(W) is: 2.545601573816977\n",
      "Epoch #28 --> Cost J(W) is: 2.188585999464891\n",
      "Epoch #29 --> Cost J(W) is: 7.313015937749776\n",
      "Epoch #30 --> Cost J(W) is: 2.5454635178545364\n",
      "Epoch #31 --> Cost J(W) is: 12.625457823539199\n",
      "Epoch #32 --> Cost J(W) is: 2.474753421909825\n",
      "Epoch #33 --> Cost J(W) is: 7.058926111728644\n",
      "Epoch #34 --> Cost J(W) is: 2.180363328123742\n",
      "Epoch #35 --> Cost J(W) is: 2.3787982890264847\n",
      "Epoch #36 --> Cost J(W) is: 2.2346555155655548\n",
      "Epoch #37 --> Cost J(W) is: 7.4455063624473095\n",
      "Epoch #38 --> Cost J(W) is: 2.254051878831633\n",
      "Epoch #39 --> Cost J(W) is: 2.1570732147808265\n",
      "Epoch #40 --> Cost J(W) is: 2.3461859688262736\n",
      "Epoch #41 --> Cost J(W) is: 3.194956907972309\n",
      "Epoch #42 --> Cost J(W) is: 2.483879930048339\n",
      "Epoch #43 --> Cost J(W) is: 6.83761315184912\n",
      "Epoch #44 --> Cost J(W) is: 2.2774219274896397\n",
      "Epoch #45 --> Cost J(W) is: 2.3119003931280853\n",
      "Epoch #46 --> Cost J(W) is: 2.013208323999588\n",
      "Epoch #47 --> Cost J(W) is: 6.090856612541601\n",
      "Epoch #48 --> Cost J(W) is: 2.2683396603018355\n",
      "Epoch #49 --> Cost J(W) is: 2.708774737271429\n",
      "Epoch #50 --> Cost J(W) is: 2.7511438595115276\n",
      "Epoch #51 --> Cost J(W) is: 3.6454655398473914\n",
      "Epoch #52 --> Cost J(W) is: 2.2665918091257726\n",
      "Epoch #53 --> Cost J(W) is: 4.2077553253737525\n",
      "Epoch #54 --> Cost J(W) is: 2.0907574245007794\n",
      "Epoch #55 --> Cost J(W) is: 5.953540314380589\n",
      "Epoch #56 --> Cost J(W) is: 5.49510397560197\n",
      "Epoch #57 --> Cost J(W) is: 5.263530217661033\n",
      "Epoch #58 --> Cost J(W) is: 2.886754687173684\n",
      "Epoch #59 --> Cost J(W) is: 2.1794936130060365\n",
      "Epoch #60 --> Cost J(W) is: 2.3087699135146957\n",
      "Epoch #61 --> Cost J(W) is: 2.750008999214068\n",
      "Epoch #62 --> Cost J(W) is: 2.6660846126724755\n",
      "Epoch #63 --> Cost J(W) is: 3.4171521735357375\n",
      "Epoch #64 --> Cost J(W) is: 2.3981223689467224\n",
      "Epoch #65 --> Cost J(W) is: 6.044884314388898\n",
      "Epoch #66 --> Cost J(W) is: 2.332773112972278\n",
      "Epoch #67 --> Cost J(W) is: 2.2541963389788333\n",
      "Epoch #68 --> Cost J(W) is: 2.370407640613154\n",
      "Epoch #69 --> Cost J(W) is: 3.096095388696464\n",
      "Epoch #70 --> Cost J(W) is: 2.536864413236786\n",
      "Epoch #71 --> Cost J(W) is: 2.2723947942523384\n",
      "Epoch #72 --> Cost J(W) is: 13.662256053407965\n",
      "Epoch #73 --> Cost J(W) is: 4.602599153216902\n",
      "Epoch #74 --> Cost J(W) is: 2.9012636246492427\n",
      "Epoch #75 --> Cost J(W) is: 2.692364478644718\n",
      "Epoch #76 --> Cost J(W) is: 6.406105539410703\n",
      "Epoch #77 --> Cost J(W) is: 2.917686011867261\n",
      "Epoch #78 --> Cost J(W) is: 2.892522196619222\n",
      "Epoch #79 --> Cost J(W) is: 2.8779916031599875\n",
      "Epoch #80 --> Cost J(W) is: 3.2621862252602085\n",
      "Epoch #81 --> Cost J(W) is: 2.5759774884874846\n",
      "Epoch #82 --> Cost J(W) is: 2.2976480113441653\n",
      "Epoch #83 --> Cost J(W) is: 2.0309448244996\n",
      "Epoch #84 --> Cost J(W) is: 2.9466105312960984\n",
      "Epoch #85 --> Cost J(W) is: 5.438079827400446\n",
      "Epoch #86 --> Cost J(W) is: 4.984427163383174\n",
      "Epoch #87 --> Cost J(W) is: 6.243054900221173\n",
      "Epoch #88 --> Cost J(W) is: 5.320081617869495\n",
      "Epoch #89 --> Cost J(W) is: 2.3533086649171193\n",
      "Epoch #90 --> Cost J(W) is: 8.51818857055952\n",
      "Epoch #91 --> Cost J(W) is: 2.6676309462512817\n",
      "Epoch #92 --> Cost J(W) is: 2.347134941681541\n",
      "Epoch #93 --> Cost J(W) is: 4.096808282919379\n",
      "Epoch #94 --> Cost J(W) is: 5.5599246132473805\n",
      "Epoch #95 --> Cost J(W) is: 6.791892465394\n",
      "Epoch #96 --> Cost J(W) is: 2.882406854303365\n",
      "Epoch #97 --> Cost J(W) is: 2.144644920818779\n",
      "Epoch #98 --> Cost J(W) is: 3.1587417782497664\n",
      "Epoch #99 --> Cost J(W) is: 5.0608740814248\n",
      "Epoch #100 and Interation #0 --> Cost J(W) is: 5.060874081424799\n",
      "Epoch #100 and Interation #7 --> Cost J(W) is: 4.323809829308685\n",
      "Epoch #100 and Interation #27 --> Cost J(W) is: 4.193826431962387\n",
      "Epoch #100 and Interation #50 --> Cost J(W) is: 3.8916444238952383\n",
      "Epoch #100 and Interation #71 --> Cost J(W) is: 2.2868170856315846\n",
      "Epoch #100 --> Cost J(W) is: 2.2868170856315846\n"
     ]
    }
   ],
   "source": [
    "# Perform the training process using the initialized weights for Training Set -> 3\n",
    "optimum_w_vector_3 = perceptron_3.modelTrain_SGD(X_train=X_train_quad_3, n_train=n_train_3, T_train=T_train_changed_3, w_vector = w_vector_quad_3, epochs=100, learn_rate=1, printFlag=True)"
   ]
  },
  {
   "cell_type": "markdown",
   "metadata": {},
   "source": [
    "## Classification Accuracy for Training and Test Data of Dataset - 1 after Quadratic Transformation"
   ]
  },
  {
   "cell_type": "code",
   "execution_count": 28,
   "metadata": {},
   "outputs": [
    {
     "name": "stdout",
     "output_type": "stream",
     "text": [
      "-----------------------------------------------------------------------------------------------------\n",
      "The Optimum w_vector after training on training data of Dataset -> 1\n",
      "[[ 2.        ]\n",
      " [-4.48753929]\n",
      " [-0.53792318]\n",
      " [ 4.18504597]\n",
      " [-0.64123637]\n",
      " [ 0.56742953]]\n",
      "Classification Accuracy on the training data of Dataset - 1 is: 100.0\n",
      "Classification Accuracy on the test data of Dataset - 1 is: 98.0\n",
      "-----------------------------------------------------------------------------------------------------\n"
     ]
    }
   ],
   "source": [
    "print(\"-----------------------------------------------------------------------------------------------------\")\n",
    "print(\"The Optimum w_vector after training on training data of Dataset -> 1\")\n",
    "print(optimum_w_vector_1)\n",
    "Y_hat_training_1 = perceptron_1.predict(X=X_train_quad_1, optimum_w_vector=optimum_w_vector_1)\n",
    "accuracy_training_1 = perceptron_1.calculateAccuracy(T=T_train_changed_1, Y_hat=Y_hat_training_1, n=n_train_1)\n",
    "print(f\"Classification Accuracy on the training data of Dataset - 1 is: {accuracy_training_1}\")\n",
    "\n",
    "Y_hat_test_1 = perceptron_1.predict(X=X_test_quad_1, optimum_w_vector=optimum_w_vector_1)\n",
    "accuracy_test_1 = perceptron_1.calculateAccuracy(T=T_test_changed_1, Y_hat=Y_hat_test_1, n=n_test_1)\n",
    "print(f\"Classification Accuracy on the test data of Dataset - 1 is: {accuracy_test_1}\")\n",
    "print(\"-----------------------------------------------------------------------------------------------------\")"
   ]
  },
  {
   "cell_type": "markdown",
   "metadata": {},
   "source": [
    "## Classification Accuracy for Training and Test Data of Dataset - 2 after Quadratic Transformation"
   ]
  },
  {
   "cell_type": "code",
   "execution_count": 29,
   "metadata": {},
   "outputs": [
    {
     "name": "stdout",
     "output_type": "stream",
     "text": [
      "-----------------------------------------------------------------------------------------------------\n",
      "The Optimum w_vector after training on training data of Dataset -> 2 after Quadratic Transformation\n",
      "[[-1.        ]\n",
      " [-1.00945161]\n",
      " [ 1.10991977]\n",
      " [ 8.4797965 ]\n",
      " [ 1.09040272]\n",
      " [ 0.34708564]]\n",
      "Classification Accuracy on the training data of Dataset - 2 is: 100.0\n",
      "Classification Accuracy on the test data of Dataset - 2 is: 98.0\n",
      "-----------------------------------------------------------------------------------------------------\n"
     ]
    }
   ],
   "source": [
    "print(\"-----------------------------------------------------------------------------------------------------\")\n",
    "print(\"The Optimum w_vector after training on training data of Dataset -> 2 after Quadratic Transformation\")\n",
    "print(optimum_w_vector_2)\n",
    "Y_hat_training_2 = perceptron_2.predict(X=X_train_quad_2, optimum_w_vector=optimum_w_vector_2)\n",
    "accuracy_training_2 = perceptron_2.calculateAccuracy(T=T_train_changed_2, Y_hat=Y_hat_training_2, n=n_train_2)\n",
    "print(f\"Classification Accuracy on the training data of Dataset - 2 is: {accuracy_training_2}\")\n",
    "\n",
    "Y_hat_test_2 = perceptron_2.predict(X=X_test_quad_2, optimum_w_vector=optimum_w_vector_2)\n",
    "accuracy_test_2 = perceptron_2.calculateAccuracy(T=T_test_changed_2, Y_hat=Y_hat_test_2, n=n_test_2)\n",
    "print(f\"Classification Accuracy on the test data of Dataset - 2 is: {accuracy_test_2}\")\n",
    "print(\"-----------------------------------------------------------------------------------------------------\")"
   ]
  },
  {
   "cell_type": "markdown",
   "metadata": {},
   "source": [
    "## Classification Accuracy for Training and Test Data of Dataset - 3 after Quadratic Transformation"
   ]
  },
  {
   "cell_type": "code",
   "execution_count": 30,
   "metadata": {},
   "outputs": [
    {
     "name": "stdout",
     "output_type": "stream",
     "text": [
      "-----------------------------------------------------------------------------------------------------\n",
      "The Optimum w_vector after training on training data of Dataset -> 3 after Quadratic Transformation\n",
      "[[-1.        ]\n",
      " [-4.49730544]\n",
      " [ 7.67033738]\n",
      " [-2.13025897]\n",
      " [ 3.03036942]\n",
      " [ 2.71435942]]\n",
      "Classification Accuracy on the training data of Dataset - 3 is: 97.0\n",
      "Classification Accuracy on the test data of Dataset - 3 is: 92.0\n",
      "-----------------------------------------------------------------------------------------------------\n"
     ]
    }
   ],
   "source": [
    "print(\"-----------------------------------------------------------------------------------------------------\")\n",
    "print(\"The Optimum w_vector after training on training data of Dataset -> 3 after Quadratic Transformation\")\n",
    "print(optimum_w_vector_3)\n",
    "Y_hat_training_3 = perceptron_3.predict(X=X_train_quad_3, optimum_w_vector=optimum_w_vector_3)\n",
    "accuracy_training_3 = perceptron_3.calculateAccuracy(T=T_train_changed_3, Y_hat=Y_hat_training_3, n=n_train_3)\n",
    "print(f\"Classification Accuracy on the training data of Dataset - 3 is: {accuracy_training_3}\")\n",
    "\n",
    "Y_hat_test_3 = perceptron_3.predict(X=X_test_quad_3, optimum_w_vector=optimum_w_vector_3)\n",
    "accuracy_test_3 = perceptron_3.calculateAccuracy(T=T_test_changed_3, Y_hat=Y_hat_test_3, n=n_test_3)\n",
    "print(f\"Classification Accuracy on the test data of Dataset - 3 is: {accuracy_test_3}\")\n",
    "print(\"-----------------------------------------------------------------------------------------------------\")"
   ]
  },
  {
   "cell_type": "markdown",
   "metadata": {},
   "source": [
    "## Plotting the Data Points and Decision Boundary for Quadratic Transformation"
   ]
  },
  {
   "cell_type": "code",
   "execution_count": 31,
   "metadata": {},
   "outputs": [
    {
     "data": {
      "text/plain": [
       "array([1., 0., 0., 1., 1., 1., 1., 1., 0., 1., 0., 1., 0., 0., 1., 0., 0.,\n",
       "       1., 1., 1., 1., 0., 1., 0., 1., 1., 1., 1., 0., 0., 0., 1., 0., 1.,\n",
       "       1., 1., 1., 0., 1., 1., 0., 1., 0., 0., 1., 1., 0., 1., 0., 1., 0.,\n",
       "       1., 0., 0., 1., 1., 0., 1., 0., 0., 1., 0., 1., 0., 0., 1., 0., 0.,\n",
       "       1., 0., 1., 0., 0., 0., 0., 0., 1., 1., 0., 1., 1., 0., 0., 0., 0.,\n",
       "       0., 0., 1., 0., 0., 0., 0., 1., 1., 0., 1., 0., 1., 1., 1.])"
      ]
     },
     "execution_count": 31,
     "metadata": {},
     "output_type": "execute_result"
    }
   ],
   "source": [
    "T_train_new = np.copy(T_train_1)\n",
    "T_train_new[T_train_1 == 1.0] = 0.0\n",
    "T_train_new[T_train_1 == 2.0] = 1.0\n",
    "\n",
    "T_train_new\n",
    "\n",
    "\n",
    "T_test_new = np.copy(T_test_1)\n",
    "T_test_new[T_test_1 == 1.0] = 0.0\n",
    "T_test_new[T_test_1 == 2.0] = 1.0\n",
    "\n",
    "T_test_new\n"
   ]
  },
  {
   "cell_type": "code",
   "execution_count": 32,
   "metadata": {},
   "outputs": [],
   "source": [
    "def predictor_1(x):\n",
    "    y_hat = np.dot(w_vector_quad_1.T, x.T).T\n",
    "\n",
    "    y_hat[y_hat < 0.0] = 1.0\n",
    "    y_hat[y_hat > 0.0] = 0.0\n",
    "\n",
    "    return y_hat"
   ]
  },
  {
   "cell_type": "code",
   "execution_count": 33,
   "metadata": {},
   "outputs": [
    {
     "data": {
      "image/png": "[encoded data removed]",
      "text/plain": [
       "<Figure size 600x400 with 1 Axes>"
      ]
     },
     "metadata": {},
     "output_type": "display_data"
    },
    {
     "data": {
      "image/png": "[encoded data removed]",
      "text/plain": [
       "<Figure size 600x400 with 1 Axes>"
      ]
     },
     "metadata": {},
     "output_type": "display_data"
    }
   ],
   "source": [
    "plotDecBoundaries_Nonlinear(feature = X_train_augmented_1, labels = T_train_new, non_linear_trans = quadraticTransformation, predictor = predictor_1, fsize=(6,4),legend_on = True)\n",
    "plotDecBoundaries_Nonlinear(feature = X_test_augmented_1, labels = T_test_new, non_linear_trans = quadraticTransformation, predictor = predictor_1, fsize=(6,4),legend_on = True)\n"
   ]
  },
  {
   "cell_type": "code",
   "execution_count": 34,
   "metadata": {},
   "outputs": [],
   "source": [
    "T_train_new = np.copy(T_train_2)\n",
    "T_train_new[T_train_2 == 1.0] = 0.0\n",
    "T_train_new[T_train_2 == 2.0] = 1.0\n",
    "\n",
    "\n",
    "T_test_new = np.copy(T_test_2)\n",
    "T_test_new[T_test_2 == 1.0] = 0.0\n",
    "T_test_new[T_test_2 == 2.0] = 1.0\n",
    "\n",
    "\n",
    "def predictor_2(x):\n",
    "    y_hat = np.dot(w_vector_quad_2.T, x.T).T\n",
    "\n",
    "    y_hat[y_hat < 0.0] = 1.0\n",
    "    y_hat[y_hat > 0.0] = 0.0\n",
    "\n",
    "    return y_hat"
   ]
  },
  {
   "cell_type": "code",
   "execution_count": 35,
   "metadata": {},
   "outputs": [
    {
     "data": {
      "image/png": "[encoded data removed]",
      "text/plain": [
       "<Figure size 600x400 with 1 Axes>"
      ]
     },
     "metadata": {},
     "output_type": "display_data"
    },
    {
     "data": {
      "image/png": "[encoded data removed]",
      "text/plain": [
       "<Figure size 600x400 with 1 Axes>"
      ]
     },
     "metadata": {},
     "output_type": "display_data"
    }
   ],
   "source": [
    "plotDecBoundaries_Nonlinear(feature = X_train_augmented_2, labels = T_train_new, non_linear_trans = quadraticTransformation, predictor = predictor_2, fsize=(6,4),legend_on = True)\n",
    "plotDecBoundaries_Nonlinear(feature = X_test_augmented_2, labels = T_test_new, non_linear_trans = quadraticTransformation, predictor = predictor_2, fsize=(6,4),legend_on = True)"
   ]
  },
  {
   "cell_type": "code",
   "execution_count": 36,
   "metadata": {},
   "outputs": [],
   "source": [
    "T_train_new = np.copy(T_train_3)\n",
    "T_train_new[T_train_3 == 1.0] = 0.0\n",
    "T_train_new[T_train_3 == 2.0] = 1.0\n",
    "\n",
    "\n",
    "T_test_new = np.copy(T_test_3)\n",
    "T_test_new[T_test_3 == 1.0] = 0.0\n",
    "T_test_new[T_test_3 == 2.0] = 1.0\n",
    "\n",
    "\n",
    "def predictor_3(x):\n",
    "    y_hat = np.dot(w_vector_quad_3.T, x.T).T\n",
    "\n",
    "    y_hat[y_hat < 0.0] = 1.0\n",
    "    y_hat[y_hat > 0.0] = 0.0\n",
    "\n",
    "    return y_hat"
   ]
  },
  {
   "cell_type": "code",
   "execution_count": 37,
   "metadata": {},
   "outputs": [
    {
     "data": {
      "image/png": "[encoded data removed]",
      "text/plain": [
       "<Figure size 600x400 with 1 Axes>"
      ]
     },
     "metadata": {},
     "output_type": "display_data"
    },
    {
     "data": {
      "image/png": "[encoded data removed]",
      "text/plain": [
       "<Figure size 600x400 with 1 Axes>"
      ]
     },
     "metadata": {},
     "output_type": "display_data"
    }
   ],
   "source": [
    "plotDecBoundaries_Nonlinear(feature = X_train_augmented_3, labels = T_train_new, non_linear_trans = quadraticTransformation, predictor = predictor_3, fsize=(6,4),legend_on = True)\n",
    "plotDecBoundaries_Nonlinear(feature = X_test_augmented_3, labels = T_test_new, non_linear_trans = quadraticTransformation, predictor = predictor_3, fsize=(6,4),legend_on = True)"
   ]
  },
  {
   "cell_type": "markdown",
   "metadata": {},
   "source": [
    "##  (d) Repeat part (c), except run it 10 times."
   ]
  },
  {
   "cell_type": "markdown",
   "metadata": {},
   "source": [
    "##"
   ]
  },
  {
   "cell_type": "code",
   "execution_count": 38,
   "metadata": {},
   "outputs": [],
   "source": [
    "trainAccuracyHist_1 = []\n",
    "testAccuracyHist_1 = []\n",
    "\n",
    "trainAccuracyHist_2 = []\n",
    "testAccuracyHist_2 = []\n",
    "\n",
    "trainAccuracyHist_3 = []\n",
    "testAccuracyHist_3 = []\n",
    "\n",
    "for i in range(10):\n",
    "    w_vector = perceptron_1.initializeWeights(1)\n",
    "    # w_vector_2 = perceptron_2.initializeWeights(1)\n",
    "    # w_vector_3 = perceptron_3.initializeWeights(1)\n",
    "\n",
    "    # Perform the training process using the initialized weights for Training Set -> 1\n",
    "    final_w_1 = perceptron_1.modelTrain_SGD(X_train=X_train_quad_1, n_train=n_train_1, T_train=T_train_changed_1, w_vector = w_vector, epochs=100, learn_rate=1, printFlag=False)\n",
    "    Y_hat_training_1 = perceptron_1.predict(X=X_train_quad_1, optimum_w_vector=final_w_1)\n",
    "    accuracy_training_1 = perceptron_1.calculateAccuracy(T=T_train_changed_1, Y_hat=Y_hat_training_1, n=n_train_1)\n",
    "    trainAccuracyHist_1.append(accuracy_training_1)\n",
    "\n",
    "    Y_hat_test_1 = perceptron_1.predict(X=X_test_quad_1, optimum_w_vector=final_w_1)\n",
    "    accuracy_test_1 = perceptron_1.calculateAccuracy(T=T_test_changed_1, Y_hat=Y_hat_test_1, n=n_test_1)\n",
    "    testAccuracyHist_1.append(accuracy_test_1)\n",
    "\n",
    "\n",
    "    # Perform the training process using the initialized weights for Training Set -> 2\n",
    "    final_w_2 = perceptron_3.modelTrain_SGD(X_train=X_train_quad_2, n_train=n_train_2, T_train=T_train_changed_2, w_vector = w_vector, epochs=100, learn_rate=1, printFlag=False)  \n",
    "\n",
    "    Y_hat_training_2 = perceptron_2.predict(X=X_train_quad_2, optimum_w_vector=final_w_2)\n",
    "    accuracy_training_2 = perceptron_2.calculateAccuracy(T=T_train_changed_2, Y_hat=Y_hat_training_2, n=n_train_2)\n",
    "    trainAccuracyHist_2.append(accuracy_training_2)\n",
    "\n",
    "    Y_hat_test_2 = perceptron_2.predict(X=X_test_quad_2, optimum_w_vector=final_w_2)\n",
    "    accuracy_test_2 = perceptron_2.calculateAccuracy(T=T_test_changed_2, Y_hat=Y_hat_test_2, n=n_test_2)\n",
    "    testAccuracyHist_2.append(accuracy_test_2)\n",
    "\n",
    "\n",
    "    # Perform the training process using the initialized weights for Training Set -> 3\n",
    "    final_w_3 = perceptron_3.modelTrain_SGD(X_train=X_train_quad_3, n_train=n_train_3, T_train=T_train_changed_3, w_vector = w_vector, epochs=100, learn_rate=1, printFlag=False)\n",
    "    \n",
    "    Y_hat_training_3 = perceptron_3.predict(X=X_train_quad_3, optimum_w_vector=final_w_3)\n",
    "    accuracy_training_3 = perceptron_3.calculateAccuracy(T=T_train_changed_3, Y_hat=Y_hat_training_3, n=n_train_3)\n",
    "    trainAccuracyHist_3.append(accuracy_training_3)\n",
    "    \n",
    "\n",
    "    Y_hat_test_3 = perceptron_3.predict(X=X_test_quad_3, optimum_w_vector=final_w_3)\n",
    "    accuracy_test_3 = perceptron_3.calculateAccuracy(T=T_test_changed_3, Y_hat=Y_hat_test_3, n=n_test_3)\n",
    "    testAccuracyHist_3.append(accuracy_test_3)"
   ]
  },
  {
   "cell_type": "markdown",
   "metadata": {},
   "source": [
    "## Accuracy and Std after Qudratic Transformation for Dataset -> 1."
   ]
  },
  {
   "cell_type": "code",
   "execution_count": 39,
   "metadata": {},
   "outputs": [
    {
     "name": "stdout",
     "output_type": "stream",
     "text": [
      "-------------------------------------------------------------------------------------------\n",
      "Mean of Training Accuracy: 100.0\n",
      "Standard Deviation of Training Accuracy: 0.0\n",
      "\n",
      "Mean of Test Accuracy: 99.9\n",
      "Standard Deviation of Test Accuracy: 0.30000000000000004\n",
      "-------------------------------------------------------------------------------------------\n"
     ]
    }
   ],
   "source": [
    "print(\"-------------------------------------------------------------------------------------------\")\n",
    "print(f\"Mean of Training Accuracy: {np.mean(trainAccuracyHist_1)}\")\n",
    "print(f\"Standard Deviation of Training Accuracy: {np.std(trainAccuracyHist_1)}\")\n",
    "print()\n",
    "print(f\"Mean of Test Accuracy: {np.mean(testAccuracyHist_1)}\")\n",
    "print(f\"Standard Deviation of Test Accuracy: {np.std(testAccuracyHist_1)}\")\n",
    "print(\"-------------------------------------------------------------------------------------------\")\n"
   ]
  },
  {
   "cell_type": "markdown",
   "metadata": {},
   "source": [
    "## Accuracy and Std after Qudratic Transformation for Dataset -> 2."
   ]
  },
  {
   "cell_type": "code",
   "execution_count": 40,
   "metadata": {},
   "outputs": [
    {
     "name": "stdout",
     "output_type": "stream",
     "text": [
      "-------------------------------------------------------------------------------------------\n",
      "Mean of Training Accuracy: 100.0\n",
      "Standard Deviation of Training Accuracy: 0.0\n",
      "\n",
      "Mean of Test Accuracy: 96.4\n",
      "Standard Deviation of Test Accuracy: 1.7435595774162693\n",
      "-------------------------------------------------------------------------------------------\n"
     ]
    }
   ],
   "source": [
    "print(\"-------------------------------------------------------------------------------------------\")\n",
    "print(f\"Mean of Training Accuracy: {np.mean(trainAccuracyHist_2)}\")\n",
    "print(f\"Standard Deviation of Training Accuracy: {np.std(trainAccuracyHist_2)}\")\n",
    "print()\n",
    "print(f\"Mean of Test Accuracy: {np.mean(testAccuracyHist_2)}\")\n",
    "print(f\"Standard Deviation of Test Accuracy: {np.std(testAccuracyHist_2)}\")\n",
    "print(\"-------------------------------------------------------------------------------------------\")\n"
   ]
  },
  {
   "cell_type": "markdown",
   "metadata": {},
   "source": [
    "## Accuracy and Std after Qudratic Transformation for Dataset -> 3."
   ]
  },
  {
   "cell_type": "code",
   "execution_count": 41,
   "metadata": {},
   "outputs": [
    {
     "name": "stdout",
     "output_type": "stream",
     "text": [
      "-------------------------------------------------------------------------------------------\n",
      "Mean of Training Accuracy: 95.4\n",
      "Standard Deviation of Training Accuracy: 1.42828568570857\n",
      "\n",
      "Mean of Test Accuracy: 91.7\n",
      "Standard Deviation of Test Accuracy: 0.6403124237432849\n",
      "-------------------------------------------------------------------------------------------\n"
     ]
    }
   ],
   "source": [
    "print(\"-------------------------------------------------------------------------------------------\")\n",
    "print(f\"Mean of Training Accuracy: {np.mean(trainAccuracyHist_3)}\")\n",
    "print(f\"Standard Deviation of Training Accuracy: {np.std(trainAccuracyHist_3)}\")\n",
    "print()\n",
    "print(f\"Mean of Test Accuracy: {np.mean(testAccuracyHist_3)}\")\n",
    "print(f\"Standard Deviation of Test Accuracy: {np.std(testAccuracyHist_3)}\")\n",
    "print(\"-------------------------------------------------------------------------------------------\")\n"
   ]
  },
  {
   "cell_type": "markdown",
   "metadata": {},
   "source": [
    "## Nonlinear-cubic classification. "
   ]
  },
  {
   "cell_type": "code",
   "execution_count": 42,
   "metadata": {},
   "outputs": [
    {
     "data": {
      "text/plain": [
       "(100, 10)"
      ]
     },
     "execution_count": 42,
     "metadata": {},
     "output_type": "execute_result"
    }
   ],
   "source": [
    "X_train_cube_1 = cubicTransformation(X_train_augmented_1)\n",
    "X_test_cube_1 = cubicTransformation(X_test_augmented_1)\n",
    "\n",
    "X_train_cube_2 = cubicTransformation(X_train_augmented_2)\n",
    "X_test_cube_2 = cubicTransformation(X_test_augmented_2)\n",
    "\n",
    "X_train_cube_3 = cubicTransformation(X_train_augmented_3)\n",
    "X_test_cube_3 = cubicTransformation(X_test_augmented_3)\n",
    "\n",
    "X_test_cube_1.shape"
   ]
  },
  {
   "cell_type": "markdown",
   "metadata": {},
   "source": [
    "## Updating the dimension, d in the class and initializing the w_vector for cubic transformation"
   ]
  },
  {
   "cell_type": "code",
   "execution_count": 43,
   "metadata": {},
   "outputs": [],
   "source": [
    "perceptron_1.updateDimension(9)\n",
    "perceptron_2.updateDimension(9)\n",
    "perceptron_3.updateDimension(9)\n",
    "\n",
    "w_vector_cube = perceptron_1.initializeWeights(1)"
   ]
  },
  {
   "cell_type": "code",
   "execution_count": 44,
   "metadata": {},
   "outputs": [
    {
     "name": "stdout",
     "output_type": "stream",
     "text": [
      "Epoch #1 --> Cost J(W) is: 0\n",
      "Epoch #2 --> Cost J(W) is: 0\n",
      "Epoch #3 --> Cost J(W) is: 0\n",
      "Epoch #4 --> Cost J(W) is: 0\n",
      "Epoch #5 --> Cost J(W) is: 0\n",
      "Epoch #6 --> Cost J(W) is: 0\n",
      "Epoch #7 --> Cost J(W) is: 0\n",
      "Epoch #8 --> Cost J(W) is: 0\n",
      "Epoch #9 --> Cost J(W) is: 0\n",
      "Epoch #10 --> Cost J(W) is: 0\n",
      "Epoch #11 --> Cost J(W) is: 0\n",
      "Epoch #12 --> Cost J(W) is: 0\n",
      "Epoch #13 --> Cost J(W) is: 0\n",
      "Epoch #14 --> Cost J(W) is: 0\n",
      "Epoch #15 --> Cost J(W) is: 0\n",
      "Epoch #16 --> Cost J(W) is: 0\n",
      "Epoch #17 --> Cost J(W) is: 0\n",
      "Epoch #18 --> Cost J(W) is: 0\n",
      "Epoch #19 --> Cost J(W) is: 0\n",
      "Epoch #20 --> Cost J(W) is: 0\n",
      "Epoch #21 --> Cost J(W) is: 0\n",
      "Epoch #22 --> Cost J(W) is: 0\n",
      "Epoch #23 --> Cost J(W) is: 0\n",
      "Epoch #24 --> Cost J(W) is: 0\n",
      "Epoch #25 --> Cost J(W) is: 0\n",
      "Epoch #26 --> Cost J(W) is: 0\n",
      "Epoch #27 --> Cost J(W) is: 0\n",
      "Epoch #28 --> Cost J(W) is: 0\n",
      "Epoch #29 --> Cost J(W) is: 0\n",
      "Epoch #30 --> Cost J(W) is: 0\n",
      "Epoch #31 --> Cost J(W) is: 0\n",
      "Epoch #32 --> Cost J(W) is: 0\n",
      "Epoch #33 --> Cost J(W) is: 0\n",
      "Epoch #34 --> Cost J(W) is: 0\n",
      "Epoch #35 --> Cost J(W) is: 0\n",
      "Epoch #36 --> Cost J(W) is: 0\n",
      "Epoch #37 --> Cost J(W) is: 0\n",
      "Epoch #38 --> Cost J(W) is: 0\n",
      "Epoch #39 --> Cost J(W) is: 0\n",
      "Epoch #40 --> Cost J(W) is: 0\n",
      "Epoch #41 --> Cost J(W) is: 0\n",
      "Epoch #42 --> Cost J(W) is: 0\n",
      "Epoch #43 --> Cost J(W) is: 0\n",
      "Epoch #44 --> Cost J(W) is: 0\n",
      "Epoch #45 --> Cost J(W) is: 0\n",
      "Epoch #46 --> Cost J(W) is: 0\n",
      "Epoch #47 --> Cost J(W) is: 0\n",
      "Epoch #48 --> Cost J(W) is: 0\n",
      "Epoch #49 --> Cost J(W) is: 0\n",
      "Epoch #50 --> Cost J(W) is: 0\n",
      "Epoch #51 --> Cost J(W) is: 0\n",
      "Epoch #52 --> Cost J(W) is: 0\n",
      "Epoch #53 --> Cost J(W) is: 0\n",
      "Epoch #54 --> Cost J(W) is: 0\n",
      "Epoch #55 --> Cost J(W) is: 0\n",
      "Epoch #56 --> Cost J(W) is: 0\n",
      "Epoch #57 --> Cost J(W) is: 0\n",
      "Epoch #58 --> Cost J(W) is: 0\n",
      "Epoch #59 --> Cost J(W) is: 0\n",
      "Epoch #60 --> Cost J(W) is: 0\n",
      "Epoch #61 --> Cost J(W) is: 0\n",
      "Epoch #62 --> Cost J(W) is: 0\n",
      "Epoch #63 --> Cost J(W) is: 0\n",
      "Epoch #64 --> Cost J(W) is: 0\n",
      "Epoch #65 --> Cost J(W) is: 0\n",
      "Epoch #66 --> Cost J(W) is: 0\n",
      "Epoch #67 --> Cost J(W) is: 0\n",
      "Epoch #68 --> Cost J(W) is: 0\n",
      "Epoch #69 --> Cost J(W) is: 0\n",
      "Epoch #70 --> Cost J(W) is: 0\n",
      "Epoch #71 --> Cost J(W) is: 0\n",
      "Epoch #72 --> Cost J(W) is: 0\n",
      "Epoch #73 --> Cost J(W) is: 0\n",
      "Epoch #74 --> Cost J(W) is: 0\n",
      "Epoch #75 --> Cost J(W) is: 0\n",
      "Epoch #76 --> Cost J(W) is: 0\n",
      "Epoch #77 --> Cost J(W) is: 0\n",
      "Epoch #78 --> Cost J(W) is: 0\n",
      "Epoch #79 --> Cost J(W) is: 0\n",
      "Epoch #80 --> Cost J(W) is: 0\n",
      "Epoch #81 --> Cost J(W) is: 0\n",
      "Epoch #82 --> Cost J(W) is: 0\n",
      "Epoch #83 --> Cost J(W) is: 0\n",
      "Epoch #84 --> Cost J(W) is: 0\n",
      "Epoch #85 --> Cost J(W) is: 0\n",
      "Epoch #86 --> Cost J(W) is: 0\n",
      "Epoch #87 --> Cost J(W) is: 0\n",
      "Epoch #88 --> Cost J(W) is: 0\n",
      "Epoch #89 --> Cost J(W) is: 0\n",
      "Epoch #90 --> Cost J(W) is: 0\n",
      "Epoch #91 --> Cost J(W) is: 0\n",
      "Epoch #92 --> Cost J(W) is: 0\n",
      "Epoch #93 --> Cost J(W) is: 0\n",
      "Epoch #94 --> Cost J(W) is: 0\n",
      "Epoch #95 --> Cost J(W) is: 0\n",
      "Epoch #96 --> Cost J(W) is: 0\n",
      "Epoch #97 --> Cost J(W) is: 0\n",
      "Epoch #98 --> Cost J(W) is: 0\n",
      "Epoch #99 --> Cost J(W) is: 0\n",
      "Epoch #100 and Interation #0 --> Cost J(W) is: 0\n",
      "Epoch #100 --> Cost J(W) is: 0\n"
     ]
    }
   ],
   "source": [
    "# Perform the training process using the initialized weights for Training Set -> 1\n",
    "optimum_w_vector_1 = perceptron_1.modelTrain_SGD(X_train=X_train_cube_1, n_train=n_train_1, T_train=T_train_changed_1, w_vector = w_vector_cube, epochs=100, learn_rate=1, printFlag=True)"
   ]
  },
  {
   "cell_type": "code",
   "execution_count": 45,
   "metadata": {},
   "outputs": [
    {
     "name": "stdout",
     "output_type": "stream",
     "text": [
      "Epoch #1 --> Cost J(W) is: 0\n",
      "Epoch #2 --> Cost J(W) is: 0\n",
      "Epoch #3 --> Cost J(W) is: 0\n",
      "Epoch #4 --> Cost J(W) is: 0\n",
      "Epoch #5 --> Cost J(W) is: 0\n",
      "Epoch #6 --> Cost J(W) is: 0\n",
      "Epoch #7 --> Cost J(W) is: 0\n",
      "Epoch #8 --> Cost J(W) is: 0\n",
      "Epoch #9 --> Cost J(W) is: 0\n",
      "Epoch #10 --> Cost J(W) is: 0\n",
      "Epoch #11 --> Cost J(W) is: 0\n",
      "Epoch #12 --> Cost J(W) is: 0\n",
      "Epoch #13 --> Cost J(W) is: 0\n",
      "Epoch #14 --> Cost J(W) is: 0\n",
      "Epoch #15 --> Cost J(W) is: 0\n",
      "Epoch #16 --> Cost J(W) is: 0\n",
      "Epoch #17 --> Cost J(W) is: 0\n",
      "Epoch #18 --> Cost J(W) is: 0\n",
      "Epoch #19 --> Cost J(W) is: 0\n",
      "Epoch #20 --> Cost J(W) is: 0\n",
      "Epoch #21 --> Cost J(W) is: 0\n",
      "Epoch #22 --> Cost J(W) is: 0\n",
      "Epoch #23 --> Cost J(W) is: 0\n",
      "Epoch #24 --> Cost J(W) is: 0\n",
      "Epoch #25 --> Cost J(W) is: 0\n",
      "Epoch #26 --> Cost J(W) is: 0\n",
      "Epoch #27 --> Cost J(W) is: 0\n",
      "Epoch #28 --> Cost J(W) is: 0\n",
      "Epoch #29 --> Cost J(W) is: 0\n",
      "Epoch #30 --> Cost J(W) is: 0\n",
      "Epoch #31 --> Cost J(W) is: 0\n",
      "Epoch #32 --> Cost J(W) is: 0\n",
      "Epoch #33 --> Cost J(W) is: 0\n",
      "Epoch #34 --> Cost J(W) is: 0\n",
      "Epoch #35 --> Cost J(W) is: 0\n",
      "Epoch #36 --> Cost J(W) is: 0\n",
      "Epoch #37 --> Cost J(W) is: 0\n",
      "Epoch #38 --> Cost J(W) is: 0\n",
      "Epoch #39 --> Cost J(W) is: 0\n",
      "Epoch #40 --> Cost J(W) is: 0\n",
      "Epoch #41 --> Cost J(W) is: 0\n",
      "Epoch #42 --> Cost J(W) is: 0\n",
      "Epoch #43 --> Cost J(W) is: 0\n",
      "Epoch #44 --> Cost J(W) is: 0\n",
      "Epoch #45 --> Cost J(W) is: 0\n",
      "Epoch #46 --> Cost J(W) is: 0\n",
      "Epoch #47 --> Cost J(W) is: 0\n",
      "Epoch #48 --> Cost J(W) is: 0\n",
      "Epoch #49 --> Cost J(W) is: 0\n",
      "Epoch #50 --> Cost J(W) is: 0\n",
      "Epoch #51 --> Cost J(W) is: 0\n",
      "Epoch #52 --> Cost J(W) is: 0\n",
      "Epoch #53 --> Cost J(W) is: 0\n",
      "Epoch #54 --> Cost J(W) is: 0\n",
      "Epoch #55 --> Cost J(W) is: 0\n",
      "Epoch #56 --> Cost J(W) is: 0\n",
      "Epoch #57 --> Cost J(W) is: 0\n",
      "Epoch #58 --> Cost J(W) is: 0\n",
      "Epoch #59 --> Cost J(W) is: 0\n",
      "Epoch #60 --> Cost J(W) is: 0\n",
      "Epoch #61 --> Cost J(W) is: 0\n",
      "Epoch #62 --> Cost J(W) is: 0\n",
      "Epoch #63 --> Cost J(W) is: 0\n",
      "Epoch #64 --> Cost J(W) is: 0\n",
      "Epoch #65 --> Cost J(W) is: 0\n",
      "Epoch #66 --> Cost J(W) is: 0\n",
      "Epoch #67 --> Cost J(W) is: 0\n",
      "Epoch #68 --> Cost J(W) is: 0\n",
      "Epoch #69 --> Cost J(W) is: 0\n",
      "Epoch #70 --> Cost J(W) is: 0\n",
      "Epoch #71 --> Cost J(W) is: 0\n",
      "Epoch #72 --> Cost J(W) is: 0\n",
      "Epoch #73 --> Cost J(W) is: 0\n",
      "Epoch #74 --> Cost J(W) is: 0\n",
      "Epoch #75 --> Cost J(W) is: 0\n",
      "Epoch #76 --> Cost J(W) is: 0\n",
      "Epoch #77 --> Cost J(W) is: 0\n",
      "Epoch #78 --> Cost J(W) is: 0\n",
      "Epoch #79 --> Cost J(W) is: 0\n",
      "Epoch #80 --> Cost J(W) is: 0\n",
      "Epoch #81 --> Cost J(W) is: 0\n",
      "Epoch #82 --> Cost J(W) is: 0\n",
      "Epoch #83 --> Cost J(W) is: 0\n",
      "Epoch #84 --> Cost J(W) is: 0\n",
      "Epoch #85 --> Cost J(W) is: 0\n",
      "Epoch #86 --> Cost J(W) is: 0\n",
      "Epoch #87 --> Cost J(W) is: 0\n",
      "Epoch #88 --> Cost J(W) is: 0\n",
      "Epoch #89 --> Cost J(W) is: 0\n",
      "Epoch #90 --> Cost J(W) is: 0\n",
      "Epoch #91 --> Cost J(W) is: 0\n",
      "Epoch #92 --> Cost J(W) is: 0\n",
      "Epoch #93 --> Cost J(W) is: 0\n",
      "Epoch #94 --> Cost J(W) is: 0\n",
      "Epoch #95 --> Cost J(W) is: 0\n",
      "Epoch #96 --> Cost J(W) is: 0\n",
      "Epoch #97 --> Cost J(W) is: 0\n",
      "Epoch #98 --> Cost J(W) is: 0\n",
      "Epoch #99 --> Cost J(W) is: 0\n",
      "Epoch #100 and Interation #0 --> Cost J(W) is: 0\n",
      "Epoch #100 --> Cost J(W) is: 0\n"
     ]
    }
   ],
   "source": [
    "# Perform the training process using the initialized weights for Training Set -> 2\n",
    "optimum_w_vector_2 = perceptron_2.modelTrain_SGD(X_train=X_train_cube_2, n_train=n_train_2, T_train=T_train_changed_2, w_vector = w_vector_cube, epochs=100, learn_rate=1, printFlag=True)"
   ]
  },
  {
   "cell_type": "code",
   "execution_count": 46,
   "metadata": {},
   "outputs": [
    {
     "name": "stdout",
     "output_type": "stream",
     "text": [
      "Epoch #1 --> Cost J(W) is: 878.9618216721628\n",
      "Epoch #2 --> Cost J(W) is: 26.736533660660484\n",
      "Epoch #3 --> Cost J(W) is: 21.946733043353564\n",
      "Epoch #4 --> Cost J(W) is: 25.45831397075586\n",
      "Epoch #5 --> Cost J(W) is: 33.57850833243456\n",
      "Epoch #6 --> Cost J(W) is: 27.37720474143113\n",
      "Epoch #7 --> Cost J(W) is: 23.634993224246333\n",
      "Epoch #8 --> Cost J(W) is: 19.816219772590202\n",
      "Epoch #9 --> Cost J(W) is: 16.31609272559665\n",
      "Epoch #10 --> Cost J(W) is: 19.665707006955287\n",
      "Epoch #11 --> Cost J(W) is: 16.252063979603584\n",
      "Epoch #12 --> Cost J(W) is: 13.160488709932988\n",
      "Epoch #13 --> Cost J(W) is: 14.790002756398767\n",
      "Epoch #14 --> Cost J(W) is: 14.4201455492931\n",
      "Epoch #15 --> Cost J(W) is: 14.050288342187438\n",
      "Epoch #16 --> Cost J(W) is: 11.626826923297667\n",
      "Epoch #17 --> Cost J(W) is: 14.288279542905547\n",
      "Epoch #18 --> Cost J(W) is: 11.884903776066656\n",
      "Epoch #19 --> Cost J(W) is: 18.827038254011523\n",
      "Epoch #20 --> Cost J(W) is: 14.160585272209131\n",
      "Epoch #21 --> Cost J(W) is: 11.599975488081663\n",
      "Epoch #22 --> Cost J(W) is: 15.41435195380038\n",
      "Epoch #23 --> Cost J(W) is: 10.112729682532333\n",
      "Epoch #24 --> Cost J(W) is: 10.347271467716432\n",
      "Epoch #25 --> Cost J(W) is: 11.87162026841156\n",
      "Epoch #26 --> Cost J(W) is: 9.727552346973809\n",
      "Epoch #27 --> Cost J(W) is: 11.110068776415076\n",
      "Epoch #28 --> Cost J(W) is: 9.872657651989257\n",
      "Epoch #29 --> Cost J(W) is: 14.4539491303257\n",
      "Epoch #30 --> Cost J(W) is: 13.526894701468791\n",
      "Epoch #31 --> Cost J(W) is: 13.118036645656577\n",
      "Epoch #32 --> Cost J(W) is: 9.66535958034812\n",
      "Epoch #33 --> Cost J(W) is: 10.012298478007484\n",
      "Epoch #34 --> Cost J(W) is: 9.327012903582553\n",
      "Epoch #35 --> Cost J(W) is: 8.865581213360354\n",
      "Epoch #36 --> Cost J(W) is: 9.558340054803727\n",
      "Epoch #37 --> Cost J(W) is: 9.368404525625548\n",
      "Epoch #38 --> Cost J(W) is: 9.436501979293794\n",
      "Epoch #39 --> Cost J(W) is: 8.465966491729294\n",
      "Epoch #40 --> Cost J(W) is: 10.807552843619776\n",
      "Epoch #41 --> Cost J(W) is: 9.862313149460782\n",
      "Epoch #42 --> Cost J(W) is: 11.756515146403512\n",
      "Epoch #43 --> Cost J(W) is: 26.180694366133935\n",
      "Epoch #44 --> Cost J(W) is: 15.39531516052951\n",
      "Epoch #45 --> Cost J(W) is: 13.875803466211423\n",
      "Epoch #46 --> Cost J(W) is: 14.636129653549377\n",
      "Epoch #47 --> Cost J(W) is: 17.44711661736396\n",
      "Epoch #48 --> Cost J(W) is: 13.403239736312337\n",
      "Epoch #49 --> Cost J(W) is: 13.521863704895187\n",
      "Epoch #50 --> Cost J(W) is: 19.774626671995264\n",
      "Epoch #51 --> Cost J(W) is: 47.615519201201025\n",
      "Epoch #52 --> Cost J(W) is: 25.836805815629212\n",
      "Epoch #53 --> Cost J(W) is: 26.463912436581587\n",
      "Epoch #54 --> Cost J(W) is: 16.400596768497294\n",
      "Epoch #55 --> Cost J(W) is: 14.002746130629816\n",
      "Epoch #56 --> Cost J(W) is: 18.69676188613113\n",
      "Epoch #57 --> Cost J(W) is: 14.90526791342098\n",
      "Epoch #58 --> Cost J(W) is: 13.545157908438789\n",
      "Epoch #59 --> Cost J(W) is: 13.659396337814798\n",
      "Epoch #60 --> Cost J(W) is: 14.918747120296867\n",
      "Epoch #61 --> Cost J(W) is: 17.67635950633849\n",
      "Epoch #62 --> Cost J(W) is: 18.245812770544198\n",
      "Epoch #63 --> Cost J(W) is: 13.565416095074804\n",
      "Epoch #64 --> Cost J(W) is: 13.221196347683438\n",
      "Epoch #65 --> Cost J(W) is: 12.297453511407415\n",
      "Epoch #66 --> Cost J(W) is: 15.620181588696017\n",
      "Epoch #67 --> Cost J(W) is: 11.871465258064315\n",
      "Epoch #68 --> Cost J(W) is: 12.965846840375747\n",
      "Epoch #69 --> Cost J(W) is: 12.327027058620143\n",
      "Epoch #70 --> Cost J(W) is: 11.786609295347684\n",
      "Epoch #71 --> Cost J(W) is: 12.45243519554853\n",
      "Epoch #72 --> Cost J(W) is: 15.594623729130001\n",
      "Epoch #73 --> Cost J(W) is: 12.316647386500975\n",
      "Epoch #74 --> Cost J(W) is: 10.784753300675376\n",
      "Epoch #75 --> Cost J(W) is: 11.805397727192336\n",
      "Epoch #76 --> Cost J(W) is: 10.593333875530455\n",
      "Epoch #77 --> Cost J(W) is: 11.842929191165494\n",
      "Epoch #78 --> Cost J(W) is: 11.203074011596117\n",
      "Epoch #79 --> Cost J(W) is: 10.856598713845518\n",
      "Epoch #80 --> Cost J(W) is: 11.036137664519503\n",
      "Epoch #81 --> Cost J(W) is: 11.023948804890603\n",
      "Epoch #82 --> Cost J(W) is: 14.80427900852255\n",
      "Epoch #83 --> Cost J(W) is: 14.210380073984417\n",
      "Epoch #84 --> Cost J(W) is: 10.018298969339217\n",
      "Epoch #85 --> Cost J(W) is: 10.506356056813239\n",
      "Epoch #86 --> Cost J(W) is: 10.034087000777244\n",
      "Epoch #87 --> Cost J(W) is: 12.25898578463153\n",
      "Epoch #88 --> Cost J(W) is: 21.343092071883483\n",
      "Epoch #89 --> Cost J(W) is: 12.403790555989822\n",
      "Epoch #90 --> Cost J(W) is: 9.466297003750766\n",
      "Epoch #91 --> Cost J(W) is: 16.26341993610712\n",
      "Epoch #92 --> Cost J(W) is: 11.07549114544598\n",
      "Epoch #93 --> Cost J(W) is: 9.10714169232033\n",
      "Epoch #94 --> Cost J(W) is: 8.806489014045168\n",
      "Epoch #95 --> Cost J(W) is: 8.780630605331645\n",
      "Epoch #96 --> Cost J(W) is: 10.651610606372962\n",
      "Epoch #97 --> Cost J(W) is: 8.458200268311904\n",
      "Epoch #98 --> Cost J(W) is: 11.183613364528897\n",
      "Epoch #99 --> Cost J(W) is: 8.14853318419097\n",
      "Epoch #100 and Interation #0 --> Cost J(W) is: 8.14853318419097\n",
      "Epoch #100 --> Cost J(W) is: 9.676979314743594\n"
     ]
    }
   ],
   "source": [
    "# Perform the training process using the initialized weights for Training Set -> 3\n",
    "optimum_w_vector_3 = perceptron_3.modelTrain_SGD(X_train=X_train_cube_3, n_train=n_train_3, T_train=T_train_changed_3, w_vector = w_vector_cube, epochs=100, learn_rate=1, printFlag=True)"
   ]
  },
  {
   "cell_type": "markdown",
   "metadata": {},
   "source": []
  },
  {
   "cell_type": "markdown",
   "metadata": {},
   "source": [
    "## Classification Accuracy for Training and Test Data of Dataset - 1 after Cubic Transformation"
   ]
  },
  {
   "cell_type": "code",
   "execution_count": 47,
   "metadata": {},
   "outputs": [
    {
     "name": "stdout",
     "output_type": "stream",
     "text": [
      "-----------------------------------------------------------------------------------------------------\n",
      "The Optimum w_vector after training on training data of Dataset -> 1\n",
      "[[-1.        ]\n",
      " [-1.65516654]\n",
      " [ 1.44328212]\n",
      " [-2.39908202]\n",
      " [ 1.27890038]\n",
      " [ 1.06715438]\n",
      " [-0.39439353]\n",
      " [-0.26578204]\n",
      " [ 0.38448418]\n",
      " [ 1.77207131]]\n",
      "Classification Accuracy on the training data of Dataset - 1 is: 100.0\n",
      "Classification Accuracy on the test data of Dataset - 1 is: 98.0\n",
      "-----------------------------------------------------------------------------------------------------\n"
     ]
    }
   ],
   "source": [
    "print(\"-----------------------------------------------------------------------------------------------------\")\n",
    "print(\"The Optimum w_vector after training on training data of Dataset -> 1\")\n",
    "print(optimum_w_vector_1)\n",
    "Y_hat_training_1 = perceptron_1.predict(X=X_train_cube_1, optimum_w_vector=optimum_w_vector_1)\n",
    "accuracy_training_1 = perceptron_1.calculateAccuracy(T=T_train_changed_1, Y_hat=Y_hat_training_1, n=n_train_1)\n",
    "print(f\"Classification Accuracy on the training data of Dataset - 1 is: {accuracy_training_1}\")\n",
    "\n",
    "Y_hat_test_1 = perceptron_1.predict(X=X_test_cube_1, optimum_w_vector=optimum_w_vector_1)\n",
    "accuracy_test_1 = perceptron_1.calculateAccuracy(T=T_test_changed_1, Y_hat=Y_hat_test_1, n=n_test_1)\n",
    "print(f\"Classification Accuracy on the test data of Dataset - 1 is: {accuracy_test_1}\")\n",
    "print(\"-----------------------------------------------------------------------------------------------------\")"
   ]
  },
  {
   "cell_type": "markdown",
   "metadata": {},
   "source": [
    "## Classification Accuracy for Training and Test Data of Dataset - 2 after Cubic Transformation"
   ]
  },
  {
   "cell_type": "code",
   "execution_count": 48,
   "metadata": {},
   "outputs": [
    {
     "name": "stdout",
     "output_type": "stream",
     "text": [
      "-----------------------------------------------------------------------------------------------------\n",
      "The Optimum w_vector after training on training data of Dataset -> 2 after Quadratic Transformation\n",
      "[[ 1.        ]\n",
      " [ 0.09183291]\n",
      " [ 4.58397789]\n",
      " [-0.10216971]\n",
      " [ 4.18632471]\n",
      " [ 3.70135078]\n",
      " [ 9.82401296]\n",
      " [ 2.13050788]\n",
      " [ 2.83670982]\n",
      " [ 3.99496708]]\n",
      "Classification Accuracy on the training data of Dataset - 2 is: 100.0\n",
      "Classification Accuracy on the test data of Dataset - 2 is: 98.0\n",
      "-----------------------------------------------------------------------------------------------------\n"
     ]
    }
   ],
   "source": [
    "print(\"-----------------------------------------------------------------------------------------------------\")\n",
    "print(\"The Optimum w_vector after training on training data of Dataset -> 2 after Quadratic Transformation\")\n",
    "print(optimum_w_vector_2)\n",
    "Y_hat_training_2 = perceptron_2.predict(X=X_train_cube_2, optimum_w_vector=optimum_w_vector_2)\n",
    "accuracy_training_2 = perceptron_2.calculateAccuracy(T=T_train_changed_2, Y_hat=Y_hat_training_2, n=n_train_2)\n",
    "print(f\"Classification Accuracy on the training data of Dataset - 2 is: {accuracy_training_2}\")\n",
    "\n",
    "Y_hat_test_2 = perceptron_2.predict(X=X_test_cube_2, optimum_w_vector=optimum_w_vector_2)\n",
    "accuracy_test_2 = perceptron_2.calculateAccuracy(T=T_test_changed_2, Y_hat=Y_hat_test_2, n=n_test_2)\n",
    "print(f\"Classification Accuracy on the test data of Dataset - 2 is: {accuracy_test_2}\")\n",
    "print(\"-----------------------------------------------------------------------------------------------------\")"
   ]
  },
  {
   "cell_type": "markdown",
   "metadata": {},
   "source": [
    "## Classification Accuracy for Training and Test Data of Dataset - 3 after Cubic Transformation"
   ]
  },
  {
   "cell_type": "code",
   "execution_count": 49,
   "metadata": {},
   "outputs": [
    {
     "name": "stdout",
     "output_type": "stream",
     "text": [
      "-----------------------------------------------------------------------------------------------------\n",
      "The Optimum w_vector after training on training data of Dataset -> 3 after Quadratic Transformation\n",
      "[[ -4.        ]\n",
      " [-16.54677977]\n",
      " [ 40.32772623]\n",
      " [ -2.94194687]\n",
      " [ -9.00344167]\n",
      " [ 10.15118275]\n",
      " [-21.11562   ]\n",
      " [ 15.24065885]\n",
      " [  6.19549706]\n",
      " [ -1.37745882]]\n",
      "Classification Accuracy on the training data of Dataset - 3 is: 96.0\n",
      "Classification Accuracy on the test data of Dataset - 3 is: 90.0\n",
      "-----------------------------------------------------------------------------------------------------\n"
     ]
    }
   ],
   "source": [
    "print(\"-----------------------------------------------------------------------------------------------------\")\n",
    "print(\"The Optimum w_vector after training on training data of Dataset -> 3 after Quadratic Transformation\")\n",
    "print(optimum_w_vector_3)\n",
    "Y_hat_training_3 = perceptron_3.predict(X=X_train_cube_3, optimum_w_vector=optimum_w_vector_3)\n",
    "accuracy_training_3 = perceptron_3.calculateAccuracy(T=T_train_changed_3, Y_hat=Y_hat_training_3, n=n_train_3)\n",
    "print(f\"Classification Accuracy on the training data of Dataset - 3 is: {accuracy_training_3}\")\n",
    "\n",
    "Y_hat_test_3 = perceptron_3.predict(X=X_test_cube_3, optimum_w_vector=optimum_w_vector_3)\n",
    "accuracy_test_3 = perceptron_3.calculateAccuracy(T=T_test_changed_3, Y_hat=Y_hat_test_3, n=n_test_3)\n",
    "print(f\"Classification Accuracy on the test data of Dataset - 3 is: {accuracy_test_3}\")\n",
    "print(\"-----------------------------------------------------------------------------------------------------\")"
   ]
  },
  {
   "cell_type": "markdown",
   "metadata": {},
   "source": [
    "## 4] (f) Repeat part (e), except run it 10 times."
   ]
  },
  {
   "cell_type": "code",
   "execution_count": 50,
   "metadata": {},
   "outputs": [],
   "source": [
    "trainAccuracyHist_1 = []\n",
    "testAccuracyHist_1 = []\n",
    "\n",
    "trainAccuracyHist_2 = []\n",
    "testAccuracyHist_2 = []\n",
    "\n",
    "trainAccuracyHist_3 = []\n",
    "testAccuracyHist_3 = []\n",
    "\n",
    "for i in range(10):\n",
    "    w_vector = perceptron_1.initializeWeights(1)\n",
    "    # w_vector_2 = perceptron_2.initializeWeights(1)\n",
    "    # w_vector_3 = perceptron_3.initializeWeights(1)\n",
    "\n",
    "    # Perform the training process using the initialized weights for Training Set -> 1\n",
    "    final_w_1 = perceptron_1.modelTrain_SGD(X_train=X_train_cube_1, n_train=n_train_1, T_train=T_train_changed_1, w_vector = w_vector, epochs=100, learn_rate=1, printFlag=False)\n",
    "    Y_hat_training_1 = perceptron_1.predict(X=X_train_cube_1, optimum_w_vector=final_w_1)\n",
    "    accuracy_training_1 = perceptron_1.calculateAccuracy(T=T_train_changed_1, Y_hat=Y_hat_training_1, n=n_train_1)\n",
    "    trainAccuracyHist_1.append(accuracy_training_1)\n",
    "\n",
    "    Y_hat_test_1 = perceptron_1.predict(X=X_test_cube_1, optimum_w_vector=final_w_1)\n",
    "    accuracy_test_1 = perceptron_1.calculateAccuracy(T=T_test_changed_1, Y_hat=Y_hat_test_1, n=n_test_1)\n",
    "    testAccuracyHist_1.append(accuracy_test_1)\n",
    "\n",
    "\n",
    "    # Perform the training process using the initialized weights for Training Set -> 2\n",
    "    final_w_2 = perceptron_3.modelTrain_SGD(X_train=X_train_cube_2, n_train=n_train_2, T_train=T_train_changed_2, w_vector = w_vector, epochs=100, learn_rate=1, printFlag=False)  \n",
    "\n",
    "    Y_hat_training_2 = perceptron_2.predict(X=X_train_cube_2, optimum_w_vector=final_w_2)\n",
    "    accuracy_training_2 = perceptron_2.calculateAccuracy(T=T_train_changed_2, Y_hat=Y_hat_training_2, n=n_train_2)\n",
    "    trainAccuracyHist_2.append(accuracy_training_2)\n",
    "\n",
    "    Y_hat_test_2 = perceptron_2.predict(X=X_test_cube_2, optimum_w_vector=final_w_2)\n",
    "    accuracy_test_2 = perceptron_2.calculateAccuracy(T=T_test_changed_2, Y_hat=Y_hat_test_2, n=n_test_2)\n",
    "    testAccuracyHist_2.append(accuracy_test_2)\n",
    "\n",
    "\n",
    "    # Perform the training process using the initialized weights for Training Set -> 3\n",
    "    final_w_3 = perceptron_3.modelTrain_SGD(X_train=X_train_cube_3, n_train=n_train_3, T_train=T_train_changed_3, w_vector = w_vector, epochs=100, learn_rate=1, printFlag=False)\n",
    "    \n",
    "    Y_hat_training_3 = perceptron_3.predict(X=X_train_cube_3, optimum_w_vector=final_w_3)\n",
    "    accuracy_training_3 = perceptron_3.calculateAccuracy(T=T_train_changed_3, Y_hat=Y_hat_training_3, n=n_train_3)\n",
    "    trainAccuracyHist_3.append(accuracy_training_3)\n",
    "    \n",
    "\n",
    "    Y_hat_test_3 = perceptron_3.predict(X=X_test_cube_3, optimum_w_vector=final_w_3)\n",
    "    accuracy_test_3 = perceptron_3.calculateAccuracy(T=T_test_changed_3, Y_hat=Y_hat_test_3, n=n_test_3)\n",
    "    testAccuracyHist_3.append(accuracy_test_3)"
   ]
  },
  {
   "cell_type": "markdown",
   "metadata": {},
   "source": [
    "## Accuracy and Std after Cubic Transformation for Dataset -> 1."
   ]
  },
  {
   "cell_type": "code",
   "execution_count": 51,
   "metadata": {},
   "outputs": [
    {
     "name": "stdout",
     "output_type": "stream",
     "text": [
      "-------------------------------------------------------------------------------------------\n",
      "Mean of Training Accuracy: 100.0\n",
      "Standard Deviation of Training Accuracy: 0.0\n",
      "\n",
      "Mean of Test Accuracy: 99.2\n",
      "Standard Deviation of Test Accuracy: 1.2489995996796797\n",
      "-------------------------------------------------------------------------------------------\n"
     ]
    }
   ],
   "source": [
    "print(\"-------------------------------------------------------------------------------------------\")\n",
    "print(f\"Mean of Training Accuracy: {np.mean(trainAccuracyHist_1)}\")\n",
    "print(f\"Standard Deviation of Training Accuracy: {np.std(trainAccuracyHist_1)}\")\n",
    "print()\n",
    "print(f\"Mean of Test Accuracy: {np.mean(testAccuracyHist_1)}\")\n",
    "print(f\"Standard Deviation of Test Accuracy: {np.std(testAccuracyHist_1)}\")\n",
    "print(\"-------------------------------------------------------------------------------------------\")\n"
   ]
  },
  {
   "cell_type": "markdown",
   "metadata": {},
   "source": [
    "## Accuracy and Std after Cubic Transformation for Dataset -> 2."
   ]
  },
  {
   "cell_type": "code",
   "execution_count": 52,
   "metadata": {},
   "outputs": [
    {
     "name": "stdout",
     "output_type": "stream",
     "text": [
      "-------------------------------------------------------------------------------------------\n",
      "Mean of Training Accuracy: 100.0\n",
      "Standard Deviation of Training Accuracy: 0.0\n",
      "\n",
      "Mean of Test Accuracy: 97.3\n",
      "Standard Deviation of Test Accuracy: 2.051828452868319\n",
      "-------------------------------------------------------------------------------------------\n"
     ]
    }
   ],
   "source": [
    "print(\"-------------------------------------------------------------------------------------------\")\n",
    "print(f\"Mean of Training Accuracy: {np.mean(trainAccuracyHist_2)}\")\n",
    "print(f\"Standard Deviation of Training Accuracy: {np.std(trainAccuracyHist_2)}\")\n",
    "print()\n",
    "print(f\"Mean of Test Accuracy: {np.mean(testAccuracyHist_2)}\")\n",
    "print(f\"Standard Deviation of Test Accuracy: {np.std(testAccuracyHist_2)}\")\n",
    "print(\"-------------------------------------------------------------------------------------------\")\n"
   ]
  },
  {
   "cell_type": "markdown",
   "metadata": {},
   "source": [
    "## Accuracy and Std after Cubic Transformation for Dataset -> 3."
   ]
  },
  {
   "cell_type": "code",
   "execution_count": 53,
   "metadata": {},
   "outputs": [
    {
     "name": "stdout",
     "output_type": "stream",
     "text": [
      "-------------------------------------------------------------------------------------------\n",
      "Mean of Training Accuracy: 95.2\n",
      "Standard Deviation of Training Accuracy: 0.8717797887081347\n",
      "\n",
      "Mean of Test Accuracy: 90.4\n",
      "Standard Deviation of Test Accuracy: 1.624807680927192\n",
      "-------------------------------------------------------------------------------------------\n"
     ]
    }
   ],
   "source": [
    "print(\"-------------------------------------------------------------------------------------------\")\n",
    "print(f\"Mean of Training Accuracy: {np.mean(trainAccuracyHist_3)}\")\n",
    "print(f\"Standard Deviation of Training Accuracy: {np.std(trainAccuracyHist_3)}\")\n",
    "print()\n",
    "print(f\"Mean of Test Accuracy: {np.mean(testAccuracyHist_3)}\")\n",
    "print(f\"Standard Deviation of Test Accuracy: {np.std(testAccuracyHist_3)}\")\n",
    "print(\"-------------------------------------------------------------------------------------------\")\n"
   ]
  }
 ],
 "metadata": {
  "kernelspec": {
   "display_name": "Python 3 (ipykernel)",
   "language": "python",
   "name": "python3"
  },
  "language_info": {
   "codemirror_mode": {
    "name": "ipython",
    "version": 3
   },
   "file_extension": ".py",
   "mimetype": "text/x-python",
   "name": "python",
   "nbconvert_exporter": "python",
   "pygments_lexer": "ipython3",
   "version": "3.10.9"
  },
  "vscode": {
   "interpreter": {
    "hash": "a93cbcc8f689737a56379ee2b682729639c657947f027c47bdf18bc4994fa06e"
   }
  }
 },
 "nbformat": 4,
 "nbformat_minor": 2
}
