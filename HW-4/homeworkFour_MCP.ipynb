{
 "cells": [
  {
   "attachments": {},
   "cell_type": "markdown",
   "metadata": {},
   "source": [
    "# Homework : 4 Machine Learning - 1 (Supervised Methods)"
   ]
  },
  {
   "cell_type": "code",
   "execution_count": 1,
   "metadata": {},
   "outputs": [],
   "source": [
    "# Importing required libraries\n",
    "import numpy as np\n",
    "import pandas as pd\n",
    "import matplotlib.pyplot as plt\n",
    "import os\n",
    "from sklearn.metrics import confusion_matrix, ConfusionMatrixDisplay\n",
    "\n",
    "from utils.multiclassPerceptron import MultiClassPerceptron"
   ]
  },
  {
   "cell_type": "code",
   "execution_count": 2,
   "metadata": {},
   "outputs": [
    {
     "name": "stdout",
     "output_type": "stream",
     "text": [
      "Train Data -> Bean Dataset: \n",
      "     Area  Perimeter  MajorAxisLength  MinorAxisLength  AspectRation  \\\n",
      "0   46427    811.657       293.918029       202.246160      1.453269   \n",
      "1   35857    710.411       261.097189       175.491734      1.487803   \n",
      "2  171028   1553.271       564.123032       387.736246      1.454914   \n",
      "3   61736   1006.756       408.994308       193.596049      2.112617   \n",
      "4  102525   1238.007       478.271451       274.496251      1.742361   \n",
      "\n",
      "   Eccentricity  ConvexArea  EquivDiameter    Extent  Solidity  roundness  \\\n",
      "0      0.725612       46974     243.131019  0.683796  0.988355   0.885596   \n",
      "1      0.740431       36325     213.669255  0.712891  0.987116   0.892821   \n",
      "2      0.726349      172608     466.647204  0.788962  0.990846   0.890805   \n",
      "3      0.880876       62339     280.365327  0.827416  0.990327   0.765420   \n",
      "4      0.818902      103334     361.301653  0.809201  0.992171   0.840608   \n",
      "\n",
      "   Compactness  ShapeFactor1  ShapeFactor2  ShapeFactor3  ShapeFactor4  \\\n",
      "0     0.827207      0.006331      0.001828      0.684271      0.994430   \n",
      "1     0.818351      0.007282      0.002014      0.669699      0.996380   \n",
      "2     0.827208      0.003298      0.000953      0.684273      0.995559   \n",
      "3     0.685499      0.006625      0.000902      0.469909      0.992738   \n",
      "4     0.755432      0.004665      0.000937      0.570678      0.994327   \n",
      "\n",
      "      Class  \n",
      "0     SEKER  \n",
      "1  DERMASON  \n",
      "2    BOMBAY  \n",
      "3     HOROZ  \n",
      "4      CALI  \n",
      "\n"
     ]
    }
   ],
   "source": [
    "# Importing The Bean Datasets Train and Test\n",
    "\n",
    "# Train Dataset\n",
    "train_data = pd.read_csv(\"./datasets/Dry_Bean_train.csv\")\n",
    "print(\"Train Data -> Bean Dataset: \")\n",
    "print(train_data.head())\n",
    "print()"
   ]
  },
  {
   "cell_type": "code",
   "execution_count": 3,
   "metadata": {},
   "outputs": [
    {
     "name": "stdout",
     "output_type": "stream",
     "text": [
      "Test Data -> Bean Dataset: \n",
      "     Area  Perimeter  MajorAxisLength  MinorAxisLength  AspectRation  \\\n",
      "0   38542    724.663       273.728756       179.666585      1.523537   \n",
      "1   76070   1063.592       413.174391       235.346983      1.755597   \n",
      "2   50253    872.982       354.074847       181.355633      1.952379   \n",
      "3   44799   1005.548       362.449644       157.986158      2.294186   \n",
      "4  180028   1630.826       625.624977       371.440425      1.684321   \n",
      "\n",
      "   Eccentricity  ConvexArea  EquivDiameter    Extent  Solidity  roundness  \\\n",
      "0      0.754442       38922     221.524713  0.707063  0.990237   0.922299   \n",
      "1      0.821917       76858     311.215893  0.777446  0.989747   0.845032   \n",
      "2      0.858869       50859     252.950799  0.641604  0.988085   0.828631   \n",
      "3      0.900003       46552     238.830187  0.652523  0.962343   0.556766   \n",
      "4      0.804678      183263     478.767970  0.674611  0.982348   0.850618   \n",
      "\n",
      "   Compactness  ShapeFactor1  ShapeFactor2  ShapeFactor3  ShapeFactor4  \\\n",
      "0     0.809286      0.007102      0.001879      0.654943      0.997830   \n",
      "1     0.753231      0.005432      0.001078      0.567357      0.996051   \n",
      "2     0.714399      0.007046      0.001132      0.510366      0.996428   \n",
      "3     0.658933      0.008091      0.000941      0.434193      0.996120   \n",
      "4     0.765264      0.003475      0.000735      0.585628      0.986386   \n",
      "\n",
      "      Class  \n",
      "0  DERMASON  \n",
      "1      CALI  \n",
      "2     HOROZ  \n",
      "3     HOROZ  \n",
      "4    BOMBAY  \n",
      "\n"
     ]
    }
   ],
   "source": [
    "# Test Dataset\n",
    "test_data = pd.read_csv(\"./datasets/Dry_Bean_test.csv\")\n",
    "print(\"Test Data -> Bean Dataset: \")\n",
    "print(test_data.head())\n",
    "print()"
   ]
  },
  {
   "attachments": {},
   "cell_type": "markdown",
   "metadata": {},
   "source": [
    "## Creating an instance for the MultiClassPerceptron class."
   ]
  },
  {
   "cell_type": "code",
   "execution_count": 4,
   "metadata": {},
   "outputs": [],
   "source": [
    "mcp = MultiClassPerceptron()"
   ]
  },
  {
   "attachments": {},
   "cell_type": "markdown",
   "metadata": {},
   "source": [
    "# 2] (a) Run your Multiclass Perceptron algorithm on the Dry Beans dataset."
   ]
  },
  {
   "cell_type": "code",
   "execution_count": 5,
   "metadata": {},
   "outputs": [
    {
     "name": "stdout",
     "output_type": "stream",
     "text": [
      "---------------------------------------------------\n",
      "TRAIN DATA OF BEAN DATASET: \n",
      "  Shape of Input Data: (12249, 17)\n",
      "  Number of Data Points: 12249\n",
      "  Number of Input Features: 16\n",
      "  Number of Target Classes: 7\n",
      "---------------------------------------------------\n",
      "Shape of Augmented X_train: (12249, 17)\n",
      "Shape of w_vector: (17, 7)\n"
     ]
    }
   ],
   "source": [
    "n_train, X_train, T_train = mcp.generateTrainData(trainData=train_data)\n",
    "\n",
    "X_train_std = mcp.standardizeTrainData(X_train=X_train)\n",
    "\n",
    "X_train_augmented = mcp.augmentData(X=X_train_std, n=n_train)\n",
    "print(f\"Shape of Augmented X_train: {X_train_augmented.shape}\")\n",
    "\n",
    "\n",
    "w_vector = mcp.initializeWeights(1)\n",
    "print(f\"Shape of w_vector: {w_vector .shape}\")"
   ]
  },
  {
   "attachments": {},
   "cell_type": "markdown",
   "metadata": {},
   "source": [
    "## Printing the first data point of X_train, X_train_std and X_train_augmented"
   ]
  },
  {
   "cell_type": "code",
   "execution_count": 6,
   "metadata": {},
   "outputs": [
    {
     "data": {
      "text/plain": [
       "array([4.64270000e+04, 8.11657000e+02, 2.93918029e+02, 2.02246160e+02,\n",
       "       1.45326877e+00, 7.25612114e-01, 4.69740000e+04, 2.43131019e+02,\n",
       "       6.83795805e-01, 9.88355260e-01, 8.85595515e-01, 8.27206890e-01,\n",
       "       6.33075600e-03, 1.82848700e-03, 6.84271239e-01, 9.94430025e-01])"
      ]
     },
     "execution_count": 6,
     "metadata": {},
     "output_type": "execute_result"
    }
   ],
   "source": [
    "X_train[0]"
   ]
  },
  {
   "cell_type": "code",
   "execution_count": 7,
   "metadata": {},
   "outputs": [
    {
     "data": {
      "text/plain": [
       "array([-2.25584343e-01, -2.03067042e-01, -3.05504987e-01, -6.36055783e-04,\n",
       "       -5.27050635e-01, -2.74808787e-01, -2.27982918e-01, -1.67481972e-01,\n",
       "       -1.34349400e+00,  2.60467568e-01,  2.06351130e-01,  4.43231284e-01,\n",
       "       -2.06824753e-01,  1.88301261e-01,  4.11093274e-01, -1.40586238e-01])"
      ]
     },
     "execution_count": 7,
     "metadata": {},
     "output_type": "execute_result"
    }
   ],
   "source": [
    "X_train_std[0]"
   ]
  },
  {
   "cell_type": "code",
   "execution_count": 8,
   "metadata": {},
   "outputs": [
    {
     "data": {
      "text/plain": [
       "array([ 1.00000000e+00, -2.25584343e-01, -2.03067042e-01, -3.05504987e-01,\n",
       "       -6.36055783e-04, -5.27050635e-01, -2.74808787e-01, -2.27982918e-01,\n",
       "       -1.67481972e-01, -1.34349400e+00,  2.60467568e-01,  2.06351130e-01,\n",
       "        4.43231284e-01, -2.06824753e-01,  1.88301261e-01,  4.11093274e-01,\n",
       "       -1.40586238e-01])"
      ]
     },
     "execution_count": 8,
     "metadata": {},
     "output_type": "execute_result"
    }
   ],
   "source": [
    "X_train_augmented[0]"
   ]
  },
  {
   "attachments": {},
   "cell_type": "markdown",
   "metadata": {},
   "source": [
    "## Perform training using SGD and computing the accuracy on train and test data"
   ]
  },
  {
   "cell_type": "code",
   "execution_count": 9,
   "metadata": {},
   "outputs": [
    {
     "name": "stdout",
     "output_type": "stream",
     "text": [
      "Epoch #1 --> Cost J(W) is: 13537.2513119182\n",
      "Epoch #2 --> Cost J(W) is: 12201.70504399047\n",
      "Epoch #3 --> Cost J(W) is: 28558.192456811983\n",
      "Epoch #4 --> Cost J(W) is: 15094.775776776414\n",
      "Epoch #5 --> Cost J(W) is: 12804.503454960883\n",
      "Epoch #6 --> Cost J(W) is: 12394.563897658085\n",
      "Epoch #7 --> Cost J(W) is: 13225.907857045158\n",
      "Epoch #8 --> Cost J(W) is: 20557.936690709786\n",
      "Epoch #9 --> Cost J(W) is: 9349.056030096624\n",
      "Epoch #10 --> Cost J(W) is: 12153.452927104028\n",
      "Epoch #11 --> Cost J(W) is: 10213.532461062443\n",
      "Epoch #12 --> Cost J(W) is: 11230.170606059204\n",
      "Epoch #13 --> Cost J(W) is: 12494.645768736935\n",
      "Epoch #14 --> Cost J(W) is: 10238.634154463978\n",
      "Epoch #15 --> Cost J(W) is: 8981.900965928575\n",
      "Epoch #16 --> Cost J(W) is: 9933.569082339438\n",
      "Epoch #17 --> Cost J(W) is: 10596.260780512668\n",
      "Epoch #18 --> Cost J(W) is: 12283.11723488711\n",
      "Epoch #19 --> Cost J(W) is: 16845.57532882649\n",
      "Epoch #20 --> Cost J(W) is: 12089.606129908263\n",
      "Epoch #21 --> Cost J(W) is: 14700.05420853382\n",
      "Epoch #22 --> Cost J(W) is: 9744.654206045134\n",
      "Epoch #23 --> Cost J(W) is: 11727.705240403415\n",
      "Epoch #24 --> Cost J(W) is: 12054.802180007497\n",
      "Epoch #25 --> Cost J(W) is: 9476.370781673462\n",
      "Epoch #26 --> Cost J(W) is: 15168.366655135242\n",
      "Epoch #27 --> Cost J(W) is: 10603.039485679097\n",
      "Epoch #28 --> Cost J(W) is: 10407.489528773454\n",
      "Epoch #29 --> Cost J(W) is: 16232.162903482613\n",
      "Epoch #30 --> Cost J(W) is: 14236.890513613525\n",
      "Epoch #31 --> Cost J(W) is: 9890.548160900502\n",
      "Epoch #32 --> Cost J(W) is: 10256.792624888541\n",
      "Epoch #33 --> Cost J(W) is: 15151.917443098608\n",
      "Epoch #34 --> Cost J(W) is: 11546.583549865178\n",
      "Epoch #35 --> Cost J(W) is: 16869.726922775288\n",
      "Epoch #36 --> Cost J(W) is: 16985.27656015756\n",
      "Epoch #37 --> Cost J(W) is: 18348.098958444665\n",
      "Epoch #38 --> Cost J(W) is: 13518.435098914806\n",
      "Epoch #39 --> Cost J(W) is: 12722.588299023366\n",
      "Epoch #40 --> Cost J(W) is: 12394.899940525353\n",
      "Epoch #41 --> Cost J(W) is: 18994.870363708913\n",
      "Epoch #42 --> Cost J(W) is: 22923.77052554611\n",
      "Epoch #43 --> Cost J(W) is: 12274.926451251069\n",
      "Epoch #44 --> Cost J(W) is: 13791.319551378363\n",
      "Epoch #45 --> Cost J(W) is: 9671.0829075275\n",
      "Epoch #46 --> Cost J(W) is: 13332.098930144015\n",
      "Epoch #47 --> Cost J(W) is: 9388.030488793082\n",
      "Epoch #48 --> Cost J(W) is: 21656.194391708836\n",
      "Epoch #49 --> Cost J(W) is: 10516.780972124267\n",
      "Epoch #50 --> Cost J(W) is: 14305.258959714456\n",
      "Epoch #51 --> Cost J(W) is: 12781.959863183813\n",
      "Epoch #52 --> Cost J(W) is: 12884.686864154479\n",
      "Epoch #53 --> Cost J(W) is: 13864.901291840968\n",
      "Epoch #54 --> Cost J(W) is: 10555.111170735863\n",
      "Epoch #55 --> Cost J(W) is: 11332.512788067117\n",
      "Epoch #56 --> Cost J(W) is: 11472.17880147594\n",
      "Epoch #57 --> Cost J(W) is: 11728.88619407853\n",
      "Epoch #58 --> Cost J(W) is: 11213.97451873046\n",
      "Epoch #59 --> Cost J(W) is: 10355.506949665072\n",
      "Epoch #60 --> Cost J(W) is: 11046.003019179954\n",
      "Epoch #61 --> Cost J(W) is: 15240.943946604157\n",
      "Epoch #62 --> Cost J(W) is: 14420.34100805352\n",
      "Epoch #63 --> Cost J(W) is: 10573.008265030785\n",
      "Epoch #64 --> Cost J(W) is: 10082.82450456488\n",
      "Epoch #65 --> Cost J(W) is: 12203.448505630937\n",
      "Epoch #66 --> Cost J(W) is: 10864.368871561088\n",
      "Epoch #67 --> Cost J(W) is: 22155.001529166235\n",
      "Epoch #68 --> Cost J(W) is: 10090.753200168367\n",
      "Epoch #69 --> Cost J(W) is: 14719.539895635344\n",
      "Epoch #70 --> Cost J(W) is: 11012.925633885592\n",
      "Epoch #71 --> Cost J(W) is: 12319.048538738145\n",
      "Epoch #72 --> Cost J(W) is: 10432.870022446326\n",
      "Epoch #73 --> Cost J(W) is: 15328.55751737691\n",
      "Epoch #74 --> Cost J(W) is: 9310.053470324638\n",
      "Epoch #75 --> Cost J(W) is: 14455.955298618936\n",
      "Epoch #76 --> Cost J(W) is: 17246.480321923613\n",
      "Epoch #77 --> Cost J(W) is: 12447.486495373558\n",
      "Epoch #78 --> Cost J(W) is: 11469.374364160125\n",
      "Epoch #79 --> Cost J(W) is: 10882.73678275889\n",
      "Epoch #80 --> Cost J(W) is: 14763.771050560148\n",
      "Epoch #81 --> Cost J(W) is: 10338.976906185333\n",
      "Epoch #82 --> Cost J(W) is: 13172.101438490392\n",
      "Epoch #83 --> Cost J(W) is: 9738.771098235822\n",
      "Epoch #84 --> Cost J(W) is: 11018.444055357677\n",
      "Epoch #85 --> Cost J(W) is: 14966.844220615872\n",
      "Epoch #86 --> Cost J(W) is: 15958.993967655799\n",
      "Epoch #87 --> Cost J(W) is: 11714.209255822605\n",
      "Epoch #88 --> Cost J(W) is: 14493.934337977911\n",
      "Epoch #89 --> Cost J(W) is: 11413.859445091759\n",
      "Epoch #90 --> Cost J(W) is: 9446.262289340597\n",
      "Epoch #91 --> Cost J(W) is: 14116.153996101928\n",
      "Epoch #92 --> Cost J(W) is: 8990.139741716048\n",
      "Epoch #93 --> Cost J(W) is: 9961.378122959182\n",
      "Epoch #94 --> Cost J(W) is: 21554.582124880526\n",
      "Epoch #95 --> Cost J(W) is: 9444.924235657218\n",
      "Epoch #96 --> Cost J(W) is: 13717.430364021691\n",
      "Epoch #97 --> Cost J(W) is: 11850.337496933666\n",
      "Epoch #98 --> Cost J(W) is: 18761.538676875327\n",
      "Epoch #99 --> Cost J(W) is: 10103.201715586842\n",
      "Epoch #100 and Interation #12149 --> Cost J(W) is: 11978.97805279162\n",
      "Epoch #100 and Interation #12179 --> Cost J(W) is: 11774.276009951165\n",
      "Epoch #100 and Interation #12216 --> Cost J(W) is: 10117.15238687671\n",
      "Epoch #100 --> Cost J(W) is: 11472.07861453332\n"
     ]
    }
   ],
   "source": [
    "optimum_w_vector = mcp.modelTrain_SGD(n_train = n_train, X_train = X_train_augmented, T_train = T_train, w_vector = w_vector, epochs = 100, learn_rate = 1, printFlag = True)"
   ]
  },
  {
   "cell_type": "code",
   "execution_count": 10,
   "metadata": {},
   "outputs": [
    {
     "name": "stdout",
     "output_type": "stream",
     "text": [
      "---------------------------------------------------------------------\n",
      "Train Accuracy:  88.83174136664216\n",
      "---------------------------------------------------------------------\n"
     ]
    }
   ],
   "source": [
    "# Results - Accuracy\n",
    "Y_hat_train = mcp.predict(X=X_train_augmented, w_vector=optimum_w_vector)\n",
    "accuracyTrain = mcp.calculateAccuracy(T=T_train, Y_hat=Y_hat_train, n=n_train)\n",
    "print(\"---------------------------------------------------------------------\")\n",
    "print(\"Train Accuracy: \",accuracyTrain)\n",
    "print(\"---------------------------------------------------------------------\")"
   ]
  },
  {
   "attachments": {},
   "cell_type": "markdown",
   "metadata": {},
   "source": [
    "## Using Test Data of Bean Dataset and finding the accuracy"
   ]
  },
  {
   "cell_type": "code",
   "execution_count": 11,
   "metadata": {},
   "outputs": [
    {
     "name": "stdout",
     "output_type": "stream",
     "text": [
      "---------------------------------------------------\n",
      "TEST DATA OF BEAN DATASET: \n",
      "  Shape of Input Data: (1362, 17)\n",
      "  Number of Data Points: 1362\n",
      "  Number of Input Features: 16\n",
      "  Number of Target Classes: 7\n",
      "---------------------------------------------------\n",
      "Shape of Augmented X_test: (1362, 17)\n"
     ]
    }
   ],
   "source": [
    "n_test, X_test, T_test = mcp.generateTestData(testData=test_data, printFlag=True) \n",
    "X_test_std = mcp.standardizeTestData(X_test=X_test)\n",
    "\n",
    "X_test_augmented = mcp.augmentData(X=X_test_std, n=n_test)\n",
    "print(f\"Shape of Augmented X_test: {X_test_augmented.shape}\")\n"
   ]
  },
  {
   "cell_type": "code",
   "execution_count": 12,
   "metadata": {},
   "outputs": [
    {
     "name": "stdout",
     "output_type": "stream",
     "text": [
      "---------------------------------------------------------------------\n",
      "Test Accuracy:  88.91336270190897\n",
      "---------------------------------------------------------------------\n"
     ]
    }
   ],
   "source": [
    "# Results - Accuracy\n",
    "Y_hat_test = mcp.predict(X=X_test_augmented, w_vector=optimum_w_vector)\n",
    "accuracyTest = mcp.calculateAccuracy(T=T_test, Y_hat=Y_hat_test, n=n_test)\n",
    "print(\"---------------------------------------------------------------------\")\n",
    "print(\"Test Accuracy: \",accuracyTest)\n",
    "print(\"---------------------------------------------------------------------\")"
   ]
  },
  {
   "cell_type": "markdown",
   "metadata": {},
   "source": [
    "## Printing the weight vectors and the Magnitude values"
   ]
  },
  {
   "cell_type": "code",
   "execution_count": 13,
   "metadata": {},
   "outputs": [
    {
     "name": "stdout",
     "output_type": "stream",
     "text": [
      "########################################################################\n",
      "w_vector[1]\n",
      "Magnitude : 67.28352317800257\n",
      "[ 15.         -15.13608669  28.48012332   3.17815208 -25.23933715\n",
      "  10.12261028 -22.01258007 -15.8372422   -7.45438017  -0.2469686\n",
      "   2.1873817   -3.206283    -9.93791016 -34.57211396  16.05876149\n",
      "  -4.19784031  11.69177159]\n",
      "########################################################################\n",
      "w_vector[2]\n",
      "Magnitude : 74.88295252634417\n",
      "[ 2.50000000e+01  3.31718391e-02  3.58912557e+01 -1.48050717e+01\n",
      "  6.76681603e+00 -1.03101264e+01  2.87614307e+01 -5.73802638e+00\n",
      " -2.40345981e+00 -1.22744942e+00  1.29542406e+00  5.80563798e+00\n",
      "  1.38799570e+01  4.42458128e+01  1.48491892e+01  6.94807312e+00\n",
      " -1.03132839e+00]\n",
      "########################################################################\n",
      "w_vector[3]\n",
      "Magnitude : 114.49572747739106\n",
      "[-66.          48.93969992   9.80786831   7.96798295  19.71178705\n",
      "  -8.93416196  -2.19807305  49.14535158  13.76581955   4.84029897\n",
      "   0.70532384  21.85487134  10.02369311  42.16310585  25.56249646\n",
      "   9.32704326  -0.57218761]\n",
      "########################################################################\n",
      "w_vector[4]\n",
      "Magnitude : 95.99651623676505\n",
      "[  9.         -27.75933674  31.98303119   3.3044386  -15.24604067\n",
      "  71.30597487 -10.22929131 -22.68535978 -17.83524318   0.81068779\n",
      "  10.00258999  -4.75790222   6.04771677  -2.7306847   13.63767347\n",
      "  24.58845421 -10.8451237 ]\n",
      "########################################################################\n",
      "w_vector[5]\n",
      "Magnitude : 73.50889512701073\n",
      "[ -2.          -0.77590772 -27.82003968  32.99581775  -8.88250936\n",
      " -12.87909622  18.1536341    4.96155925  13.71205181   3.03761823\n",
      "  -1.26202907   8.96107415 -12.58899253 -45.39220979  14.78775711\n",
      " -14.62184975  -2.60435975]\n",
      "########################################################################\n",
      "w_vector[6]\n",
      "Magnitude : 99.91424908282724\n",
      "[ 16.          -2.19715928 -90.17117446   1.4880039    5.71395307\n",
      "   2.24743193  13.43137798 -10.14171392   5.81508342   1.64341011\n",
      "   4.47104822 -18.11279243   4.42031212 -22.71234227 -18.31303579\n",
      "   2.28113264  -2.73464916]\n",
      "########################################################################\n",
      "w_vector[7]\n",
      "Magnitude : 95.04241595707411\n",
      "[ 10.           3.89561866  18.82893559 -27.12932356  24.17533102\n",
      " -44.55263251 -18.9064984    7.29543146   1.40012839  -1.85759709\n",
      " -10.39973875  -3.54460582  -4.84477631  25.99843206 -59.58284193\n",
      " -17.32501317  13.09587702]\n",
      "########################################################################\n"
     ]
    }
   ],
   "source": [
    "mcp.print_weights(optimum_w_vector)"
   ]
  },
  {
   "cell_type": "code",
   "execution_count": 14,
   "metadata": {},
   "outputs": [
    {
     "data": {
      "image/png": "[encoded data removed]",
      "text/plain": [
       "<Figure size 640x480 with 2 Axes>"
      ]
     },
     "metadata": {},
     "output_type": "display_data"
    },
    {
     "data": {
      "text/plain": [
       "<Figure size 640x480 with 0 Axes>"
      ]
     },
     "metadata": {},
     "output_type": "display_data"
    }
   ],
   "source": [
    "# Results - Confusion matrix on test set\n",
    "cm = confusion_matrix(T_test,Y_hat_test)\n",
    "display = ConfusionMatrixDisplay(confusion_matrix=cm)\n",
    "display.plot()\n",
    "plt.figure()\n",
    "plt.show()"
   ]
  },
  {
   "attachments": {},
   "cell_type": "markdown",
   "metadata": {},
   "source": [
    "## 1] (b) Repeat part (a) 10 times. Report only the mean and standard deviation of: classification accuracies, weight vector norms and confusion matrix."
   ]
  },
  {
   "cell_type": "code",
   "execution_count": 15,
   "metadata": {},
   "outputs": [],
   "source": [
    "accuracyTrainHistory = []\n",
    "accuracyTestHistory = []\n",
    "weightNormHistory = np.zeros((10,7))  \n",
    "cmHistory = np.zeros((10,7,7))          \n",
    "\n",
    "for i in range(10):\n",
    "    final_w_vector = mcp.modelTrain_SGD(n_train = n_train, X_train = X_train_augmented, T_train = T_train, w_vector = w_vector, epochs = 100, learn_rate = 1, printFlag = False)\n",
    "    Y_hat_train = mcp.predict(X_train_augmented, final_w_vector)\n",
    "    Y_hat_test = mcp.predict(X_test_augmented, final_w_vector)\n",
    "    cm = confusion_matrix(T_test,Y_hat_test)\n",
    "     \n",
    "    accuracyTrainHistory.append(mcp.calculateAccuracy(T_train,Y_hat_train, n_train))\n",
    "    accuracyTestHistory.append(mcp.calculateAccuracy(T=T_test, Y_hat=Y_hat_test, n=n_test))\n",
    "    weightNormHistory[i] = np.linalg.norm(final_w_vector, axis=0)\n",
    "    cmHistory[i] = cm"
   ]
  },
  {
   "cell_type": "code",
   "execution_count": 16,
   "metadata": {},
   "outputs": [],
   "source": [
    "mean_accuracy_train = np.mean(accuracyTrainHistory)\n",
    "std_accuracy_train = np.std(accuracyTrainHistory)\n",
    "\n",
    "mean_accuracy_test = np.mean(accuracyTestHistory)\n",
    "std_accuracy_test = np.std(accuracyTestHistory)\n",
    "\n",
    "mean_weight_norm  = np.mean(weightNormHistory,axis=0)\n",
    "std_weight_norm   = np.std(weightNormHistory,axis=0)\n",
    "\n",
    "mean_cm = np.mean(cmHistory,axis=0)\n",
    "std_cm = np.std(cmHistory,axis=0)"
   ]
  },
  {
   "cell_type": "code",
   "execution_count": 17,
   "metadata": {},
   "outputs": [
    {
     "name": "stdout",
     "output_type": "stream",
     "text": [
      "---------------------------------------------------------------------\n",
      "Train accuracy Mean:  89.6367050371459\n",
      "Train accuracy Std :  1.3544314619088604\n",
      "---------------------------------------------------------------------\n",
      "Test accuracy Mean:  89.00881057268722\n",
      "Test accuracy Std :  1.3167025130202685\n",
      "---------------------------------------------------------------------\n",
      "\n",
      "---------------------------------------------------------------------\n",
      "Weight norm Mean: \n",
      "[155.84424782 160.58011073 158.94500551 270.83877414 224.02711744\n",
      " 293.10558535 221.84036302]\n",
      "Weight norm std: \n",
      "[36.87276261 34.20940612 15.95343935 77.45832833 66.04854735 66.84588244\n",
      " 54.82752154]\n",
      "---------------------------------------------------------------------\n"
     ]
    }
   ],
   "source": [
    "# Results - Mean and std of accuracies\n",
    "print(\"---------------------------------------------------------------------\")\n",
    "print(\"Train accuracy Mean: \",mean_accuracy_train)\n",
    "print(\"Train accuracy Std : \",std_accuracy_train)\n",
    "print(\"---------------------------------------------------------------------\")\n",
    "print(\"Test accuracy Mean: \",mean_accuracy_test)\n",
    "print(\"Test accuracy Std : \",std_accuracy_test)\n",
    "print(\"---------------------------------------------------------------------\")\n",
    "\n",
    "print()\n",
    "\n",
    "print(\"---------------------------------------------------------------------\")\n",
    "print(\"Weight norm Mean: \")\n",
    "print(mean_weight_norm)\n",
    "print(\"Weight norm std: \")\n",
    "print(std_weight_norm)\n",
    "print(\"---------------------------------------------------------------------\")"
   ]
  },
  {
   "attachments": {},
   "cell_type": "markdown",
   "metadata": {},
   "source": [
    "## Confusion Matrix for cm_mean and Confusion Matrix for cm_std"
   ]
  },
  {
   "cell_type": "code",
   "execution_count": 18,
   "metadata": {},
   "outputs": [
    {
     "name": "stdout",
     "output_type": "stream",
     "text": [
      "Confusion Matrix for cm_mean: \n"
     ]
    },
    {
     "data": {
      "image/png": "[encoded data removed]",
      "text/plain": [
       "<Figure size 640x480 with 2 Axes>"
      ]
     },
     "metadata": {},
     "output_type": "display_data"
    },
    {
     "data": {
      "text/plain": [
       "<Figure size 640x480 with 0 Axes>"
      ]
     },
     "metadata": {},
     "output_type": "display_data"
    }
   ],
   "source": [
    "# Results - Mean and Std of Confusion Matrix\n",
    "print(\"Confusion Matrix for cm_mean: \")\n",
    "mean_cm = np.round(mean_cm).astype(int)\n",
    "disp = ConfusionMatrixDisplay(confusion_matrix=mean_cm)\n",
    "disp.plot()\n",
    "plt.figure()\n",
    "plt.show()\n",
    "\n"
   ]
  },
  {
   "cell_type": "code",
   "execution_count": 19,
   "metadata": {},
   "outputs": [
    {
     "name": "stdout",
     "output_type": "stream",
     "text": [
      "Confusion Matrix for cm_std: \n"
     ]
    },
    {
     "data": {
      "image/png": "[encoded data removed]",
      "text/plain": [
       "<Figure size 640x480 with 2 Axes>"
      ]
     },
     "metadata": {},
     "output_type": "display_data"
    },
    {
     "data": {
      "text/plain": [
       "<Figure size 640x480 with 0 Axes>"
      ]
     },
     "metadata": {},
     "output_type": "display_data"
    }
   ],
   "source": [
    "print(\"Confusion Matrix for cm_std: \")\n",
    "# std_cm = np.round(std_cm).astype(int)\n",
    "disp = ConfusionMatrixDisplay(confusion_matrix=std_cm)\n",
    "disp.plot()\n",
    "plt.figure()\n",
    "plt.show()"
   ]
  }
 ],
 "metadata": {
  "kernelspec": {
   "display_name": "ml",
   "language": "python",
   "name": "python3"
  },
  "language_info": {
   "codemirror_mode": {
    "name": "ipython",
    "version": 3
   },
   "file_extension": ".py",
   "mimetype": "text/x-python",
   "name": "python",
   "nbconvert_exporter": "python",
   "pygments_lexer": "ipython3",
   "version": "3.10.8"
  },
  "orig_nbformat": 4,
  "vscode": {
   "interpreter": {
    "hash": "a93cbcc8f689737a56379ee2b682729639c657947f027c47bdf18bc4994fa06e"
   }
  }
 },
 "nbformat": 4,
 "nbformat_minor": 2
}
